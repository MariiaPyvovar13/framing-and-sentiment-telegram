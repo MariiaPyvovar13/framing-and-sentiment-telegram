{
 "cells": [
  {
   "cell_type": "markdown",
   "id": "04278307",
   "metadata": {
    "id": "04278307"
   },
   "source": [
    "# Data Preprocessing"
   ]
  },
  {
   "cell_type": "code",
   "execution_count": 112,
   "outputs": [
    {
     "name": "stdout",
     "output_type": "stream",
     "text": [
      "Requirement already satisfied: pip in /Applications/anaconda3/lib/python3.11/site-packages (25.1.1)\r\n",
      "Requirement already satisfied: fasttext in /Applications/anaconda3/lib/python3.11/site-packages (0.9.3)\r\n",
      "Requirement already satisfied: pybind11>=2.2 in /Applications/anaconda3/lib/python3.11/site-packages (from fasttext) (2.13.6)\r\n",
      "Requirement already satisfied: setuptools>=0.7.0 in /Applications/anaconda3/lib/python3.11/site-packages (from fasttext) (68.0.0)\r\n",
      "Requirement already satisfied: numpy in /Applications/anaconda3/lib/python3.11/site-packages (from fasttext) (1.24.4)\r\n",
      "Requirement already satisfied: emoji in /Applications/anaconda3/lib/python3.11/site-packages (0.6.0)\r\n",
      "Requirement already satisfied: pandas in /Applications/anaconda3/lib/python3.11/site-packages (1.5.3)\r\n",
      "Requirement already satisfied: emoji in /Applications/anaconda3/lib/python3.11/site-packages (0.6.0)\r\n",
      "Requirement already satisfied: openpyxl in /Applications/anaconda3/lib/python3.11/site-packages (3.0.10)\r\n",
      "Requirement already satisfied: python-dateutil>=2.8.1 in /Applications/anaconda3/lib/python3.11/site-packages (from pandas) (2.8.2)\r\n",
      "Requirement already satisfied: pytz>=2020.1 in /Applications/anaconda3/lib/python3.11/site-packages (from pandas) (2023.3.post1)\r\n",
      "Requirement already satisfied: numpy>=1.21.0 in /Applications/anaconda3/lib/python3.11/site-packages (from pandas) (1.24.4)\r\n",
      "Requirement already satisfied: et_xmlfile in /Applications/anaconda3/lib/python3.11/site-packages (from openpyxl) (1.1.0)\r\n",
      "Requirement already satisfied: six>=1.5 in /Applications/anaconda3/lib/python3.11/site-packages (from python-dateutil>=2.8.1->pandas) (1.16.0)\r\n"
     ]
    }
   ],
   "source": [
    "! pip install --upgrade pip\n",
    "! pip install fasttext\n",
    "! pip install emoji\n",
    "! pip install pandas emoji openpyxl"
   ],
   "metadata": {
    "collapsed": false,
    "ExecuteTime": {
     "end_time": "2025-07-04T08:25:29.791738Z",
     "start_time": "2025-07-04T08:25:26.777325Z"
    }
   },
   "id": "e1dd8b002725b9c"
  },
  {
   "cell_type": "markdown",
   "source": [
    "To identify the language of each Telegram post, I applied automatic language detection using a pre-trained fastText model (lid.176.bin), which supports 176 languages. This was necessary to filter and classify posts as Russian, Ukrainian. Before applying language detection, I cleaned the data to avoid errors caused by empty or short texts."
   ],
   "metadata": {
    "collapsed": false
   },
   "id": "7196896fff12c0cb"
  },
  {
   "cell_type": "code",
   "execution_count": 113,
   "outputs": [],
   "source": [
    "import fasttext\n",
    "import pandas as pd\n",
    "import re\n",
    "import emoji"
   ],
   "metadata": {
    "collapsed": false,
    "ExecuteTime": {
     "end_time": "2025-07-04T08:25:29.828681Z",
     "start_time": "2025-07-04T08:25:29.827812Z"
    }
   },
   "id": "45ad20bbad8e6180"
  },
  {
   "cell_type": "code",
   "execution_count": 114,
   "outputs": [],
   "source": [
    "# Loading the language detection model\n",
    "lang_model = fasttext.load_model(\"data/lid.176.ftz\")\n",
    "\n",
    "# Defining language detection function\n",
    "def detect_language(text):\n",
    "    if not isinstance(text, str) or len(text.strip()) < 10:\n",
    "        return \"unknown\"\n",
    "    prediction = lang_model.predict(text.replace('\\n', ' '), k=1)\n",
    "    return prediction[0][0].replace(\"__label__\", \"\")"
   ],
   "metadata": {
    "collapsed": false,
    "ExecuteTime": {
     "end_time": "2025-07-04T08:25:29.909169Z",
     "start_time": "2025-07-04T08:25:29.827938Z"
    }
   },
   "id": "94f35526b56f8247"
  },
  {
   "cell_type": "code",
   "execution_count": 115,
   "outputs": [],
   "source": [
    "df_ko = pd.read_csv(\"data/ua/Posts_ko.csv\")\n",
    "df_ds = pd.read_csv(\"data/ua/Posts_ds.csv\")\n",
    "df_uo = pd.read_csv(\"data/ua/Posts_uo.csv\")\n",
    "df_no = pd.read_csv(\"data/ua/Posts_no.csv\")\n",
    "df_dm = pd.read_csv(\"data/ru/Posts_dm.csv\")\n",
    "df_cl = pd.read_csv(\"data/ru/Posts_cl.csv\")\n",
    "df_re = pd.read_csv(\"data/ru/Posts_re.csv\")"
   ],
   "metadata": {
    "collapsed": false,
    "ExecuteTime": {
     "end_time": "2025-07-04T08:25:30.337673Z",
     "start_time": "2025-07-04T08:25:29.927689Z"
    }
   },
   "id": "684e005f79937161"
  },
  {
   "cell_type": "code",
   "execution_count": 116,
   "outputs": [],
   "source": [
    "df_ko = df_ko[df_ko[\"text\"].notna()]\n",
    "df_ko[\"language\"] = df_ko[\"text\"].apply(detect_language)"
   ],
   "metadata": {
    "collapsed": false,
    "ExecuteTime": {
     "end_time": "2025-07-04T08:25:30.418367Z",
     "start_time": "2025-07-04T08:25:30.377780Z"
    }
   },
   "id": "6e32ae01b4de1b49"
  },
  {
   "cell_type": "code",
   "execution_count": 117,
   "outputs": [
    {
     "data": {
      "text/plain": "     post_id                       date  \\\n0      21462  2025-03-13 21:41:55+00:00   \n1      21461  2025-03-13 18:46:49+00:00   \n2      21460  2025-03-13 17:03:33+00:00   \n3      21459  2025-03-13 13:48:11+00:00   \n4      21458  2025-03-13 12:20:54+00:00   \n..       ...                        ...   \n175    21283  2025-02-15 07:38:48+00:00   \n176    21282  2025-02-14 23:45:47+00:00   \n177    21281  2025-02-14 12:58:01+00:00   \n178    21280  2025-02-14 12:36:50+00:00   \n179    21279  2025-02-14 12:16:51+00:00   \n\n                                                  text   views  forwards  \\\n0    **🌊**** **[**36 ОБрМП**](https://t.me/ua_marin...  311822       370   \n1    **🤝 Повністю згодні з думкою наших друзів з РН...  302309       280   \n2    ⚖️ **ЄСПЛ **[**визнав**](https://hudoc.echr.co...  335154       896   \n3    **🔄**** Мапу оновлено\\n**\\n⚔️ Ворог просунувся...  296881       154   \n4    **🟡****Кадри ураження кацапні в Басівці від бі...  371653       557   \n..                                                 ...     ...       ...   \n175  **🇩🇪**** Медіана опитувань перед Парламентськи...  262553       441   \n176  **🔄**** Мапу оновлено\\n**\\n⚔️ Ворог просунувся...  272033       115   \n177  🇷🇺 **Просування кацапів на правому березі річк...  292437       743   \n178  **🕯 В Україну повернули тіла 757 українських Г...  274636       329   \n179  **🇺🇦**** Український боксер Денис Берінчик впе...  253005       314   \n\n        channel_id channel_name language  \n0   -1001469021333  DeepStateUA       uk  \n1   -1001469021333  DeepStateUA       uk  \n2   -1001469021333  DeepStateUA       uk  \n3   -1001469021333  DeepStateUA       uk  \n4   -1001469021333  DeepStateUA       uk  \n..             ...          ...      ...  \n175 -1001469021333  DeepStateUA       uk  \n176 -1001469021333  DeepStateUA       uk  \n177 -1001469021333  DeepStateUA       uk  \n178 -1001469021333  DeepStateUA       uk  \n179 -1001469021333  DeepStateUA       uk  \n\n[179 rows x 8 columns]",
      "text/html": "<div>\n<style scoped>\n    .dataframe tbody tr th:only-of-type {\n        vertical-align: middle;\n    }\n\n    .dataframe tbody tr th {\n        vertical-align: top;\n    }\n\n    .dataframe thead th {\n        text-align: right;\n    }\n</style>\n<table border=\"1\" class=\"dataframe\">\n  <thead>\n    <tr style=\"text-align: right;\">\n      <th></th>\n      <th>post_id</th>\n      <th>date</th>\n      <th>text</th>\n      <th>views</th>\n      <th>forwards</th>\n      <th>channel_id</th>\n      <th>channel_name</th>\n      <th>language</th>\n    </tr>\n  </thead>\n  <tbody>\n    <tr>\n      <th>0</th>\n      <td>21462</td>\n      <td>2025-03-13 21:41:55+00:00</td>\n      <td>**🌊**** **[**36 ОБрМП**](https://t.me/ua_marin...</td>\n      <td>311822</td>\n      <td>370</td>\n      <td>-1001469021333</td>\n      <td>DeepStateUA</td>\n      <td>uk</td>\n    </tr>\n    <tr>\n      <th>1</th>\n      <td>21461</td>\n      <td>2025-03-13 18:46:49+00:00</td>\n      <td>**🤝 Повністю згодні з думкою наших друзів з РН...</td>\n      <td>302309</td>\n      <td>280</td>\n      <td>-1001469021333</td>\n      <td>DeepStateUA</td>\n      <td>uk</td>\n    </tr>\n    <tr>\n      <th>2</th>\n      <td>21460</td>\n      <td>2025-03-13 17:03:33+00:00</td>\n      <td>⚖️ **ЄСПЛ **[**визнав**](https://hudoc.echr.co...</td>\n      <td>335154</td>\n      <td>896</td>\n      <td>-1001469021333</td>\n      <td>DeepStateUA</td>\n      <td>uk</td>\n    </tr>\n    <tr>\n      <th>3</th>\n      <td>21459</td>\n      <td>2025-03-13 13:48:11+00:00</td>\n      <td>**🔄**** Мапу оновлено\\n**\\n⚔️ Ворог просунувся...</td>\n      <td>296881</td>\n      <td>154</td>\n      <td>-1001469021333</td>\n      <td>DeepStateUA</td>\n      <td>uk</td>\n    </tr>\n    <tr>\n      <th>4</th>\n      <td>21458</td>\n      <td>2025-03-13 12:20:54+00:00</td>\n      <td>**🟡****Кадри ураження кацапні в Басівці від бі...</td>\n      <td>371653</td>\n      <td>557</td>\n      <td>-1001469021333</td>\n      <td>DeepStateUA</td>\n      <td>uk</td>\n    </tr>\n    <tr>\n      <th>...</th>\n      <td>...</td>\n      <td>...</td>\n      <td>...</td>\n      <td>...</td>\n      <td>...</td>\n      <td>...</td>\n      <td>...</td>\n      <td>...</td>\n    </tr>\n    <tr>\n      <th>175</th>\n      <td>21283</td>\n      <td>2025-02-15 07:38:48+00:00</td>\n      <td>**🇩🇪**** Медіана опитувань перед Парламентськи...</td>\n      <td>262553</td>\n      <td>441</td>\n      <td>-1001469021333</td>\n      <td>DeepStateUA</td>\n      <td>uk</td>\n    </tr>\n    <tr>\n      <th>176</th>\n      <td>21282</td>\n      <td>2025-02-14 23:45:47+00:00</td>\n      <td>**🔄**** Мапу оновлено\\n**\\n⚔️ Ворог просунувся...</td>\n      <td>272033</td>\n      <td>115</td>\n      <td>-1001469021333</td>\n      <td>DeepStateUA</td>\n      <td>uk</td>\n    </tr>\n    <tr>\n      <th>177</th>\n      <td>21281</td>\n      <td>2025-02-14 12:58:01+00:00</td>\n      <td>🇷🇺 **Просування кацапів на правому березі річк...</td>\n      <td>292437</td>\n      <td>743</td>\n      <td>-1001469021333</td>\n      <td>DeepStateUA</td>\n      <td>uk</td>\n    </tr>\n    <tr>\n      <th>178</th>\n      <td>21280</td>\n      <td>2025-02-14 12:36:50+00:00</td>\n      <td>**🕯 В Україну повернули тіла 757 українських Г...</td>\n      <td>274636</td>\n      <td>329</td>\n      <td>-1001469021333</td>\n      <td>DeepStateUA</td>\n      <td>uk</td>\n    </tr>\n    <tr>\n      <th>179</th>\n      <td>21279</td>\n      <td>2025-02-14 12:16:51+00:00</td>\n      <td>**🇺🇦**** Український боксер Денис Берінчик впе...</td>\n      <td>253005</td>\n      <td>314</td>\n      <td>-1001469021333</td>\n      <td>DeepStateUA</td>\n      <td>uk</td>\n    </tr>\n  </tbody>\n</table>\n<p>179 rows × 8 columns</p>\n</div>"
     },
     "execution_count": 117,
     "metadata": {},
     "output_type": "execute_result"
    }
   ],
   "source": [
    "df_ds = df_ds[df_ds[\"text\"].notna()]\n",
    "df_ds[\"language\"] = df_ds[\"text\"].apply(detect_language)\n",
    "df_ds"
   ],
   "metadata": {
    "collapsed": false,
    "ExecuteTime": {
     "end_time": "2025-07-04T08:25:30.448212Z",
     "start_time": "2025-07-04T08:25:30.438067Z"
    }
   },
   "id": "545d28dd30379db1"
  },
  {
   "cell_type": "code",
   "execution_count": 118,
   "outputs": [
    {
     "data": {
      "text/plain": "      post_id                       date  \\\n0       97026  2025-03-13 21:51:13+00:00   \n1       97025  2025-03-13 21:37:21+00:00   \n2       97024  2025-03-13 21:24:05+00:00   \n3       97023  2025-03-13 21:13:59+00:00   \n4       97022  2025-03-13 21:10:44+00:00   \n...       ...                        ...   \n2090    94787  2025-02-14 07:17:53+00:00   \n2091    94786  2025-02-14 06:40:39+00:00   \n2092    94785  2025-02-14 06:39:25+00:00   \n2093    94784  2025-02-14 06:01:15+00:00   \n2094    94783  2025-02-14 02:57:14+00:00   \n\n                                                   text   views  forwards  \\\n0     ❗️**Трамп не вводив нових санкцій проти рф: їх...  303971       652   \n1     **❗️Завдяки діям Трампа майже всі великі росій...  292042       934   \n2     **❗️Спецпредставника США Келлога відсторонили ...  276603       688   \n3     **❗️США відновлюють постачання Україні далекоб...  274636       656   \n4     **❗️Тиша протрималася недовго: відбулися пуски...  254215       241   \n...                                                 ...     ...       ...   \n2090  **❗️Вночі дрон рф атакував Чорнобильську АЕС, ...  231312      2596   \n2091  **Не ведіться на емоційні гойдалки. Інтереси У...  218032       323   \n2092  **Ціни на ліки офіційно знизять на 30% з 1 бер...  243144       256   \n2093  **❗️Трамп передасть Україні ядерну зброю, якщо...  258946      1286   \n2094  **❗️Загроза балістики — тривога у Києві та у н...  263498         1   \n\n         channel_id channel_name language  \n0    -1001233777422      UaOnlii       uk  \n1    -1001233777422      UaOnlii       uk  \n2    -1001233777422      UaOnlii       uk  \n3    -1001233777422      UaOnlii       uk  \n4    -1001233777422      UaOnlii       uk  \n...             ...          ...      ...  \n2090 -1001233777422      UaOnlii       uk  \n2091 -1001233777422      UaOnlii       uk  \n2092 -1001233777422      UaOnlii       uk  \n2093 -1001233777422      UaOnlii       uk  \n2094 -1001233777422      UaOnlii       uk  \n\n[1831 rows x 8 columns]",
      "text/html": "<div>\n<style scoped>\n    .dataframe tbody tr th:only-of-type {\n        vertical-align: middle;\n    }\n\n    .dataframe tbody tr th {\n        vertical-align: top;\n    }\n\n    .dataframe thead th {\n        text-align: right;\n    }\n</style>\n<table border=\"1\" class=\"dataframe\">\n  <thead>\n    <tr style=\"text-align: right;\">\n      <th></th>\n      <th>post_id</th>\n      <th>date</th>\n      <th>text</th>\n      <th>views</th>\n      <th>forwards</th>\n      <th>channel_id</th>\n      <th>channel_name</th>\n      <th>language</th>\n    </tr>\n  </thead>\n  <tbody>\n    <tr>\n      <th>0</th>\n      <td>97026</td>\n      <td>2025-03-13 21:51:13+00:00</td>\n      <td>❗️**Трамп не вводив нових санкцій проти рф: їх...</td>\n      <td>303971</td>\n      <td>652</td>\n      <td>-1001233777422</td>\n      <td>UaOnlii</td>\n      <td>uk</td>\n    </tr>\n    <tr>\n      <th>1</th>\n      <td>97025</td>\n      <td>2025-03-13 21:37:21+00:00</td>\n      <td>**❗️Завдяки діям Трампа майже всі великі росій...</td>\n      <td>292042</td>\n      <td>934</td>\n      <td>-1001233777422</td>\n      <td>UaOnlii</td>\n      <td>uk</td>\n    </tr>\n    <tr>\n      <th>2</th>\n      <td>97024</td>\n      <td>2025-03-13 21:24:05+00:00</td>\n      <td>**❗️Спецпредставника США Келлога відсторонили ...</td>\n      <td>276603</td>\n      <td>688</td>\n      <td>-1001233777422</td>\n      <td>UaOnlii</td>\n      <td>uk</td>\n    </tr>\n    <tr>\n      <th>3</th>\n      <td>97023</td>\n      <td>2025-03-13 21:13:59+00:00</td>\n      <td>**❗️США відновлюють постачання Україні далекоб...</td>\n      <td>274636</td>\n      <td>656</td>\n      <td>-1001233777422</td>\n      <td>UaOnlii</td>\n      <td>uk</td>\n    </tr>\n    <tr>\n      <th>4</th>\n      <td>97022</td>\n      <td>2025-03-13 21:10:44+00:00</td>\n      <td>**❗️Тиша протрималася недовго: відбулися пуски...</td>\n      <td>254215</td>\n      <td>241</td>\n      <td>-1001233777422</td>\n      <td>UaOnlii</td>\n      <td>uk</td>\n    </tr>\n    <tr>\n      <th>...</th>\n      <td>...</td>\n      <td>...</td>\n      <td>...</td>\n      <td>...</td>\n      <td>...</td>\n      <td>...</td>\n      <td>...</td>\n      <td>...</td>\n    </tr>\n    <tr>\n      <th>2090</th>\n      <td>94787</td>\n      <td>2025-02-14 07:17:53+00:00</td>\n      <td>**❗️Вночі дрон рф атакував Чорнобильську АЕС, ...</td>\n      <td>231312</td>\n      <td>2596</td>\n      <td>-1001233777422</td>\n      <td>UaOnlii</td>\n      <td>uk</td>\n    </tr>\n    <tr>\n      <th>2091</th>\n      <td>94786</td>\n      <td>2025-02-14 06:40:39+00:00</td>\n      <td>**Не ведіться на емоційні гойдалки. Інтереси У...</td>\n      <td>218032</td>\n      <td>323</td>\n      <td>-1001233777422</td>\n      <td>UaOnlii</td>\n      <td>uk</td>\n    </tr>\n    <tr>\n      <th>2092</th>\n      <td>94785</td>\n      <td>2025-02-14 06:39:25+00:00</td>\n      <td>**Ціни на ліки офіційно знизять на 30% з 1 бер...</td>\n      <td>243144</td>\n      <td>256</td>\n      <td>-1001233777422</td>\n      <td>UaOnlii</td>\n      <td>uk</td>\n    </tr>\n    <tr>\n      <th>2093</th>\n      <td>94784</td>\n      <td>2025-02-14 06:01:15+00:00</td>\n      <td>**❗️Трамп передасть Україні ядерну зброю, якщо...</td>\n      <td>258946</td>\n      <td>1286</td>\n      <td>-1001233777422</td>\n      <td>UaOnlii</td>\n      <td>uk</td>\n    </tr>\n    <tr>\n      <th>2094</th>\n      <td>94783</td>\n      <td>2025-02-14 02:57:14+00:00</td>\n      <td>**❗️Загроза балістики — тривога у Києві та у н...</td>\n      <td>263498</td>\n      <td>1</td>\n      <td>-1001233777422</td>\n      <td>UaOnlii</td>\n      <td>uk</td>\n    </tr>\n  </tbody>\n</table>\n<p>1831 rows × 8 columns</p>\n</div>"
     },
     "execution_count": 118,
     "metadata": {},
     "output_type": "execute_result"
    }
   ],
   "source": [
    "df_uo = df_uo[df_uo[\"text\"].notna()]\n",
    "df_uo[\"language\"] = df_uo[\"text\"].apply(detect_language)\n",
    "df_uo"
   ],
   "metadata": {
    "collapsed": false,
    "ExecuteTime": {
     "end_time": "2025-07-04T08:25:30.564062Z",
     "start_time": "2025-07-04T08:25:30.448497Z"
    }
   },
   "id": "1401e80f22382cb5"
  },
  {
   "cell_type": "code",
   "execution_count": 119,
   "outputs": [
    {
     "data": {
      "text/plain": "     post_id                       date  \\\n0      53962  2025-03-13 21:52:57+00:00   \n1      53961  2025-03-13 21:33:51+00:00   \n2      53960  2025-03-13 19:42:14+00:00   \n3      53959  2025-03-13 17:12:42+00:00   \n4      53958  2025-03-13 15:59:01+00:00   \n..       ...                        ...   \n686    53258  2025-02-14 09:46:22+00:00   \n695    53249  2025-02-14 09:21:29+00:00   \n696    53248  2025-02-14 08:19:22+00:00   \n697    53247  2025-02-14 07:20:17+00:00   \n698    53246  2025-02-14 06:40:39+00:00   \n\n                                                  text    views  forwards  \\\n0    Головне станом на зараз: \\n\\n• Канада [виділил...  52034.0      53.0   \n1    NBC News: спецпредставника США Келлога [відсто...  55178.0     514.0   \n2    Зеленський заявив, що путін готує відмову від ...  55562.0     179.0   \n3    Трамп заявив, що путін зробив \"дуже багатообіц...  56554.0     146.0   \n4    путін вимагає гарантій, що під час 30-денного ...  58506.0     747.0   \n..                                                 ...      ...       ...   \n686  Суспільне: Україна [доопрацювала](https://susp...  48756.0     133.0   \n695  З Днем всіх закоханих! Надішліть валентинку св...  51155.0     998.0   \n696  \"Дія\" до Дня всіх закоханих [презентувала](htt...  55985.0    1490.0   \n697  російський безпілотник влучив по саркофагу Чор...  55546.0    1215.0   \n698  Віцепрезидент США Джей Ді Венс [пригрозив](htt...  52090.0     354.0   \n\n        channel_id channel_name language  \n0   -1001134948258     novinach       uk  \n1   -1001134948258     novinach       uk  \n2   -1001134948258     novinach       uk  \n3   -1001134948258     novinach       uk  \n4   -1001134948258     novinach       uk  \n..             ...          ...      ...  \n686 -1001134948258     novinach       uk  \n695 -1001134948258     novinach       uk  \n696 -1001134948258     novinach       uk  \n697 -1001134948258     novinach       uk  \n698 -1001134948258     novinach       uk  \n\n[571 rows x 8 columns]",
      "text/html": "<div>\n<style scoped>\n    .dataframe tbody tr th:only-of-type {\n        vertical-align: middle;\n    }\n\n    .dataframe tbody tr th {\n        vertical-align: top;\n    }\n\n    .dataframe thead th {\n        text-align: right;\n    }\n</style>\n<table border=\"1\" class=\"dataframe\">\n  <thead>\n    <tr style=\"text-align: right;\">\n      <th></th>\n      <th>post_id</th>\n      <th>date</th>\n      <th>text</th>\n      <th>views</th>\n      <th>forwards</th>\n      <th>channel_id</th>\n      <th>channel_name</th>\n      <th>language</th>\n    </tr>\n  </thead>\n  <tbody>\n    <tr>\n      <th>0</th>\n      <td>53962</td>\n      <td>2025-03-13 21:52:57+00:00</td>\n      <td>Головне станом на зараз: \\n\\n• Канада [виділил...</td>\n      <td>52034.0</td>\n      <td>53.0</td>\n      <td>-1001134948258</td>\n      <td>novinach</td>\n      <td>uk</td>\n    </tr>\n    <tr>\n      <th>1</th>\n      <td>53961</td>\n      <td>2025-03-13 21:33:51+00:00</td>\n      <td>NBC News: спецпредставника США Келлога [відсто...</td>\n      <td>55178.0</td>\n      <td>514.0</td>\n      <td>-1001134948258</td>\n      <td>novinach</td>\n      <td>uk</td>\n    </tr>\n    <tr>\n      <th>2</th>\n      <td>53960</td>\n      <td>2025-03-13 19:42:14+00:00</td>\n      <td>Зеленський заявив, що путін готує відмову від ...</td>\n      <td>55562.0</td>\n      <td>179.0</td>\n      <td>-1001134948258</td>\n      <td>novinach</td>\n      <td>uk</td>\n    </tr>\n    <tr>\n      <th>3</th>\n      <td>53959</td>\n      <td>2025-03-13 17:12:42+00:00</td>\n      <td>Трамп заявив, що путін зробив \"дуже багатообіц...</td>\n      <td>56554.0</td>\n      <td>146.0</td>\n      <td>-1001134948258</td>\n      <td>novinach</td>\n      <td>uk</td>\n    </tr>\n    <tr>\n      <th>4</th>\n      <td>53958</td>\n      <td>2025-03-13 15:59:01+00:00</td>\n      <td>путін вимагає гарантій, що під час 30-денного ...</td>\n      <td>58506.0</td>\n      <td>747.0</td>\n      <td>-1001134948258</td>\n      <td>novinach</td>\n      <td>uk</td>\n    </tr>\n    <tr>\n      <th>...</th>\n      <td>...</td>\n      <td>...</td>\n      <td>...</td>\n      <td>...</td>\n      <td>...</td>\n      <td>...</td>\n      <td>...</td>\n      <td>...</td>\n    </tr>\n    <tr>\n      <th>686</th>\n      <td>53258</td>\n      <td>2025-02-14 09:46:22+00:00</td>\n      <td>Суспільне: Україна [доопрацювала](https://susp...</td>\n      <td>48756.0</td>\n      <td>133.0</td>\n      <td>-1001134948258</td>\n      <td>novinach</td>\n      <td>uk</td>\n    </tr>\n    <tr>\n      <th>695</th>\n      <td>53249</td>\n      <td>2025-02-14 09:21:29+00:00</td>\n      <td>З Днем всіх закоханих! Надішліть валентинку св...</td>\n      <td>51155.0</td>\n      <td>998.0</td>\n      <td>-1001134948258</td>\n      <td>novinach</td>\n      <td>uk</td>\n    </tr>\n    <tr>\n      <th>696</th>\n      <td>53248</td>\n      <td>2025-02-14 08:19:22+00:00</td>\n      <td>\"Дія\" до Дня всіх закоханих [презентувала](htt...</td>\n      <td>55985.0</td>\n      <td>1490.0</td>\n      <td>-1001134948258</td>\n      <td>novinach</td>\n      <td>uk</td>\n    </tr>\n    <tr>\n      <th>697</th>\n      <td>53247</td>\n      <td>2025-02-14 07:20:17+00:00</td>\n      <td>російський безпілотник влучив по саркофагу Чор...</td>\n      <td>55546.0</td>\n      <td>1215.0</td>\n      <td>-1001134948258</td>\n      <td>novinach</td>\n      <td>uk</td>\n    </tr>\n    <tr>\n      <th>698</th>\n      <td>53246</td>\n      <td>2025-02-14 06:40:39+00:00</td>\n      <td>Віцепрезидент США Джей Ді Венс [пригрозив](htt...</td>\n      <td>52090.0</td>\n      <td>354.0</td>\n      <td>-1001134948258</td>\n      <td>novinach</td>\n      <td>uk</td>\n    </tr>\n  </tbody>\n</table>\n<p>571 rows × 8 columns</p>\n</div>"
     },
     "execution_count": 119,
     "metadata": {},
     "output_type": "execute_result"
    }
   ],
   "source": [
    "df_no = df_no[df_no[\"text\"].notna()]\n",
    "df_no[\"language\"] = df_no[\"text\"].apply(detect_language)\n",
    "df_no"
   ],
   "metadata": {
    "collapsed": false,
    "ExecuteTime": {
     "end_time": "2025-07-04T08:25:30.590862Z",
     "start_time": "2025-07-04T08:25:30.545764Z"
    }
   },
   "id": "6a48dcb45c5028e2"
  },
  {
   "cell_type": "code",
   "execution_count": 120,
   "outputs": [
    {
     "data": {
      "text/plain": "      post_id                       date  \\\n0       66717  2025-03-13 20:03:47+00:00   \n1       66716  2025-03-13 19:50:18+00:00   \n2       66715  2025-03-13 19:40:59+00:00   \n3       66714  2025-03-13 19:08:55+00:00   \n5       66712  2025-03-13 19:01:43+00:00   \n...       ...                        ...   \n2170    64517  2025-02-14 06:08:24+00:00   \n2171    64516  2025-02-14 04:31:56+00:00   \n2172    64515  2025-02-14 04:20:56+00:00   \n2173    64514  2025-02-14 03:43:50+00:00   \n2174    64513  2025-02-14 03:43:48+00:00   \n\n                                                   text     views  forwards  \\\n0     «…Коль в верхах большие лица\\nНе нашли для мир...  352222.0     275.0   \n1     **✨**** Сбор в** **Курскую область! ****✨****\\...  553973.0      56.0   \n2     **Курская область. Суджа**, **кадры **[**Групп...  418278.0    1029.0   \n3     [**Информация**](https://t.me/dva_majors/66712...  405044.0    4466.0   \n5     🔞 **Всем бойцам на передовой и в прифронтовой ...  315548.0    5767.0   \n...                                                 ...       ...       ...   \n2170  Началась подготовка к продвижению Залужного в ...  314479.0    1330.0   \n2171  **Переговорный **[**процесс**](https://t.me/ne...  318387.0     590.0   \n2172  **Минобороны России:**\\n\\nВ течение прошедшей ...  306357.0     240.0   \n2173  **#Сводка**** на утро 14 февраля 2025 года**\\n...  629203.0     853.0   \n2174  **ПОДЪЁМ!**\\n\\n🖋🎵Здравствуйте, дорогие Майоры!...  301139.0     277.0   \n\n         channel_id channel_name language  \n0    -1001513431778   dva_majors       ru  \n1    -1001513431778   dva_majors       ru  \n2    -1001513431778   dva_majors       ru  \n3    -1001513431778   dva_majors       ru  \n5    -1001513431778   dva_majors       ru  \n...             ...          ...      ...  \n2170 -1001513431778   dva_majors       ru  \n2171 -1001513431778   dva_majors       ru  \n2172 -1001513431778   dva_majors       ru  \n2173 -1001513431778   dva_majors       ru  \n2174 -1001513431778   dva_majors       ru  \n\n[1365 rows x 8 columns]",
      "text/html": "<div>\n<style scoped>\n    .dataframe tbody tr th:only-of-type {\n        vertical-align: middle;\n    }\n\n    .dataframe tbody tr th {\n        vertical-align: top;\n    }\n\n    .dataframe thead th {\n        text-align: right;\n    }\n</style>\n<table border=\"1\" class=\"dataframe\">\n  <thead>\n    <tr style=\"text-align: right;\">\n      <th></th>\n      <th>post_id</th>\n      <th>date</th>\n      <th>text</th>\n      <th>views</th>\n      <th>forwards</th>\n      <th>channel_id</th>\n      <th>channel_name</th>\n      <th>language</th>\n    </tr>\n  </thead>\n  <tbody>\n    <tr>\n      <th>0</th>\n      <td>66717</td>\n      <td>2025-03-13 20:03:47+00:00</td>\n      <td>«…Коль в верхах большие лица\\nНе нашли для мир...</td>\n      <td>352222.0</td>\n      <td>275.0</td>\n      <td>-1001513431778</td>\n      <td>dva_majors</td>\n      <td>ru</td>\n    </tr>\n    <tr>\n      <th>1</th>\n      <td>66716</td>\n      <td>2025-03-13 19:50:18+00:00</td>\n      <td>**✨**** Сбор в** **Курскую область! ****✨****\\...</td>\n      <td>553973.0</td>\n      <td>56.0</td>\n      <td>-1001513431778</td>\n      <td>dva_majors</td>\n      <td>ru</td>\n    </tr>\n    <tr>\n      <th>2</th>\n      <td>66715</td>\n      <td>2025-03-13 19:40:59+00:00</td>\n      <td>**Курская область. Суджа**, **кадры **[**Групп...</td>\n      <td>418278.0</td>\n      <td>1029.0</td>\n      <td>-1001513431778</td>\n      <td>dva_majors</td>\n      <td>ru</td>\n    </tr>\n    <tr>\n      <th>3</th>\n      <td>66714</td>\n      <td>2025-03-13 19:08:55+00:00</td>\n      <td>[**Информация**](https://t.me/dva_majors/66712...</td>\n      <td>405044.0</td>\n      <td>4466.0</td>\n      <td>-1001513431778</td>\n      <td>dva_majors</td>\n      <td>ru</td>\n    </tr>\n    <tr>\n      <th>5</th>\n      <td>66712</td>\n      <td>2025-03-13 19:01:43+00:00</td>\n      <td>🔞 **Всем бойцам на передовой и в прифронтовой ...</td>\n      <td>315548.0</td>\n      <td>5767.0</td>\n      <td>-1001513431778</td>\n      <td>dva_majors</td>\n      <td>ru</td>\n    </tr>\n    <tr>\n      <th>...</th>\n      <td>...</td>\n      <td>...</td>\n      <td>...</td>\n      <td>...</td>\n      <td>...</td>\n      <td>...</td>\n      <td>...</td>\n      <td>...</td>\n    </tr>\n    <tr>\n      <th>2170</th>\n      <td>64517</td>\n      <td>2025-02-14 06:08:24+00:00</td>\n      <td>Началась подготовка к продвижению Залужного в ...</td>\n      <td>314479.0</td>\n      <td>1330.0</td>\n      <td>-1001513431778</td>\n      <td>dva_majors</td>\n      <td>ru</td>\n    </tr>\n    <tr>\n      <th>2171</th>\n      <td>64516</td>\n      <td>2025-02-14 04:31:56+00:00</td>\n      <td>**Переговорный **[**процесс**](https://t.me/ne...</td>\n      <td>318387.0</td>\n      <td>590.0</td>\n      <td>-1001513431778</td>\n      <td>dva_majors</td>\n      <td>ru</td>\n    </tr>\n    <tr>\n      <th>2172</th>\n      <td>64515</td>\n      <td>2025-02-14 04:20:56+00:00</td>\n      <td>**Минобороны России:**\\n\\nВ течение прошедшей ...</td>\n      <td>306357.0</td>\n      <td>240.0</td>\n      <td>-1001513431778</td>\n      <td>dva_majors</td>\n      <td>ru</td>\n    </tr>\n    <tr>\n      <th>2173</th>\n      <td>64514</td>\n      <td>2025-02-14 03:43:50+00:00</td>\n      <td>**#Сводка**** на утро 14 февраля 2025 года**\\n...</td>\n      <td>629203.0</td>\n      <td>853.0</td>\n      <td>-1001513431778</td>\n      <td>dva_majors</td>\n      <td>ru</td>\n    </tr>\n    <tr>\n      <th>2174</th>\n      <td>64513</td>\n      <td>2025-02-14 03:43:48+00:00</td>\n      <td>**ПОДЪЁМ!**\\n\\n🖋🎵Здравствуйте, дорогие Майоры!...</td>\n      <td>301139.0</td>\n      <td>277.0</td>\n      <td>-1001513431778</td>\n      <td>dva_majors</td>\n      <td>ru</td>\n    </tr>\n  </tbody>\n</table>\n<p>1365 rows × 8 columns</p>\n</div>"
     },
     "execution_count": 120,
     "metadata": {},
     "output_type": "execute_result"
    }
   ],
   "source": [
    "df_dm = df_dm[df_dm[\"text\"].notna()]\n",
    "df_dm[\"language\"] = df_dm[\"text\"].apply(detect_language)\n",
    "df_dm"
   ],
   "metadata": {
    "collapsed": false,
    "ExecuteTime": {
     "end_time": "2025-07-04T08:25:30.752318Z",
     "start_time": "2025-07-04T08:25:30.607975Z"
    }
   },
   "id": "224fe6573515d139"
  },
  {
   "cell_type": "code",
   "execution_count": 121,
   "outputs": [
    {
     "data": {
      "text/plain": "      post_id                       date  \\\n0      157779  2025-03-13 23:20:52+00:00   \n1      157778  2025-03-13 23:12:01+00:00   \n2      157777  2025-03-13 22:23:01+00:00   \n4      157775  2025-03-13 22:11:29+00:00   \n5      157774  2025-03-13 21:34:33+00:00   \n...       ...                        ...   \n3198   154532  2025-02-14 03:13:01+00:00   \n3200   154530  2025-02-14 02:10:15+00:00   \n3201   154529  2025-02-14 01:36:01+00:00   \n3202   154528  2025-02-14 00:33:01+00:00   \n3212   154518  2025-02-14 00:03:01+00:00   \n\n                                                   text     views  forwards  \\\n0     О тех, кто занимался военными преступлениями н...  253245.0     210.0   \n1     [Операторы](https://t.me/mod_russia/50058) FPV...  246294.0      56.0   \n2     **Европейский Союз очень и очень противный \\nЯ...  250403.0     492.0   \n4     **Очередная самоделка с Покровского направлени...  254333.0     505.0   \n5     Путин провел телефонные переговоры с бин Салма...  271850.0     158.0   \n...                                                 ...       ...       ...   \n3198  Дроноводы «Рубикона» уничтожили бронированную ...  196734.0      78.0   \n3200  **⠀**\\n**🔴**** ** **Свидетельства вернувшихся ...  187674.0     335.0   \n3201  Новый иранский реактивный БПЛА-камикадзе \"Хали...  188367.0     231.0   \n3202  В районе Великой Новосёлки наши парни с 305 бр...  190817.0     110.0   \n3212  Z - в зоне проведения Специальной Военной Опер...  186356.0      43.0   \n\n         channel_id  channel_name language  \n0    -1001101806611  boris_rozhin       ru  \n1    -1001101806611  boris_rozhin       ru  \n2    -1001101806611  boris_rozhin       ru  \n4    -1001101806611  boris_rozhin       ru  \n5    -1001101806611  boris_rozhin       ru  \n...             ...           ...      ...  \n3198 -1001101806611  boris_rozhin       ru  \n3200 -1001101806611  boris_rozhin       ru  \n3201 -1001101806611  boris_rozhin       ru  \n3202 -1001101806611  boris_rozhin       ru  \n3212 -1001101806611  boris_rozhin       ru  \n\n[2067 rows x 8 columns]",
      "text/html": "<div>\n<style scoped>\n    .dataframe tbody tr th:only-of-type {\n        vertical-align: middle;\n    }\n\n    .dataframe tbody tr th {\n        vertical-align: top;\n    }\n\n    .dataframe thead th {\n        text-align: right;\n    }\n</style>\n<table border=\"1\" class=\"dataframe\">\n  <thead>\n    <tr style=\"text-align: right;\">\n      <th></th>\n      <th>post_id</th>\n      <th>date</th>\n      <th>text</th>\n      <th>views</th>\n      <th>forwards</th>\n      <th>channel_id</th>\n      <th>channel_name</th>\n      <th>language</th>\n    </tr>\n  </thead>\n  <tbody>\n    <tr>\n      <th>0</th>\n      <td>157779</td>\n      <td>2025-03-13 23:20:52+00:00</td>\n      <td>О тех, кто занимался военными преступлениями н...</td>\n      <td>253245.0</td>\n      <td>210.0</td>\n      <td>-1001101806611</td>\n      <td>boris_rozhin</td>\n      <td>ru</td>\n    </tr>\n    <tr>\n      <th>1</th>\n      <td>157778</td>\n      <td>2025-03-13 23:12:01+00:00</td>\n      <td>[Операторы](https://t.me/mod_russia/50058) FPV...</td>\n      <td>246294.0</td>\n      <td>56.0</td>\n      <td>-1001101806611</td>\n      <td>boris_rozhin</td>\n      <td>ru</td>\n    </tr>\n    <tr>\n      <th>2</th>\n      <td>157777</td>\n      <td>2025-03-13 22:23:01+00:00</td>\n      <td>**Европейский Союз очень и очень противный \\nЯ...</td>\n      <td>250403.0</td>\n      <td>492.0</td>\n      <td>-1001101806611</td>\n      <td>boris_rozhin</td>\n      <td>ru</td>\n    </tr>\n    <tr>\n      <th>4</th>\n      <td>157775</td>\n      <td>2025-03-13 22:11:29+00:00</td>\n      <td>**Очередная самоделка с Покровского направлени...</td>\n      <td>254333.0</td>\n      <td>505.0</td>\n      <td>-1001101806611</td>\n      <td>boris_rozhin</td>\n      <td>ru</td>\n    </tr>\n    <tr>\n      <th>5</th>\n      <td>157774</td>\n      <td>2025-03-13 21:34:33+00:00</td>\n      <td>Путин провел телефонные переговоры с бин Салма...</td>\n      <td>271850.0</td>\n      <td>158.0</td>\n      <td>-1001101806611</td>\n      <td>boris_rozhin</td>\n      <td>ru</td>\n    </tr>\n    <tr>\n      <th>...</th>\n      <td>...</td>\n      <td>...</td>\n      <td>...</td>\n      <td>...</td>\n      <td>...</td>\n      <td>...</td>\n      <td>...</td>\n      <td>...</td>\n    </tr>\n    <tr>\n      <th>3198</th>\n      <td>154532</td>\n      <td>2025-02-14 03:13:01+00:00</td>\n      <td>Дроноводы «Рубикона» уничтожили бронированную ...</td>\n      <td>196734.0</td>\n      <td>78.0</td>\n      <td>-1001101806611</td>\n      <td>boris_rozhin</td>\n      <td>ru</td>\n    </tr>\n    <tr>\n      <th>3200</th>\n      <td>154530</td>\n      <td>2025-02-14 02:10:15+00:00</td>\n      <td>**⠀**\\n**🔴**** ** **Свидетельства вернувшихся ...</td>\n      <td>187674.0</td>\n      <td>335.0</td>\n      <td>-1001101806611</td>\n      <td>boris_rozhin</td>\n      <td>ru</td>\n    </tr>\n    <tr>\n      <th>3201</th>\n      <td>154529</td>\n      <td>2025-02-14 01:36:01+00:00</td>\n      <td>Новый иранский реактивный БПЛА-камикадзе \"Хали...</td>\n      <td>188367.0</td>\n      <td>231.0</td>\n      <td>-1001101806611</td>\n      <td>boris_rozhin</td>\n      <td>ru</td>\n    </tr>\n    <tr>\n      <th>3202</th>\n      <td>154528</td>\n      <td>2025-02-14 00:33:01+00:00</td>\n      <td>В районе Великой Новосёлки наши парни с 305 бр...</td>\n      <td>190817.0</td>\n      <td>110.0</td>\n      <td>-1001101806611</td>\n      <td>boris_rozhin</td>\n      <td>ru</td>\n    </tr>\n    <tr>\n      <th>3212</th>\n      <td>154518</td>\n      <td>2025-02-14 00:03:01+00:00</td>\n      <td>Z - в зоне проведения Специальной Военной Опер...</td>\n      <td>186356.0</td>\n      <td>43.0</td>\n      <td>-1001101806611</td>\n      <td>boris_rozhin</td>\n      <td>ru</td>\n    </tr>\n  </tbody>\n</table>\n<p>2067 rows × 8 columns</p>\n</div>"
     },
     "execution_count": 121,
     "metadata": {},
     "output_type": "execute_result"
    }
   ],
   "source": [
    "df_cl = df_cl[df_cl[\"text\"].notna()]\n",
    "df_cl[\"language\"] = df_cl[\"text\"].apply(detect_language)\n",
    "df_cl"
   ],
   "metadata": {
    "collapsed": false,
    "ExecuteTime": {
     "end_time": "2025-07-04T08:25:30.914408Z",
     "start_time": "2025-07-04T08:25:30.751701Z"
    }
   },
   "id": "a5faf76cbff72f92"
  },
  {
   "cell_type": "code",
   "execution_count": 122,
   "outputs": [
    {
     "data": {
      "text/plain": "      post_id                       date  \\\n0       94053  2025-03-13 19:29:58+00:00   \n1       94052  2025-03-13 18:59:58+00:00   \n2       94051  2025-03-13 18:34:58+00:00   \n4       94049  2025-03-13 17:59:58+00:00   \n5       94048  2025-03-13 17:00:31+00:00   \n...       ...                        ...   \n1034    93006  2025-02-14 07:37:59+00:00   \n1035    93005  2025-02-14 07:22:17+00:00   \n1036    93004  2025-02-14 06:20:01+00:00   \n1037    93003  2025-02-14 05:30:07+00:00   \n1038    93002  2025-02-14 05:05:15+00:00   \n\n                                                   text    views  forwards  \\\n0     **Владимир Путин дипломатично расставил акцент...   959162      1495   \n1     **Подготовлены документы на снятие с розыска 1...   959836       925   \n2     **ДУМ РФ и Турция снова признаются в любви дру...  1020364      1215   \n4     **Русская армия формирует новый плацдарм за ка...   903210       675   \n5     **Путин сделал очень многообещающее заявление,...   880199      1130   \n...                                                 ...      ...       ...   \n1034  **Накануне переговоров в Мюнхене Зеленский «шо...   334579      2377   \n1035  **Тайна пирогов раскрыта — ртуть в булочки доб...   292128      2216   \n1036  **США могут отправить войска на Украину, если ...   307165      1787   \n1037  ❗️**«Всем спасибо, президенту Владимиру Владим...   319996      1688   \n1038  ❗️**Русская ПВО за ночь уничтожила 50 вражески...   340607      1512   \n\n         channel_id  channel_name language  \n0    -1001260622817  readovkanews       ru  \n1    -1001260622817  readovkanews       ru  \n2    -1001260622817  readovkanews       ru  \n4    -1001260622817  readovkanews       ru  \n5    -1001260622817  readovkanews       ru  \n...             ...           ...      ...  \n1034 -1001260622817  readovkanews       ru  \n1035 -1001260622817  readovkanews       ru  \n1036 -1001260622817  readovkanews       ru  \n1037 -1001260622817  readovkanews       ru  \n1038 -1001260622817  readovkanews       ru  \n\n[873 rows x 8 columns]",
      "text/html": "<div>\n<style scoped>\n    .dataframe tbody tr th:only-of-type {\n        vertical-align: middle;\n    }\n\n    .dataframe tbody tr th {\n        vertical-align: top;\n    }\n\n    .dataframe thead th {\n        text-align: right;\n    }\n</style>\n<table border=\"1\" class=\"dataframe\">\n  <thead>\n    <tr style=\"text-align: right;\">\n      <th></th>\n      <th>post_id</th>\n      <th>date</th>\n      <th>text</th>\n      <th>views</th>\n      <th>forwards</th>\n      <th>channel_id</th>\n      <th>channel_name</th>\n      <th>language</th>\n    </tr>\n  </thead>\n  <tbody>\n    <tr>\n      <th>0</th>\n      <td>94053</td>\n      <td>2025-03-13 19:29:58+00:00</td>\n      <td>**Владимир Путин дипломатично расставил акцент...</td>\n      <td>959162</td>\n      <td>1495</td>\n      <td>-1001260622817</td>\n      <td>readovkanews</td>\n      <td>ru</td>\n    </tr>\n    <tr>\n      <th>1</th>\n      <td>94052</td>\n      <td>2025-03-13 18:59:58+00:00</td>\n      <td>**Подготовлены документы на снятие с розыска 1...</td>\n      <td>959836</td>\n      <td>925</td>\n      <td>-1001260622817</td>\n      <td>readovkanews</td>\n      <td>ru</td>\n    </tr>\n    <tr>\n      <th>2</th>\n      <td>94051</td>\n      <td>2025-03-13 18:34:58+00:00</td>\n      <td>**ДУМ РФ и Турция снова признаются в любви дру...</td>\n      <td>1020364</td>\n      <td>1215</td>\n      <td>-1001260622817</td>\n      <td>readovkanews</td>\n      <td>ru</td>\n    </tr>\n    <tr>\n      <th>4</th>\n      <td>94049</td>\n      <td>2025-03-13 17:59:58+00:00</td>\n      <td>**Русская армия формирует новый плацдарм за ка...</td>\n      <td>903210</td>\n      <td>675</td>\n      <td>-1001260622817</td>\n      <td>readovkanews</td>\n      <td>ru</td>\n    </tr>\n    <tr>\n      <th>5</th>\n      <td>94048</td>\n      <td>2025-03-13 17:00:31+00:00</td>\n      <td>**Путин сделал очень многообещающее заявление,...</td>\n      <td>880199</td>\n      <td>1130</td>\n      <td>-1001260622817</td>\n      <td>readovkanews</td>\n      <td>ru</td>\n    </tr>\n    <tr>\n      <th>...</th>\n      <td>...</td>\n      <td>...</td>\n      <td>...</td>\n      <td>...</td>\n      <td>...</td>\n      <td>...</td>\n      <td>...</td>\n      <td>...</td>\n    </tr>\n    <tr>\n      <th>1034</th>\n      <td>93006</td>\n      <td>2025-02-14 07:37:59+00:00</td>\n      <td>**Накануне переговоров в Мюнхене Зеленский «шо...</td>\n      <td>334579</td>\n      <td>2377</td>\n      <td>-1001260622817</td>\n      <td>readovkanews</td>\n      <td>ru</td>\n    </tr>\n    <tr>\n      <th>1035</th>\n      <td>93005</td>\n      <td>2025-02-14 07:22:17+00:00</td>\n      <td>**Тайна пирогов раскрыта — ртуть в булочки доб...</td>\n      <td>292128</td>\n      <td>2216</td>\n      <td>-1001260622817</td>\n      <td>readovkanews</td>\n      <td>ru</td>\n    </tr>\n    <tr>\n      <th>1036</th>\n      <td>93004</td>\n      <td>2025-02-14 06:20:01+00:00</td>\n      <td>**США могут отправить войска на Украину, если ...</td>\n      <td>307165</td>\n      <td>1787</td>\n      <td>-1001260622817</td>\n      <td>readovkanews</td>\n      <td>ru</td>\n    </tr>\n    <tr>\n      <th>1037</th>\n      <td>93003</td>\n      <td>2025-02-14 05:30:07+00:00</td>\n      <td>❗️**«Всем спасибо, президенту Владимиру Владим...</td>\n      <td>319996</td>\n      <td>1688</td>\n      <td>-1001260622817</td>\n      <td>readovkanews</td>\n      <td>ru</td>\n    </tr>\n    <tr>\n      <th>1038</th>\n      <td>93002</td>\n      <td>2025-02-14 05:05:15+00:00</td>\n      <td>❗️**Русская ПВО за ночь уничтожила 50 вражески...</td>\n      <td>340607</td>\n      <td>1512</td>\n      <td>-1001260622817</td>\n      <td>readovkanews</td>\n      <td>ru</td>\n    </tr>\n  </tbody>\n</table>\n<p>873 rows × 8 columns</p>\n</div>"
     },
     "execution_count": 122,
     "metadata": {},
     "output_type": "execute_result"
    }
   ],
   "source": [
    "df_re = df_re[df_re[\"text\"].notna()]\n",
    "df_re[\"language\"] = df_re[\"text\"].apply(detect_language)\n",
    "df_re"
   ],
   "metadata": {
    "collapsed": false,
    "ExecuteTime": {
     "end_time": "2025-07-04T08:25:31.017879Z",
     "start_time": "2025-07-04T08:25:30.914664Z"
    }
   },
   "id": "6b0b22e0d5497720"
  },
  {
   "cell_type": "markdown",
   "source": [
    "# Further processing"
   ],
   "metadata": {
    "collapsed": false
   },
   "id": "751de08d466d4c1"
  },
  {
   "cell_type": "markdown",
   "source": [
    "### Removing duplicates"
   ],
   "metadata": {
    "collapsed": false
   },
   "id": "b23903dd257814e1"
  },
  {
   "cell_type": "code",
   "execution_count": 123,
   "outputs": [],
   "source": [
    "df_ko = df_ko.drop_duplicates(subset=\"text\")\n",
    "df_ds = df_ds.drop_duplicates(subset=\"text\")\n",
    "df_uo = df_uo.drop_duplicates(subset=\"text\")\n",
    "df_no = df_no.drop_duplicates(subset=\"text\")\n",
    "df_dm = df_dm.drop_duplicates(subset=\"text\")\n",
    "df_cl = df_cl.drop_duplicates(subset=\"text\")\n",
    "df_re = df_re.drop_duplicates(subset=\"text\")"
   ],
   "metadata": {
    "collapsed": false,
    "ExecuteTime": {
     "end_time": "2025-07-04T08:25:31.040849Z",
     "start_time": "2025-07-04T08:25:31.032115Z"
    }
   },
   "id": "b6d4ed82c7846896"
  },
  {
   "cell_type": "markdown",
   "source": [
    "### Normalizing Whitespace"
   ],
   "metadata": {
    "collapsed": false
   },
   "id": "522916555a9596fc"
  },
  {
   "cell_type": "code",
   "execution_count": 124,
   "outputs": [
    {
     "name": "stderr",
     "output_type": "stream",
     "text": [
      "/var/folders/x9/4vdx7j915qg5pvqlbqynp2dr0000gn/T/ipykernel_94239/156404499.py:3: SettingWithCopyWarning: \n",
      "A value is trying to be set on a copy of a slice from a DataFrame\n",
      "\n",
      "See the caveats in the documentation: https://pandas.pydata.org/pandas-docs/stable/user_guide/indexing.html#returning-a-view-versus-a-copy\n",
      "  df_uo.loc[\"text\"] = df_uo[\"text\"].str.replace(r'\\s+', ' ', regex=True).str.strip()\n",
      "/var/folders/x9/4vdx7j915qg5pvqlbqynp2dr0000gn/T/ipykernel_94239/156404499.py:5: SettingWithCopyWarning: \n",
      "A value is trying to be set on a copy of a slice from a DataFrame\n",
      "\n",
      "See the caveats in the documentation: https://pandas.pydata.org/pandas-docs/stable/user_guide/indexing.html#returning-a-view-versus-a-copy\n",
      "  df_dm.loc[\"text\"] = df_dm[\"text\"].str.replace(r'\\s+', ' ', regex=True).str.strip()\n",
      "/var/folders/x9/4vdx7j915qg5pvqlbqynp2dr0000gn/T/ipykernel_94239/156404499.py:6: SettingWithCopyWarning: \n",
      "A value is trying to be set on a copy of a slice from a DataFrame\n",
      "\n",
      "See the caveats in the documentation: https://pandas.pydata.org/pandas-docs/stable/user_guide/indexing.html#returning-a-view-versus-a-copy\n",
      "  df_cl.loc[\"text\"] = df_cl[\"text\"].str.replace(r'\\s+', ' ', regex=True).str.strip()\n"
     ]
    }
   ],
   "source": [
    "df_ko.loc[\"text\"] = df_ko[\"text\"].str.replace(r'\\s+', ' ', regex=True).str.strip()\n",
    "df_ds.loc[\"text\"] = df_ds[\"text\"].str.replace(r'\\s+', ' ', regex=True).str.strip()\n",
    "df_uo.loc[\"text\"] = df_uo[\"text\"].str.replace(r'\\s+', ' ', regex=True).str.strip()\n",
    "df_no.loc[\"text\"] = df_no[\"text\"].str.replace(r'\\s+', ' ', regex=True).str.strip()\n",
    "df_dm.loc[\"text\"] = df_dm[\"text\"].str.replace(r'\\s+', ' ', regex=True).str.strip()\n",
    "df_cl.loc[\"text\"] = df_cl[\"text\"].str.replace(r'\\s+', ' ', regex=True).str.strip()\n",
    "df_re.loc[\"text\"] = df_re[\"text\"].str.replace(r'\\s+', ' ', regex=True).str.strip()"
   ],
   "metadata": {
    "collapsed": false,
    "ExecuteTime": {
     "end_time": "2025-07-04T08:25:31.192243Z",
     "start_time": "2025-07-04T08:25:31.056289Z"
    }
   },
   "id": "69c460e5baf11c8b"
  },
  {
   "cell_type": "markdown",
   "source": [
    "### Filtering out non relevant posts from Ukrainian telegram channels\n",
    "\n",
    "During the preprocessing stage, it's essential to remove posts that do not contribute meaningfully to the framing analysis. In particular, messages containing terms like \"повітряна тривога\" (air raid alert), \"увага\" (attention), \"відбій тривоги\" (end of alert), or similar phrases are often:\n",
    "\n",
    "Automated system alerts, or\n",
    "\n",
    "Security and public service announcements\n",
    "\n",
    "Such messages typically lack political framing, narrative construction, or propaganda elements. Instead, they serve purely informational or emergency-related purposes and may introduce noise or bias into qualitative, discursive, or sentiment-based analyses.\n",
    "\n",
    "By excluding these entries, the dataset becomes more focused on relevant, communicative content, which strengthens the reliability and interpretability of subsequent framing analysis.\n",
    "\n",
    "\n"
   ],
   "metadata": {
    "collapsed": false
   },
   "id": "4dfbb76cd74c41dc"
  },
  {
   "cell_type": "code",
   "execution_count": 125,
   "outputs": [],
   "source": [
    "system_keywords = r\"повітряна тривога|увага|відбій тривоги|бот|нагадування\"\n",
    "df_ko = df_ko[~df_ko[\"text\"].str.contains(system_keywords, case=False, na=False)]\n",
    "df_ds = df_ds[~df_ds[\"text\"].str.contains(system_keywords, case=False, na=False)]\n",
    "df_uo = df_uo[~df_uo[\"text\"].str.contains(system_keywords, case=False, na=False)]\n",
    "df_no = df_no[~df_no[\"text\"].str.contains(system_keywords, case=False, na=False)]"
   ],
   "metadata": {
    "collapsed": false,
    "ExecuteTime": {
     "end_time": "2025-07-04T08:25:31.264703Z",
     "start_time": "2025-07-04T08:25:31.221140Z"
    }
   },
   "id": "541b8465ebffc588"
  },
  {
   "cell_type": "markdown",
   "source": [
    "### Text Cleaning"
   ],
   "metadata": {
    "collapsed": false
   },
   "id": "5d00776fc4fb001a"
  },
  {
   "cell_type": "code",
   "execution_count": 126,
   "outputs": [],
   "source": [
    "def clean_text(text):\n",
    "    if pd.isnull(text):\n",
    "        return \"\"\n",
    "    text = re.sub(r\"http\\S+|www\\S+|t\\.me\\S+\", \"\", text)  # removing URLs\n",
    "    text = re.sub(r\"@\\w+\", \"\", text)                     # removing mentions\n",
    "    text = re.sub(r\"#\\w+\", \"\", text)                     # removing hashtags\n",
    "    return text"
   ],
   "metadata": {
    "collapsed": false,
    "ExecuteTime": {
     "end_time": "2025-07-04T08:25:31.270330Z",
     "start_time": "2025-07-04T08:25:31.268490Z"
    }
   },
   "id": "6e71ce7cc8f707ce"
  },
  {
   "cell_type": "code",
   "execution_count": 127,
   "outputs": [
    {
     "name": "stderr",
     "output_type": "stream",
     "text": [
      "/var/folders/x9/4vdx7j915qg5pvqlbqynp2dr0000gn/T/ipykernel_94239/1810737360.py:5: SettingWithCopyWarning: \n",
      "A value is trying to be set on a copy of a slice from a DataFrame.\n",
      "Try using .loc[row_indexer,col_indexer] = value instead\n",
      "\n",
      "See the caveats in the documentation: https://pandas.pydata.org/pandas-docs/stable/user_guide/indexing.html#returning-a-view-versus-a-copy\n",
      "  df_dm[\"text\"] = df_dm[\"text\"].apply(clean_text)\n",
      "/var/folders/x9/4vdx7j915qg5pvqlbqynp2dr0000gn/T/ipykernel_94239/1810737360.py:6: SettingWithCopyWarning: \n",
      "A value is trying to be set on a copy of a slice from a DataFrame.\n",
      "Try using .loc[row_indexer,col_indexer] = value instead\n",
      "\n",
      "See the caveats in the documentation: https://pandas.pydata.org/pandas-docs/stable/user_guide/indexing.html#returning-a-view-versus-a-copy\n",
      "  df_cl[\"text\"] = df_cl[\"text\"].apply(clean_text)\n"
     ]
    }
   ],
   "source": [
    "df_ko[\"text\"] = df_ko[\"text\"].apply(clean_text)\n",
    "df_ds[\"text\"] = df_ds[\"text\"].apply(clean_text)\n",
    "df_uo[\"text\"] = df_uo[\"text\"].apply(clean_text)\n",
    "df_no[\"text\"] = df_no[\"text\"].apply(clean_text)\n",
    "df_dm[\"text\"] = df_dm[\"text\"].apply(clean_text)\n",
    "df_cl[\"text\"] = df_cl[\"text\"].apply(clean_text)\n",
    "df_re[\"text\"] = df_re[\"text\"].apply(clean_text)"
   ],
   "metadata": {
    "collapsed": false,
    "ExecuteTime": {
     "end_time": "2025-07-04T08:25:31.358679Z",
     "start_time": "2025-07-04T08:25:31.270900Z"
    }
   },
   "id": "568ae31d0202f1d8"
  },
  {
   "cell_type": "markdown",
   "source": [
    "### Date into separate column"
   ],
   "metadata": {
    "collapsed": false
   },
   "id": "3acb8c68b100b306"
  },
  {
   "cell_type": "code",
   "execution_count": 128,
   "outputs": [
    {
     "name": "stderr",
     "output_type": "stream",
     "text": [
      "/var/folders/x9/4vdx7j915qg5pvqlbqynp2dr0000gn/T/ipykernel_94239/2579442662.py:5: SettingWithCopyWarning: \n",
      "A value is trying to be set on a copy of a slice from a DataFrame.\n",
      "Try using .loc[row_indexer,col_indexer] = value instead\n",
      "\n",
      "See the caveats in the documentation: https://pandas.pydata.org/pandas-docs/stable/user_guide/indexing.html#returning-a-view-versus-a-copy\n",
      "  df_dm[\"date\"] = pd.to_datetime(df_dm[\"date\"], errors=\"coerce\")\n",
      "/var/folders/x9/4vdx7j915qg5pvqlbqynp2dr0000gn/T/ipykernel_94239/2579442662.py:6: SettingWithCopyWarning: \n",
      "A value is trying to be set on a copy of a slice from a DataFrame.\n",
      "Try using .loc[row_indexer,col_indexer] = value instead\n",
      "\n",
      "See the caveats in the documentation: https://pandas.pydata.org/pandas-docs/stable/user_guide/indexing.html#returning-a-view-versus-a-copy\n",
      "  df_cl[\"date\"] = pd.to_datetime(df_cl[\"date\"], errors=\"coerce\")\n",
      "/var/folders/x9/4vdx7j915qg5pvqlbqynp2dr0000gn/T/ipykernel_94239/2579442662.py:12: SettingWithCopyWarning: \n",
      "A value is trying to be set on a copy of a slice from a DataFrame.\n",
      "Try using .loc[row_indexer,col_indexer] = value instead\n",
      "\n",
      "See the caveats in the documentation: https://pandas.pydata.org/pandas-docs/stable/user_guide/indexing.html#returning-a-view-versus-a-copy\n",
      "  df_dm[\"date_only\"] = df_dm[\"date\"].dt.date\n",
      "/var/folders/x9/4vdx7j915qg5pvqlbqynp2dr0000gn/T/ipykernel_94239/2579442662.py:13: SettingWithCopyWarning: \n",
      "A value is trying to be set on a copy of a slice from a DataFrame.\n",
      "Try using .loc[row_indexer,col_indexer] = value instead\n",
      "\n",
      "See the caveats in the documentation: https://pandas.pydata.org/pandas-docs/stable/user_guide/indexing.html#returning-a-view-versus-a-copy\n",
      "  df_cl[\"date_only\"] = df_cl[\"date\"].dt.date\n"
     ]
    }
   ],
   "source": [
    "df_ko[\"date\"] = pd.to_datetime(df_ko[\"date\"], errors=\"coerce\")\n",
    "df_ds[\"date\"] = pd.to_datetime(df_ds[\"date\"], errors=\"coerce\")\n",
    "df_uo[\"date\"] = pd.to_datetime(df_uo[\"date\"], errors=\"coerce\")\n",
    "df_no[\"date\"] = pd.to_datetime(df_no[\"date\"], errors=\"coerce\")\n",
    "df_dm[\"date\"] = pd.to_datetime(df_dm[\"date\"], errors=\"coerce\")\n",
    "df_cl[\"date\"] = pd.to_datetime(df_cl[\"date\"], errors=\"coerce\")\n",
    "df_re[\"date\"] = pd.to_datetime(df_re[\"date\"], errors=\"coerce\")\n",
    "df_ko[\"date_only\"] = df_ko[\"date\"].dt.date\n",
    "df_ds[\"date_only\"] = df_ds[\"date\"].dt.date\n",
    "df_uo[\"date_only\"] = df_uo[\"date\"].dt.date\n",
    "df_no[\"date_only\"] = df_no[\"date\"].dt.date\n",
    "df_dm[\"date_only\"] = df_dm[\"date\"].dt.date\n",
    "df_cl[\"date_only\"] = df_cl[\"date\"].dt.date\n",
    "df_re[\"date_only\"] = df_re[\"date\"].dt.date"
   ],
   "metadata": {
    "collapsed": false,
    "ExecuteTime": {
     "end_time": "2025-07-04T08:25:31.372781Z",
     "start_time": "2025-07-04T08:25:31.370933Z"
    }
   },
   "id": "e0551610afa5cb0e"
  },
  {
   "cell_type": "markdown",
   "source": [
    "### Lowercasing"
   ],
   "metadata": {
    "collapsed": false
   },
   "id": "efd62fc3da5a4e0"
  },
  {
   "cell_type": "code",
   "execution_count": 129,
   "outputs": [
    {
     "name": "stderr",
     "output_type": "stream",
     "text": [
      "/var/folders/x9/4vdx7j915qg5pvqlbqynp2dr0000gn/T/ipykernel_94239/170552554.py:5: SettingWithCopyWarning: \n",
      "A value is trying to be set on a copy of a slice from a DataFrame.\n",
      "Try using .loc[row_indexer,col_indexer] = value instead\n",
      "\n",
      "See the caveats in the documentation: https://pandas.pydata.org/pandas-docs/stable/user_guide/indexing.html#returning-a-view-versus-a-copy\n",
      "  df_dm[\"text\"] = df_dm[\"text\"].str.lower()\n",
      "/var/folders/x9/4vdx7j915qg5pvqlbqynp2dr0000gn/T/ipykernel_94239/170552554.py:6: SettingWithCopyWarning: \n",
      "A value is trying to be set on a copy of a slice from a DataFrame.\n",
      "Try using .loc[row_indexer,col_indexer] = value instead\n",
      "\n",
      "See the caveats in the documentation: https://pandas.pydata.org/pandas-docs/stable/user_guide/indexing.html#returning-a-view-versus-a-copy\n",
      "  df_cl[\"text\"] = df_cl[\"text\"].str.lower()\n"
     ]
    }
   ],
   "source": [
    "df_ko[\"text\"] = df_ko[\"text\"].str.lower()\n",
    "df_ds[\"text\"] = df_ds[\"text\"].str.lower()\n",
    "df_uo[\"text\"] = df_uo[\"text\"].str.lower()\n",
    "df_no[\"text\"] = df_no[\"text\"].str.lower()\n",
    "df_dm[\"text\"] = df_dm[\"text\"].str.lower()\n",
    "df_cl[\"text\"] = df_cl[\"text\"].str.lower()\n",
    "df_re[\"text\"] = df_re[\"text\"].str.lower()"
   ],
   "metadata": {
    "collapsed": false,
    "ExecuteTime": {
     "end_time": "2025-07-04T08:25:31.410104Z",
     "start_time": "2025-07-04T08:25:31.386916Z"
    }
   },
   "id": "f183d56a2ab3c6b9"
  },
  {
   "cell_type": "markdown",
   "source": [
    "# Transforming emotion into a text"
   ],
   "metadata": {
    "collapsed": false
   },
   "id": "f7357466833eac30"
  },
  {
   "cell_type": "code",
   "execution_count": 130,
   "outputs": [],
   "source": [
    "# Function to transform emojis\n",
    "def transform_emojis(text):\n",
    "    if pd.isnull(text):\n",
    "        return \"\"\n",
    "    return emoji.demojize(text, delimiters=(\":\",\" \"))"
   ],
   "metadata": {
    "collapsed": false,
    "ExecuteTime": {
     "end_time": "2025-07-04T08:25:31.410429Z",
     "start_time": "2025-07-04T08:25:31.391832Z"
    }
   },
   "id": "46d944fdc6e2b3c"
  },
  {
   "cell_type": "code",
   "execution_count": 131,
   "outputs": [
    {
     "name": "stderr",
     "output_type": "stream",
     "text": [
      "/var/folders/x9/4vdx7j915qg5pvqlbqynp2dr0000gn/T/ipykernel_94239/1488105709.py:6: SettingWithCopyWarning: \n",
      "A value is trying to be set on a copy of a slice from a DataFrame.\n",
      "Try using .loc[row_indexer,col_indexer] = value instead\n",
      "\n",
      "See the caveats in the documentation: https://pandas.pydata.org/pandas-docs/stable/user_guide/indexing.html#returning-a-view-versus-a-copy\n",
      "  df_dm[\"text_transformed\"] = df_dm[\"text\"].apply(transform_emojis)\n",
      "/var/folders/x9/4vdx7j915qg5pvqlbqynp2dr0000gn/T/ipykernel_94239/1488105709.py:7: SettingWithCopyWarning: \n",
      "A value is trying to be set on a copy of a slice from a DataFrame.\n",
      "Try using .loc[row_indexer,col_indexer] = value instead\n",
      "\n",
      "See the caveats in the documentation: https://pandas.pydata.org/pandas-docs/stable/user_guide/indexing.html#returning-a-view-versus-a-copy\n",
      "  df_cl[\"text_transformed\"] = df_cl[\"text\"].apply(transform_emojis)\n"
     ]
    }
   ],
   "source": [
    "# Applying transformation to the \"text\" column\n",
    "df_ko[\"text_transformed\"] = df_ko[\"text\"].apply(transform_emojis)\n",
    "df_ds[\"text_transformed\"] = df_ds[\"text\"].apply(transform_emojis)\n",
    "df_uo[\"text_transformed\"] = df_uo[\"text\"].apply(transform_emojis)\n",
    "df_no[\"text_transformed\"] = df_no[\"text\"].apply(transform_emojis)\n",
    "df_dm[\"text_transformed\"] = df_dm[\"text\"].apply(transform_emojis)\n",
    "df_cl[\"text_transformed\"] = df_cl[\"text\"].apply(transform_emojis)\n",
    "df_re[\"text_transformed\"] = df_re[\"text\"].apply(transform_emojis)"
   ],
   "metadata": {
    "collapsed": false,
    "ExecuteTime": {
     "end_time": "2025-07-04T08:25:41.370041Z",
     "start_time": "2025-07-04T08:25:31.467889Z"
    }
   },
   "id": "12cff7dcd9198366"
  },
  {
   "cell_type": "markdown",
   "source": [
    "### Saving data to a new file in a folder \"data_clean/\""
   ],
   "metadata": {
    "collapsed": false
   },
   "id": "c9c8f31b1e1295bb"
  },
  {
   "cell_type": "raw",
   "source": [
    "df_ko.to_csv(\"data/data_clean/ua_emoji/Posts_ko_clean.csv\", index=False)\n",
    "df_ds.to_csv(\"data/data_clean/ua_emoji/Posts_ds_clean.csv\", index=False)\n",
    "df_uo.to_csv(\"data/data_clean/ua_emoji/Posts_uo_clean.csv\", index=False)\n",
    "df_no.to_csv(\"data/data_clean/ua_emoji/Posts_no_clean.csv\", index=False)\n",
    "df_dm.to_csv(\"data/data_clean/ru_emoji/Posts_dm_clean.csv\", index=False)\n",
    "df_cl.to_csv(\"data/data_clean/ru_emoji/Posts_cl_clean.csv\", index=False)\n",
    "df_re.to_csv(\"data/data_clean/ru_emoji/Posts_re_clean.csv\", index=False)"
   ],
   "metadata": {
    "collapsed": false
   },
   "id": "249059eccd3ccdfc"
  }
 ],
 "metadata": {
  "colab": {
   "provenance": []
  },
  "kernelspec": {
   "display_name": "Python 3 (ipykernel)",
   "language": "python",
   "name": "python3"
  },
  "language_info": {
   "codemirror_mode": {
    "name": "ipython",
    "version": 3
   },
   "file_extension": ".py",
   "mimetype": "text/x-python",
   "name": "python",
   "nbconvert_exporter": "python",
   "pygments_lexer": "ipython3",
   "version": "3.11.5"
  },
  "vscode": {
   "interpreter": {
    "hash": "8a31fc8654382fa70e01b8b1b084ed875bc80468ef06668984d01fe98600013e"
   }
  }
 },
 "nbformat": 4,
 "nbformat_minor": 5
}
