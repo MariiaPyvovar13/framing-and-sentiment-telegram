{
 "cells": [
  {
   "cell_type": "markdown",
   "id": "04278307",
   "metadata": {
    "id": "04278307"
   },
   "source": [
    "# Posts filtering"
   ]
  },
  {
   "cell_type": "markdown",
   "source": [
    "Here I am filtering posts, which are relevant to the meeting."
   ],
   "metadata": {
    "collapsed": false
   },
   "id": "bb6b40fceaffd9a3"
  },
  {
   "cell_type": "code",
   "execution_count": 21,
   "outputs": [],
   "source": [
    "import pandas as pd"
   ],
   "metadata": {
    "collapsed": false,
    "ExecuteTime": {
     "end_time": "2025-07-04T08:28:44.932670Z",
     "start_time": "2025-07-04T08:28:44.925244Z"
    }
   },
   "id": "74b1dbf54ca7f5d"
  },
  {
   "cell_type": "code",
   "execution_count": 22,
   "outputs": [],
   "source": [
    "df_ko_clean = pd.read_csv(\"data/data_clean/ua_emoji/Posts_ko_clean.csv\")\n",
    "df_ds_clean = pd.read_csv(\"data/data_clean/ua_emoji/Posts_ds_clean.csv\")\n",
    "df_uo_clean = pd.read_csv(\"data/data_clean/ua_emoji/Posts_uo_clean.csv\")\n",
    "df_no_clean = pd.read_csv(\"data/data_clean/ua_emoji/Posts_no_clean.csv\")\n",
    "df_dm_clean = pd.read_csv(\"data/data_clean/ru_emoji/Posts_dm_clean.csv\")\n",
    "df_cl_clean = pd.read_csv(\"data/data_clean/ru_emoji/Posts_cl_clean.csv\")\n",
    "df_re_clean = pd.read_csv(\"data/data_clean/ru_emoji/Posts_re_clean.csv\")"
   ],
   "metadata": {
    "collapsed": false,
    "ExecuteTime": {
     "end_time": "2025-07-04T08:28:45.452824Z",
     "start_time": "2025-07-04T08:28:45.250901Z"
    }
   },
   "id": "8752f75a99e56003"
  },
  {
   "cell_type": "code",
   "execution_count": 23,
   "outputs": [],
   "source": [
    "keywords = \"зеленський|трамп|сша|зустріч|візит|переговори|обговорення|конференція|білий дім|білому домі|білого дому\"\n",
    "filtered_df_ko = df_ko_clean[df_ko_clean[\"text\"].str.contains(keywords, case=False, na=False)]\n",
    "filtered_df_ds = df_ds_clean[df_ds_clean[\"text\"].str.contains(keywords, case=False, na=False)]\n",
    "filtered_df_uo = df_uo_clean[df_uo_clean[\"text\"].str.contains(keywords, case=False, na=False)]\n",
    "filtered_df_no = df_no_clean[df_no_clean[\"text\"].str.contains(keywords, case=False, na=False)]"
   ],
   "metadata": {
    "collapsed": false,
    "ExecuteTime": {
     "end_time": "2025-07-04T08:28:45.583589Z",
     "start_time": "2025-07-04T08:28:45.526044Z"
    }
   },
   "id": "2755929fd34f5afd"
  },
  {
   "cell_type": "code",
   "execution_count": 24,
   "outputs": [],
   "source": [
    "keywords = \"зеленський|трамп|сша|встреча|визит|переговоры|обсуждение|конференция|белый дом|в белом доме|белого дома\"\n",
    "filtered_df_dm = df_dm_clean[df_dm_clean[\"text\"].str.contains(keywords, case=False, na=False)]\n",
    "filtered_df_cl = df_cl_clean[df_cl_clean[\"text\"].str.contains(keywords, case=False, na=False)]\n",
    "filtered_df_re = df_re_clean[df_re_clean[\"text\"].str.contains(keywords, case=False, na=False)]"
   ],
   "metadata": {
    "collapsed": false,
    "ExecuteTime": {
     "end_time": "2025-07-04T08:28:46.457363Z",
     "start_time": "2025-07-04T08:28:46.115154Z"
    }
   },
   "id": "6c950ce645c36984"
  },
  {
   "cell_type": "raw",
   "source": [
    "filtered_df_ko.to_excel(\"data/analysis/framing_matrix_ko_emoji.xlsx\", index=False)\n",
    "filtered_df_ds.to_excel(\"data/analysis/framing_matrix_ds_emoji.xlsx\", index=False)\n",
    "filtered_df_uo.to_excel(\"data/analysis/framing_matrix_uo_emoji.xlsx\", index=False)\n",
    "filtered_df_no.to_excel(\"data/analysis/framing_matrix_no_emoji.xlsx\", index=False)"
   ],
   "metadata": {
    "collapsed": false
   },
   "id": "bcaaab8a688f02c7"
  },
  {
   "cell_type": "raw",
   "source": [
    "filtered_df_dm.to_excel(\"data/analysis/framing_matrix_dm_emoji.xlsx\", index=False)\n",
    "filtered_df_cl.to_excel(\"data/analysis/framing_matrix_cl_emoji.xlsx\", index=False)\n",
    "filtered_df_re.to_excel(\"data/analysis/framing_matrix_re_emoji.xlsx\", index=False)"
   ],
   "metadata": {
    "collapsed": false
   },
   "id": "7d169554f44c8bae"
  }
 ],
 "metadata": {
  "colab": {
   "provenance": []
  },
  "kernelspec": {
   "display_name": "Python 3 (ipykernel)",
   "language": "python",
   "name": "python3"
  },
  "language_info": {
   "codemirror_mode": {
    "name": "ipython",
    "version": 3
   },
   "file_extension": ".py",
   "mimetype": "text/x-python",
   "name": "python",
   "nbconvert_exporter": "python",
   "pygments_lexer": "ipython3",
   "version": "3.11.5"
  },
  "vscode": {
   "interpreter": {
    "hash": "8a31fc8654382fa70e01b8b1b084ed875bc80468ef06668984d01fe98600013e"
   }
  }
 },
 "nbformat": 4,
 "nbformat_minor": 5
}
