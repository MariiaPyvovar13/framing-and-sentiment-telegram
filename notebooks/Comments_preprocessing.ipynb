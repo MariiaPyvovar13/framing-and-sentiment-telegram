{
 "cells": [
  {
   "cell_type": "markdown",
   "id": "04278307",
   "metadata": {
    "id": "04278307"
   },
   "source": [
    "# Comments analysis"
   ]
  },
  {
   "cell_type": "code",
   "execution_count": 24,
   "outputs": [
    {
     "name": "stdout",
     "output_type": "stream",
     "text": [
      "Requirement already satisfied: pip in /Applications/anaconda3/lib/python3.11/site-packages (25.1.1)\r\n",
      "Requirement already satisfied: fasttext in /Applications/anaconda3/lib/python3.11/site-packages (0.9.3)\r\n",
      "Requirement already satisfied: pybind11>=2.2 in /Applications/anaconda3/lib/python3.11/site-packages (from fasttext) (2.13.6)\r\n",
      "Requirement already satisfied: setuptools>=0.7.0 in /Applications/anaconda3/lib/python3.11/site-packages (from fasttext) (68.0.0)\r\n",
      "Requirement already satisfied: numpy in /Applications/anaconda3/lib/python3.11/site-packages (from fasttext) (1.26.4)\r\n",
      "Requirement already satisfied: emoji in /Applications/anaconda3/lib/python3.11/site-packages (0.6.0)\r\n",
      "Requirement already satisfied: pandas in /Applications/anaconda3/lib/python3.11/site-packages (1.5.3)\r\n",
      "Requirement already satisfied: emoji in /Applications/anaconda3/lib/python3.11/site-packages (0.6.0)\r\n",
      "Requirement already satisfied: openpyxl in /Applications/anaconda3/lib/python3.11/site-packages (3.0.10)\r\n",
      "Requirement already satisfied: python-dateutil>=2.8.1 in /Applications/anaconda3/lib/python3.11/site-packages (from pandas) (2.8.2)\r\n",
      "Requirement already satisfied: pytz>=2020.1 in /Applications/anaconda3/lib/python3.11/site-packages (from pandas) (2023.3.post1)\r\n",
      "Requirement already satisfied: numpy>=1.21.0 in /Applications/anaconda3/lib/python3.11/site-packages (from pandas) (1.26.4)\r\n",
      "Requirement already satisfied: et_xmlfile in /Applications/anaconda3/lib/python3.11/site-packages (from openpyxl) (1.1.0)\r\n",
      "Requirement already satisfied: six>=1.5 in /Applications/anaconda3/lib/python3.11/site-packages (from python-dateutil>=2.8.1->pandas) (1.16.0)\r\n"
     ]
    }
   ],
   "source": [
    "! pip install --upgrade pip\n",
    "! pip install fasttext\n",
    "! pip install emoji\n",
    "! pip install pandas emoji openpyxl"
   ],
   "metadata": {
    "collapsed": false,
    "ExecuteTime": {
     "end_time": "2025-07-30T17:39:16.586509Z",
     "start_time": "2025-07-30T17:39:13.349224Z"
    }
   },
   "id": "e7c13f7a92a3e289"
  },
  {
   "cell_type": "code",
   "execution_count": 25,
   "outputs": [],
   "source": [
    "import pandas as pd\n",
    "import re\n",
    "import fasttext\n",
    "import emoji"
   ],
   "metadata": {
    "collapsed": false,
    "ExecuteTime": {
     "end_time": "2025-07-30T17:39:16.599661Z",
     "start_time": "2025-07-30T17:39:16.597605Z"
    }
   },
   "id": "b6d619d312c7589d"
  },
  {
   "cell_type": "code",
   "execution_count": 26,
   "outputs": [
    {
     "data": {
      "text/plain": "        post_id                                       comment_text  \\\n0         21462  головне що кацапи дохнуть в муках. а ті кацапи...   \n1         21462      у кожного може бути своя думка... без проблем   \n2         21462  ну ти майже такий самий стратег як радіоактивн...   \n3         21462                            так, саме так і думаю .   \n4         21462  Люди які кажуть,  що росія зайшла на Сумщину ч...   \n...         ...                                                ...   \n541662    93009                               Черномазый сын шлюхи   \n541663    93009                              Муфтий от слова муфта   \n541664    93009  Как они не поймут они потомки проигравших. Они...   \n541665    93009                              Это кто такой вообще?   \n541666    93005                                      Это что такое   \n\n                     comment_date  comment_user_id channel_orientation  \\\n0       2025-03-14 09:27:40+00:00     6.189523e+09       pro-ukrainian   \n1       2025-03-14 06:58:47+00:00     6.763106e+09       pro-ukrainian   \n2       2025-03-14 06:57:49+00:00     8.454073e+08       pro-ukrainian   \n3       2025-03-14 06:56:22+00:00     6.763106e+09       pro-ukrainian   \n4       2025-03-14 06:49:36+00:00     9.346062e+08       pro-ukrainian   \n...                           ...              ...                 ...   \n541662  2025-02-26 04:03:12+00:00     7.526166e+09         pro-russian   \n541663  2025-02-21 04:45:54+00:00     1.076707e+09         pro-russian   \n541664  2025-02-20 19:05:05+00:00     1.183544e+09         pro-russian   \n541665  2025-02-20 15:50:46+00:00     9.271602e+08         pro-russian   \n541666  2025-02-27 05:20:47+00:00     7.478964e+09         pro-russian   \n\n                    source_file  \n0       data/ua/Comments_ds.csv  \n1       data/ua/Comments_ds.csv  \n2       data/ua/Comments_ds.csv  \n3       data/ua/Comments_ds.csv  \n4       data/ua/Comments_ds.csv  \n...                         ...  \n541662  data/ru/Comments_re.csv  \n541663  data/ru/Comments_re.csv  \n541664  data/ru/Comments_re.csv  \n541665  data/ru/Comments_re.csv  \n541666  data/ru/Comments_re.csv  \n\n[541667 rows x 6 columns]",
      "text/html": "<div>\n<style scoped>\n    .dataframe tbody tr th:only-of-type {\n        vertical-align: middle;\n    }\n\n    .dataframe tbody tr th {\n        vertical-align: top;\n    }\n\n    .dataframe thead th {\n        text-align: right;\n    }\n</style>\n<table border=\"1\" class=\"dataframe\">\n  <thead>\n    <tr style=\"text-align: right;\">\n      <th></th>\n      <th>post_id</th>\n      <th>comment_text</th>\n      <th>comment_date</th>\n      <th>comment_user_id</th>\n      <th>channel_orientation</th>\n      <th>source_file</th>\n    </tr>\n  </thead>\n  <tbody>\n    <tr>\n      <th>0</th>\n      <td>21462</td>\n      <td>головне що кацапи дохнуть в муках. а ті кацапи...</td>\n      <td>2025-03-14 09:27:40+00:00</td>\n      <td>6.189523e+09</td>\n      <td>pro-ukrainian</td>\n      <td>data/ua/Comments_ds.csv</td>\n    </tr>\n    <tr>\n      <th>1</th>\n      <td>21462</td>\n      <td>у кожного може бути своя думка... без проблем</td>\n      <td>2025-03-14 06:58:47+00:00</td>\n      <td>6.763106e+09</td>\n      <td>pro-ukrainian</td>\n      <td>data/ua/Comments_ds.csv</td>\n    </tr>\n    <tr>\n      <th>2</th>\n      <td>21462</td>\n      <td>ну ти майже такий самий стратег як радіоактивн...</td>\n      <td>2025-03-14 06:57:49+00:00</td>\n      <td>8.454073e+08</td>\n      <td>pro-ukrainian</td>\n      <td>data/ua/Comments_ds.csv</td>\n    </tr>\n    <tr>\n      <th>3</th>\n      <td>21462</td>\n      <td>так, саме так і думаю .</td>\n      <td>2025-03-14 06:56:22+00:00</td>\n      <td>6.763106e+09</td>\n      <td>pro-ukrainian</td>\n      <td>data/ua/Comments_ds.csv</td>\n    </tr>\n    <tr>\n      <th>4</th>\n      <td>21462</td>\n      <td>Люди які кажуть,  що росія зайшла на Сумщину ч...</td>\n      <td>2025-03-14 06:49:36+00:00</td>\n      <td>9.346062e+08</td>\n      <td>pro-ukrainian</td>\n      <td>data/ua/Comments_ds.csv</td>\n    </tr>\n    <tr>\n      <th>...</th>\n      <td>...</td>\n      <td>...</td>\n      <td>...</td>\n      <td>...</td>\n      <td>...</td>\n      <td>...</td>\n    </tr>\n    <tr>\n      <th>541662</th>\n      <td>93009</td>\n      <td>Черномазый сын шлюхи</td>\n      <td>2025-02-26 04:03:12+00:00</td>\n      <td>7.526166e+09</td>\n      <td>pro-russian</td>\n      <td>data/ru/Comments_re.csv</td>\n    </tr>\n    <tr>\n      <th>541663</th>\n      <td>93009</td>\n      <td>Муфтий от слова муфта</td>\n      <td>2025-02-21 04:45:54+00:00</td>\n      <td>1.076707e+09</td>\n      <td>pro-russian</td>\n      <td>data/ru/Comments_re.csv</td>\n    </tr>\n    <tr>\n      <th>541664</th>\n      <td>93009</td>\n      <td>Как они не поймут они потомки проигравших. Они...</td>\n      <td>2025-02-20 19:05:05+00:00</td>\n      <td>1.183544e+09</td>\n      <td>pro-russian</td>\n      <td>data/ru/Comments_re.csv</td>\n    </tr>\n    <tr>\n      <th>541665</th>\n      <td>93009</td>\n      <td>Это кто такой вообще?</td>\n      <td>2025-02-20 15:50:46+00:00</td>\n      <td>9.271602e+08</td>\n      <td>pro-russian</td>\n      <td>data/ru/Comments_re.csv</td>\n    </tr>\n    <tr>\n      <th>541666</th>\n      <td>93005</td>\n      <td>Это что такое</td>\n      <td>2025-02-27 05:20:47+00:00</td>\n      <td>7.478964e+09</td>\n      <td>pro-russian</td>\n      <td>data/ru/Comments_re.csv</td>\n    </tr>\n  </tbody>\n</table>\n<p>541667 rows × 6 columns</p>\n</div>"
     },
     "execution_count": 26,
     "metadata": {},
     "output_type": "execute_result"
    }
   ],
   "source": [
    "# Defining file paths for Ukrainian and Russian channel comments\n",
    "ukr_files = [\n",
    "    \"data/ua/Comments_ds.csv\",\n",
    "    \"data/ua/Comments_ko.csv\",\n",
    "    \"data/ua/Comments_uo.csv\",\n",
    "    \"data/ua/Comments_no.csv\"\n",
    "]\n",
    "\n",
    "ru_files = [\n",
    "    \"data/ru/Comments_cl.csv\",\n",
    "    \"data/ru/Comments_dm.csv\",\n",
    "    \"data/ru/Comments_re.csv\"\n",
    "]\n",
    "\n",
    "# Helper function to load and label each DataFrame\n",
    "def load_and_label_comments(file_list, channel_orientation_label):\n",
    "    df_list = []\n",
    "    for file in file_list:\n",
    "        df = pd.read_csv(file)\n",
    "        df[\"channel_orientation\"] = channel_orientation_label\n",
    "        df[\"source_file\"] = file\n",
    "        df_list.append(df)\n",
    "    return pd.concat(df_list, ignore_index=True)\n",
    "\n",
    "# Loading all Ukrainian and Russian comments\n",
    "ukr_comments = load_and_label_comments(ukr_files, \"pro-ukrainian\")\n",
    "ru_comments = load_and_label_comments(ru_files, \"pro-russian\")\n",
    "\n",
    "# Combining both into a single DataFrame\n",
    "df_all_comments = pd.concat([ukr_comments, ru_comments], ignore_index=True)\n",
    "\n",
    "# Displaying basic info\n",
    "df_all_comments"
   ],
   "metadata": {
    "collapsed": false,
    "ExecuteTime": {
     "end_time": "2025-07-30T17:39:18.266127Z",
     "start_time": "2025-07-30T17:39:16.598573Z"
    }
   },
   "id": "aac14d8c0fa03fc1"
  },
  {
   "cell_type": "markdown",
   "source": [
    "### Text cleaning"
   ],
   "metadata": {
    "collapsed": false
   },
   "id": "b6697e206f7745b4"
  },
  {
   "cell_type": "code",
   "execution_count": 27,
   "outputs": [],
   "source": [
    "def clean_text(comment_text):\n",
    "    if pd.isnull(comment_text):\n",
    "        return \"\"\n",
    "    comment_text = re.sub(r\"http\\S+|www\\S+|t\\.me\\S+\", \"\", comment_text)  # remove URLs\n",
    "    comment_text = re.sub(r\"@\\w+\", \"\", comment_text)                     # remove mentions\n",
    "    comment_text = re.sub(r\"#\\w+\", \"\", comment_text)                     # remove hashtags\n",
    "    return comment_text"
   ],
   "metadata": {
    "collapsed": false,
    "ExecuteTime": {
     "end_time": "2025-07-30T17:39:18.269020Z",
     "start_time": "2025-07-30T17:39:18.259670Z"
    }
   },
   "id": "daa22eb21463fa2f"
  },
  {
   "cell_type": "code",
   "execution_count": 28,
   "outputs": [],
   "source": [
    "df_all_comments[\"comment_text\"] = df_all_comments[\"comment_text\"].apply(clean_text)"
   ],
   "metadata": {
    "collapsed": false,
    "ExecuteTime": {
     "end_time": "2025-07-30T17:39:19.015446Z",
     "start_time": "2025-07-30T17:39:18.261917Z"
    }
   },
   "id": "bf214b393fe6c159"
  },
  {
   "cell_type": "markdown",
   "source": [
    "### Detecting language"
   ],
   "metadata": {
    "collapsed": false
   },
   "id": "a26e67d9fd5f843c"
  },
  {
   "cell_type": "code",
   "execution_count": 29,
   "outputs": [],
   "source": [
    "# Loading the language detection model\n",
    "lang_model = fasttext.load_model(\"data/lid.176.ftz\")\n",
    "\n",
    "# Defining language detection function\n",
    "def detect_language(text):\n",
    "    if not isinstance(text, str) or len(text.strip()) < 10:\n",
    "        return \"unknown\"\n",
    "    prediction = lang_model.predict(text.replace('\\n', ' '), k=1)\n",
    "    return prediction[0][0].replace(\"__label__\", \"\")"
   ],
   "metadata": {
    "collapsed": false,
    "ExecuteTime": {
     "end_time": "2025-07-30T17:39:19.032808Z",
     "start_time": "2025-07-30T17:39:19.031613Z"
    }
   },
   "id": "806884a857053334"
  },
  {
   "cell_type": "code",
   "execution_count": 30,
   "outputs": [
    {
     "data": {
      "text/plain": "        post_id                                       comment_text  \\\n0         21462  головне що кацапи дохнуть в муках. а ті кацапи...   \n1         21462      у кожного може бути своя думка... без проблем   \n2         21462  ну ти майже такий самий стратег як радіоактивн...   \n3         21462                            так, саме так і думаю .   \n4         21462  Люди які кажуть,  що росія зайшла на Сумщину ч...   \n...         ...                                                ...   \n541662    93009                               Черномазый сын шлюхи   \n541663    93009                              Муфтий от слова муфта   \n541664    93009  Как они не поймут они потомки проигравших. Они...   \n541665    93009                              Это кто такой вообще?   \n541666    93005                                      Это что такое   \n\n                     comment_date  comment_user_id channel_orientation  \\\n0       2025-03-14 09:27:40+00:00     6.189523e+09       pro-ukrainian   \n1       2025-03-14 06:58:47+00:00     6.763106e+09       pro-ukrainian   \n2       2025-03-14 06:57:49+00:00     8.454073e+08       pro-ukrainian   \n3       2025-03-14 06:56:22+00:00     6.763106e+09       pro-ukrainian   \n4       2025-03-14 06:49:36+00:00     9.346062e+08       pro-ukrainian   \n...                           ...              ...                 ...   \n541662  2025-02-26 04:03:12+00:00     7.526166e+09         pro-russian   \n541663  2025-02-21 04:45:54+00:00     1.076707e+09         pro-russian   \n541664  2025-02-20 19:05:05+00:00     1.183544e+09         pro-russian   \n541665  2025-02-20 15:50:46+00:00     9.271602e+08         pro-russian   \n541666  2025-02-27 05:20:47+00:00     7.478964e+09         pro-russian   \n\n                    source_file comment_language  \n0       data/ua/Comments_ds.csv               uk  \n1       data/ua/Comments_ds.csv               uk  \n2       data/ua/Comments_ds.csv               uk  \n3       data/ua/Comments_ds.csv               uk  \n4       data/ua/Comments_ds.csv               uk  \n...                         ...              ...  \n541662  data/ru/Comments_re.csv               ru  \n541663  data/ru/Comments_re.csv               ru  \n541664  data/ru/Comments_re.csv               ru  \n541665  data/ru/Comments_re.csv               ru  \n541666  data/ru/Comments_re.csv               ru  \n\n[541667 rows x 7 columns]",
      "text/html": "<div>\n<style scoped>\n    .dataframe tbody tr th:only-of-type {\n        vertical-align: middle;\n    }\n\n    .dataframe tbody tr th {\n        vertical-align: top;\n    }\n\n    .dataframe thead th {\n        text-align: right;\n    }\n</style>\n<table border=\"1\" class=\"dataframe\">\n  <thead>\n    <tr style=\"text-align: right;\">\n      <th></th>\n      <th>post_id</th>\n      <th>comment_text</th>\n      <th>comment_date</th>\n      <th>comment_user_id</th>\n      <th>channel_orientation</th>\n      <th>source_file</th>\n      <th>comment_language</th>\n    </tr>\n  </thead>\n  <tbody>\n    <tr>\n      <th>0</th>\n      <td>21462</td>\n      <td>головне що кацапи дохнуть в муках. а ті кацапи...</td>\n      <td>2025-03-14 09:27:40+00:00</td>\n      <td>6.189523e+09</td>\n      <td>pro-ukrainian</td>\n      <td>data/ua/Comments_ds.csv</td>\n      <td>uk</td>\n    </tr>\n    <tr>\n      <th>1</th>\n      <td>21462</td>\n      <td>у кожного може бути своя думка... без проблем</td>\n      <td>2025-03-14 06:58:47+00:00</td>\n      <td>6.763106e+09</td>\n      <td>pro-ukrainian</td>\n      <td>data/ua/Comments_ds.csv</td>\n      <td>uk</td>\n    </tr>\n    <tr>\n      <th>2</th>\n      <td>21462</td>\n      <td>ну ти майже такий самий стратег як радіоактивн...</td>\n      <td>2025-03-14 06:57:49+00:00</td>\n      <td>8.454073e+08</td>\n      <td>pro-ukrainian</td>\n      <td>data/ua/Comments_ds.csv</td>\n      <td>uk</td>\n    </tr>\n    <tr>\n      <th>3</th>\n      <td>21462</td>\n      <td>так, саме так і думаю .</td>\n      <td>2025-03-14 06:56:22+00:00</td>\n      <td>6.763106e+09</td>\n      <td>pro-ukrainian</td>\n      <td>data/ua/Comments_ds.csv</td>\n      <td>uk</td>\n    </tr>\n    <tr>\n      <th>4</th>\n      <td>21462</td>\n      <td>Люди які кажуть,  що росія зайшла на Сумщину ч...</td>\n      <td>2025-03-14 06:49:36+00:00</td>\n      <td>9.346062e+08</td>\n      <td>pro-ukrainian</td>\n      <td>data/ua/Comments_ds.csv</td>\n      <td>uk</td>\n    </tr>\n    <tr>\n      <th>...</th>\n      <td>...</td>\n      <td>...</td>\n      <td>...</td>\n      <td>...</td>\n      <td>...</td>\n      <td>...</td>\n      <td>...</td>\n    </tr>\n    <tr>\n      <th>541662</th>\n      <td>93009</td>\n      <td>Черномазый сын шлюхи</td>\n      <td>2025-02-26 04:03:12+00:00</td>\n      <td>7.526166e+09</td>\n      <td>pro-russian</td>\n      <td>data/ru/Comments_re.csv</td>\n      <td>ru</td>\n    </tr>\n    <tr>\n      <th>541663</th>\n      <td>93009</td>\n      <td>Муфтий от слова муфта</td>\n      <td>2025-02-21 04:45:54+00:00</td>\n      <td>1.076707e+09</td>\n      <td>pro-russian</td>\n      <td>data/ru/Comments_re.csv</td>\n      <td>ru</td>\n    </tr>\n    <tr>\n      <th>541664</th>\n      <td>93009</td>\n      <td>Как они не поймут они потомки проигравших. Они...</td>\n      <td>2025-02-20 19:05:05+00:00</td>\n      <td>1.183544e+09</td>\n      <td>pro-russian</td>\n      <td>data/ru/Comments_re.csv</td>\n      <td>ru</td>\n    </tr>\n    <tr>\n      <th>541665</th>\n      <td>93009</td>\n      <td>Это кто такой вообще?</td>\n      <td>2025-02-20 15:50:46+00:00</td>\n      <td>9.271602e+08</td>\n      <td>pro-russian</td>\n      <td>data/ru/Comments_re.csv</td>\n      <td>ru</td>\n    </tr>\n    <tr>\n      <th>541666</th>\n      <td>93005</td>\n      <td>Это что такое</td>\n      <td>2025-02-27 05:20:47+00:00</td>\n      <td>7.478964e+09</td>\n      <td>pro-russian</td>\n      <td>data/ru/Comments_re.csv</td>\n      <td>ru</td>\n    </tr>\n  </tbody>\n</table>\n<p>541667 rows × 7 columns</p>\n</div>"
     },
     "execution_count": 30,
     "metadata": {},
     "output_type": "execute_result"
    }
   ],
   "source": [
    "df_all_comments = df_all_comments[df_all_comments[\"comment_text\"].notna()]\n",
    "df_all_comments[\"comment_language\"] = df_all_comments[\"comment_text\"].apply(detect_language)\n",
    "df_all_comments"
   ],
   "metadata": {
    "collapsed": false,
    "ExecuteTime": {
     "end_time": "2025-07-30T17:39:26.798066Z",
     "start_time": "2025-07-30T17:39:19.058134Z"
    }
   },
   "id": "ecbe4ecb4215824c"
  },
  {
   "cell_type": "markdown",
   "source": [
    "# Removing duplicates"
   ],
   "metadata": {
    "collapsed": false
   },
   "id": "bfd79d6e427dde44"
  },
  {
   "cell_type": "code",
   "execution_count": 31,
   "outputs": [],
   "source": [
    "df_all_comments = df_all_comments.drop_duplicates(subset=\"comment_text\")"
   ],
   "metadata": {
    "collapsed": false,
    "ExecuteTime": {
     "end_time": "2025-07-30T17:39:27.041183Z",
     "start_time": "2025-07-30T17:39:26.904851Z"
    }
   },
   "id": "87e12b8142dc7ce9"
  },
  {
   "cell_type": "markdown",
   "source": [
    "# Normalising whitespace"
   ],
   "metadata": {
    "collapsed": false
   },
   "id": "5c2f28abadb9b719"
  },
  {
   "cell_type": "code",
   "execution_count": 32,
   "outputs": [
    {
     "name": "stderr",
     "output_type": "stream",
     "text": [
      "/var/folders/x9/4vdx7j915qg5pvqlbqynp2dr0000gn/T/ipykernel_10749/3833355000.py:1: SettingWithCopyWarning: \n",
      "A value is trying to be set on a copy of a slice from a DataFrame\n",
      "\n",
      "See the caveats in the documentation: https://pandas.pydata.org/pandas-docs/stable/user_guide/indexing.html#returning-a-view-versus-a-copy\n",
      "  df_all_comments.loc[\"comment_text\"] = df_all_comments[\"comment_text\"].str.replace(r'\\s+', ' ', regex=True).str.strip()\n"
     ]
    }
   ],
   "source": [
    "df_all_comments.loc[\"comment_text\"] = df_all_comments[\"comment_text\"].str.replace(r'\\s+', ' ', regex=True).str.strip()"
   ],
   "metadata": {
    "collapsed": false,
    "ExecuteTime": {
     "end_time": "2025-07-30T17:39:29.201567Z",
     "start_time": "2025-07-30T17:39:27.076632Z"
    }
   },
   "id": "fba646a99aff2622"
  },
  {
   "cell_type": "markdown",
   "source": [
    "# Lowercasing"
   ],
   "metadata": {
    "collapsed": false
   },
   "id": "3a62effddff717b6"
  },
  {
   "cell_type": "code",
   "execution_count": 33,
   "outputs": [
    {
     "name": "stderr",
     "output_type": "stream",
     "text": [
      "/var/folders/x9/4vdx7j915qg5pvqlbqynp2dr0000gn/T/ipykernel_10749/1695691445.py:1: SettingWithCopyWarning: \n",
      "A value is trying to be set on a copy of a slice from a DataFrame.\n",
      "Try using .loc[row_indexer,col_indexer] = value instead\n",
      "\n",
      "See the caveats in the documentation: https://pandas.pydata.org/pandas-docs/stable/user_guide/indexing.html#returning-a-view-versus-a-copy\n",
      "  df_all_comments[\"comment_text\"] = df_all_comments[\"comment_text\"].str.lower()\n"
     ]
    },
    {
     "data": {
      "text/plain": "              post_id                                       comment_text  \\\n0             21462.0  головне що кацапи дохнуть в муках. а ті кацапи...   \n1             21462.0      у кожного може бути своя думка... без проблем   \n2             21462.0  ну ти майже такий самий стратег як радіоактивн...   \n3             21462.0                            так, саме так і думаю .   \n4             21462.0  люди які кажуть,  що росія зайшла на сумщину ч...   \n...               ...                                                ...   \n541662        93009.0                               черномазый сын шлюхи   \n541663        93009.0                              муфтий от слова муфта   \n541664        93009.0  как они не поймут они потомки проигравших. они...   \n541666        93005.0                                      это что такое   \ncomment_text      NaN                                                NaN   \n\n                           comment_date  comment_user_id channel_orientation  \\\n0             2025-03-14 09:27:40+00:00     6.189523e+09       pro-ukrainian   \n1             2025-03-14 06:58:47+00:00     6.763106e+09       pro-ukrainian   \n2             2025-03-14 06:57:49+00:00     8.454073e+08       pro-ukrainian   \n3             2025-03-14 06:56:22+00:00     6.763106e+09       pro-ukrainian   \n4             2025-03-14 06:49:36+00:00     9.346062e+08       pro-ukrainian   \n...                                 ...              ...                 ...   \n541662        2025-02-26 04:03:12+00:00     7.526166e+09         pro-russian   \n541663        2025-02-21 04:45:54+00:00     1.076707e+09         pro-russian   \n541664        2025-02-20 19:05:05+00:00     1.183544e+09         pro-russian   \n541666        2025-02-27 05:20:47+00:00     7.478964e+09         pro-russian   \ncomment_text                        NaN              NaN                 NaN   \n\n                          source_file comment_language  \n0             data/ua/Comments_ds.csv               uk  \n1             data/ua/Comments_ds.csv               uk  \n2             data/ua/Comments_ds.csv               uk  \n3             data/ua/Comments_ds.csv               uk  \n4             data/ua/Comments_ds.csv               uk  \n...                               ...              ...  \n541662        data/ru/Comments_re.csv               ru  \n541663        data/ru/Comments_re.csv               ru  \n541664        data/ru/Comments_re.csv               ru  \n541666        data/ru/Comments_re.csv               ru  \ncomment_text                      NaN              NaN  \n\n[521085 rows x 7 columns]",
      "text/html": "<div>\n<style scoped>\n    .dataframe tbody tr th:only-of-type {\n        vertical-align: middle;\n    }\n\n    .dataframe tbody tr th {\n        vertical-align: top;\n    }\n\n    .dataframe thead th {\n        text-align: right;\n    }\n</style>\n<table border=\"1\" class=\"dataframe\">\n  <thead>\n    <tr style=\"text-align: right;\">\n      <th></th>\n      <th>post_id</th>\n      <th>comment_text</th>\n      <th>comment_date</th>\n      <th>comment_user_id</th>\n      <th>channel_orientation</th>\n      <th>source_file</th>\n      <th>comment_language</th>\n    </tr>\n  </thead>\n  <tbody>\n    <tr>\n      <th>0</th>\n      <td>21462.0</td>\n      <td>головне що кацапи дохнуть в муках. а ті кацапи...</td>\n      <td>2025-03-14 09:27:40+00:00</td>\n      <td>6.189523e+09</td>\n      <td>pro-ukrainian</td>\n      <td>data/ua/Comments_ds.csv</td>\n      <td>uk</td>\n    </tr>\n    <tr>\n      <th>1</th>\n      <td>21462.0</td>\n      <td>у кожного може бути своя думка... без проблем</td>\n      <td>2025-03-14 06:58:47+00:00</td>\n      <td>6.763106e+09</td>\n      <td>pro-ukrainian</td>\n      <td>data/ua/Comments_ds.csv</td>\n      <td>uk</td>\n    </tr>\n    <tr>\n      <th>2</th>\n      <td>21462.0</td>\n      <td>ну ти майже такий самий стратег як радіоактивн...</td>\n      <td>2025-03-14 06:57:49+00:00</td>\n      <td>8.454073e+08</td>\n      <td>pro-ukrainian</td>\n      <td>data/ua/Comments_ds.csv</td>\n      <td>uk</td>\n    </tr>\n    <tr>\n      <th>3</th>\n      <td>21462.0</td>\n      <td>так, саме так і думаю .</td>\n      <td>2025-03-14 06:56:22+00:00</td>\n      <td>6.763106e+09</td>\n      <td>pro-ukrainian</td>\n      <td>data/ua/Comments_ds.csv</td>\n      <td>uk</td>\n    </tr>\n    <tr>\n      <th>4</th>\n      <td>21462.0</td>\n      <td>люди які кажуть,  що росія зайшла на сумщину ч...</td>\n      <td>2025-03-14 06:49:36+00:00</td>\n      <td>9.346062e+08</td>\n      <td>pro-ukrainian</td>\n      <td>data/ua/Comments_ds.csv</td>\n      <td>uk</td>\n    </tr>\n    <tr>\n      <th>...</th>\n      <td>...</td>\n      <td>...</td>\n      <td>...</td>\n      <td>...</td>\n      <td>...</td>\n      <td>...</td>\n      <td>...</td>\n    </tr>\n    <tr>\n      <th>541662</th>\n      <td>93009.0</td>\n      <td>черномазый сын шлюхи</td>\n      <td>2025-02-26 04:03:12+00:00</td>\n      <td>7.526166e+09</td>\n      <td>pro-russian</td>\n      <td>data/ru/Comments_re.csv</td>\n      <td>ru</td>\n    </tr>\n    <tr>\n      <th>541663</th>\n      <td>93009.0</td>\n      <td>муфтий от слова муфта</td>\n      <td>2025-02-21 04:45:54+00:00</td>\n      <td>1.076707e+09</td>\n      <td>pro-russian</td>\n      <td>data/ru/Comments_re.csv</td>\n      <td>ru</td>\n    </tr>\n    <tr>\n      <th>541664</th>\n      <td>93009.0</td>\n      <td>как они не поймут они потомки проигравших. они...</td>\n      <td>2025-02-20 19:05:05+00:00</td>\n      <td>1.183544e+09</td>\n      <td>pro-russian</td>\n      <td>data/ru/Comments_re.csv</td>\n      <td>ru</td>\n    </tr>\n    <tr>\n      <th>541666</th>\n      <td>93005.0</td>\n      <td>это что такое</td>\n      <td>2025-02-27 05:20:47+00:00</td>\n      <td>7.478964e+09</td>\n      <td>pro-russian</td>\n      <td>data/ru/Comments_re.csv</td>\n      <td>ru</td>\n    </tr>\n    <tr>\n      <th>comment_text</th>\n      <td>NaN</td>\n      <td>NaN</td>\n      <td>NaN</td>\n      <td>NaN</td>\n      <td>NaN</td>\n      <td>NaN</td>\n      <td>NaN</td>\n    </tr>\n  </tbody>\n</table>\n<p>521085 rows × 7 columns</p>\n</div>"
     },
     "execution_count": 33,
     "metadata": {},
     "output_type": "execute_result"
    }
   ],
   "source": [
    "df_all_comments[\"comment_text\"] = df_all_comments[\"comment_text\"].str.lower()\n",
    "df_all_comments"
   ],
   "metadata": {
    "collapsed": false,
    "ExecuteTime": {
     "end_time": "2025-07-30T17:39:29.461707Z",
     "start_time": "2025-07-30T17:39:29.198175Z"
    }
   },
   "id": "1b97300f2d88d15b"
  },
  {
   "cell_type": "markdown",
   "source": [
    "# Transforming emotion into a text\n"
   ],
   "metadata": {
    "collapsed": false
   },
   "id": "cfa05159c4fa93bc"
  },
  {
   "cell_type": "code",
   "execution_count": 34,
   "outputs": [],
   "source": [
    "# Function to transform emojis\n",
    "def transform_emojis(text):\n",
    "    if pd.isnull(text):\n",
    "        return \"\"\n",
    "    return emoji.demojize(text, delimiters=(\":\",\" \"))"
   ],
   "metadata": {
    "collapsed": false,
    "ExecuteTime": {
     "end_time": "2025-07-30T17:39:29.462353Z",
     "start_time": "2025-07-30T17:39:29.455960Z"
    }
   },
   "id": "523fa57ef64d8594"
  },
  {
   "cell_type": "code",
   "execution_count": 35,
   "outputs": [
    {
     "name": "stderr",
     "output_type": "stream",
     "text": [
      "/var/folders/x9/4vdx7j915qg5pvqlbqynp2dr0000gn/T/ipykernel_10749/2665326198.py:2: SettingWithCopyWarning: \n",
      "A value is trying to be set on a copy of a slice from a DataFrame.\n",
      "Try using .loc[row_indexer,col_indexer] = value instead\n",
      "\n",
      "See the caveats in the documentation: https://pandas.pydata.org/pandas-docs/stable/user_guide/indexing.html#returning-a-view-versus-a-copy\n",
      "  df_all_comments[\"text_transformed\"] = df_all_comments[\"comment_text\"].apply(transform_emojis)\n"
     ]
    },
    {
     "data": {
      "text/plain": "              post_id                                       comment_text  \\\n0             21462.0  головне що кацапи дохнуть в муках. а ті кацапи...   \n1             21462.0      у кожного може бути своя думка... без проблем   \n2             21462.0  ну ти майже такий самий стратег як радіоактивн...   \n3             21462.0                            так, саме так і думаю .   \n4             21462.0  люди які кажуть,  що росія зайшла на сумщину ч...   \n...               ...                                                ...   \n541662        93009.0                               черномазый сын шлюхи   \n541663        93009.0                              муфтий от слова муфта   \n541664        93009.0  как они не поймут они потомки проигравших. они...   \n541666        93005.0                                      это что такое   \ncomment_text      NaN                                                NaN   \n\n                           comment_date  comment_user_id channel_orientation  \\\n0             2025-03-14 09:27:40+00:00     6.189523e+09       pro-ukrainian   \n1             2025-03-14 06:58:47+00:00     6.763106e+09       pro-ukrainian   \n2             2025-03-14 06:57:49+00:00     8.454073e+08       pro-ukrainian   \n3             2025-03-14 06:56:22+00:00     6.763106e+09       pro-ukrainian   \n4             2025-03-14 06:49:36+00:00     9.346062e+08       pro-ukrainian   \n...                                 ...              ...                 ...   \n541662        2025-02-26 04:03:12+00:00     7.526166e+09         pro-russian   \n541663        2025-02-21 04:45:54+00:00     1.076707e+09         pro-russian   \n541664        2025-02-20 19:05:05+00:00     1.183544e+09         pro-russian   \n541666        2025-02-27 05:20:47+00:00     7.478964e+09         pro-russian   \ncomment_text                        NaN              NaN                 NaN   \n\n                          source_file comment_language  \\\n0             data/ua/Comments_ds.csv               uk   \n1             data/ua/Comments_ds.csv               uk   \n2             data/ua/Comments_ds.csv               uk   \n3             data/ua/Comments_ds.csv               uk   \n4             data/ua/Comments_ds.csv               uk   \n...                               ...              ...   \n541662        data/ru/Comments_re.csv               ru   \n541663        data/ru/Comments_re.csv               ru   \n541664        data/ru/Comments_re.csv               ru   \n541666        data/ru/Comments_re.csv               ru   \ncomment_text                      NaN              NaN   \n\n                                               text_transformed  \n0             головне що кацапи дохнуть в муках. а ті кацапи...  \n1                 у кожного може бути своя думка... без проблем  \n2             ну ти майже такий самий стратег як радіоактивн...  \n3                                       так, саме так і думаю .  \n4             люди які кажуть,  що росія зайшла на сумщину ч...  \n...                                                         ...  \n541662                                     черномазый сын шлюхи  \n541663                                    муфтий от слова муфта  \n541664        как они не поймут они потомки проигравших. они...  \n541666                                            это что такое  \ncomment_text                                                     \n\n[521085 rows x 8 columns]",
      "text/html": "<div>\n<style scoped>\n    .dataframe tbody tr th:only-of-type {\n        vertical-align: middle;\n    }\n\n    .dataframe tbody tr th {\n        vertical-align: top;\n    }\n\n    .dataframe thead th {\n        text-align: right;\n    }\n</style>\n<table border=\"1\" class=\"dataframe\">\n  <thead>\n    <tr style=\"text-align: right;\">\n      <th></th>\n      <th>post_id</th>\n      <th>comment_text</th>\n      <th>comment_date</th>\n      <th>comment_user_id</th>\n      <th>channel_orientation</th>\n      <th>source_file</th>\n      <th>comment_language</th>\n      <th>text_transformed</th>\n    </tr>\n  </thead>\n  <tbody>\n    <tr>\n      <th>0</th>\n      <td>21462.0</td>\n      <td>головне що кацапи дохнуть в муках. а ті кацапи...</td>\n      <td>2025-03-14 09:27:40+00:00</td>\n      <td>6.189523e+09</td>\n      <td>pro-ukrainian</td>\n      <td>data/ua/Comments_ds.csv</td>\n      <td>uk</td>\n      <td>головне що кацапи дохнуть в муках. а ті кацапи...</td>\n    </tr>\n    <tr>\n      <th>1</th>\n      <td>21462.0</td>\n      <td>у кожного може бути своя думка... без проблем</td>\n      <td>2025-03-14 06:58:47+00:00</td>\n      <td>6.763106e+09</td>\n      <td>pro-ukrainian</td>\n      <td>data/ua/Comments_ds.csv</td>\n      <td>uk</td>\n      <td>у кожного може бути своя думка... без проблем</td>\n    </tr>\n    <tr>\n      <th>2</th>\n      <td>21462.0</td>\n      <td>ну ти майже такий самий стратег як радіоактивн...</td>\n      <td>2025-03-14 06:57:49+00:00</td>\n      <td>8.454073e+08</td>\n      <td>pro-ukrainian</td>\n      <td>data/ua/Comments_ds.csv</td>\n      <td>uk</td>\n      <td>ну ти майже такий самий стратег як радіоактивн...</td>\n    </tr>\n    <tr>\n      <th>3</th>\n      <td>21462.0</td>\n      <td>так, саме так і думаю .</td>\n      <td>2025-03-14 06:56:22+00:00</td>\n      <td>6.763106e+09</td>\n      <td>pro-ukrainian</td>\n      <td>data/ua/Comments_ds.csv</td>\n      <td>uk</td>\n      <td>так, саме так і думаю .</td>\n    </tr>\n    <tr>\n      <th>4</th>\n      <td>21462.0</td>\n      <td>люди які кажуть,  що росія зайшла на сумщину ч...</td>\n      <td>2025-03-14 06:49:36+00:00</td>\n      <td>9.346062e+08</td>\n      <td>pro-ukrainian</td>\n      <td>data/ua/Comments_ds.csv</td>\n      <td>uk</td>\n      <td>люди які кажуть,  що росія зайшла на сумщину ч...</td>\n    </tr>\n    <tr>\n      <th>...</th>\n      <td>...</td>\n      <td>...</td>\n      <td>...</td>\n      <td>...</td>\n      <td>...</td>\n      <td>...</td>\n      <td>...</td>\n      <td>...</td>\n    </tr>\n    <tr>\n      <th>541662</th>\n      <td>93009.0</td>\n      <td>черномазый сын шлюхи</td>\n      <td>2025-02-26 04:03:12+00:00</td>\n      <td>7.526166e+09</td>\n      <td>pro-russian</td>\n      <td>data/ru/Comments_re.csv</td>\n      <td>ru</td>\n      <td>черномазый сын шлюхи</td>\n    </tr>\n    <tr>\n      <th>541663</th>\n      <td>93009.0</td>\n      <td>муфтий от слова муфта</td>\n      <td>2025-02-21 04:45:54+00:00</td>\n      <td>1.076707e+09</td>\n      <td>pro-russian</td>\n      <td>data/ru/Comments_re.csv</td>\n      <td>ru</td>\n      <td>муфтий от слова муфта</td>\n    </tr>\n    <tr>\n      <th>541664</th>\n      <td>93009.0</td>\n      <td>как они не поймут они потомки проигравших. они...</td>\n      <td>2025-02-20 19:05:05+00:00</td>\n      <td>1.183544e+09</td>\n      <td>pro-russian</td>\n      <td>data/ru/Comments_re.csv</td>\n      <td>ru</td>\n      <td>как они не поймут они потомки проигравших. они...</td>\n    </tr>\n    <tr>\n      <th>541666</th>\n      <td>93005.0</td>\n      <td>это что такое</td>\n      <td>2025-02-27 05:20:47+00:00</td>\n      <td>7.478964e+09</td>\n      <td>pro-russian</td>\n      <td>data/ru/Comments_re.csv</td>\n      <td>ru</td>\n      <td>это что такое</td>\n    </tr>\n    <tr>\n      <th>comment_text</th>\n      <td>NaN</td>\n      <td>NaN</td>\n      <td>NaN</td>\n      <td>NaN</td>\n      <td>NaN</td>\n      <td>NaN</td>\n      <td>NaN</td>\n      <td></td>\n    </tr>\n  </tbody>\n</table>\n<p>521085 rows × 8 columns</p>\n</div>"
     },
     "execution_count": 35,
     "metadata": {},
     "output_type": "execute_result"
    }
   ],
   "source": [
    "# Applying transformation to the \"text\" column\n",
    "df_all_comments[\"text_transformed\"] = df_all_comments[\"comment_text\"].apply(transform_emojis)\n",
    "df_all_comments"
   ],
   "metadata": {
    "collapsed": false,
    "ExecuteTime": {
     "end_time": "2025-07-30T17:41:08.218191Z",
     "start_time": "2025-07-30T17:39:29.459262Z"
    }
   },
   "id": "e9b7b4d0b8e08393"
  },
  {
   "cell_type": "markdown",
   "source": [
    "# Merging posts with comments datasets"
   ],
   "metadata": {
    "collapsed": false
   },
   "id": "20141b2cfeeb241"
  },
  {
   "cell_type": "code",
   "execution_count": 36,
   "outputs": [
    {
     "data": {
      "text/plain": "     post_id                 date  \\\n0     156507  2025-03-04 08:47:39   \n1     156500  2025-03-04 07:28:05   \n2     156491  2025-03-04 03:15:49   \n3     156489  2025-03-04 02:47:15   \n4     156483  2025-03-04 00:38:57   \n..       ...                  ...   \n317    95885  2025-02-27 18:33:14   \n318    95884  2025-02-27 18:28:36   \n319    95883  2025-02-27 18:22:07   \n320    95881  2025-02-27 18:10:26   \n321    95871  2025-02-27 16:26:03   \n\n                                                  text   views  forwards  \\\n0    американские сми заявляют, что вчера венгрия з...  205470       292   \n1    бывший мэр нью-йорка и адвокат трампа рудольф ...  216760       642   \n2    **вице-президент сша вэнс:**\\n\\n1. украина не ...  238309       544   \n3    **зеленский укусил руку, которая его кормит, к...  223542       322   \n4    **белый дом подтвердил приостановку военной по...  212596       612   \n..                                                 ...     ...       ...   \n317  **мої стосунки з зеленським стали \"дещо напруж...  225883       236   \n318  **❗️я не можу повірити, що назвав президента з...  229000      1562   \n319  ❗️**трамп на запитання, чи вважає він, як і ра...  226815      1520   \n320  ❗️**я не думаю, що путін знову вторгнеться, як...  218506       237   \n321  ❗️**трамп продовжив на рік дію санкцій проти р...  212636       652   \n\n        channel_id  channel_name language   date_only  \\\n0   -1001101806611  boris_rozhin       ru  2025-03-04   \n1   -1001101806611  boris_rozhin       ru  2025-03-04   \n2   -1001101806611  boris_rozhin       ru  2025-03-04   \n3   -1001101806611  boris_rozhin       ru  2025-03-04   \n4   -1001101806611  boris_rozhin       ru  2025-03-04   \n..             ...           ...      ...         ...   \n317 -1001233777422       UaOnlii       uk  2025-02-27   \n318 -1001233777422       UaOnlii       uk  2025-02-27   \n319 -1001233777422       UaOnlii       uk  2025-02-27   \n320 -1001233777422       UaOnlii       uk  2025-02-27   \n321 -1001233777422       UaOnlii       uk  2025-02-27   \n\n                                      text_transformed  ...  dehumanization  \\\n0    американские сми заявляют, что вчера венгрия з...  ...             1.0   \n1    бывший мэр нью-йорка и адвокат трампа рудольф ...  ...             1.0   \n2    **вице-президент сша вэнс:**\\n\\n1. украина не ...  ...             0.0   \n3    **зеленский укусил руку, которая его кормит, к...  ...             0.0   \n4    **белый дом подтвердил приостановку военной по...  ...             0.0   \n..                                                 ...  ...             ...   \n317  **мої стосунки з зеленським стали \"дещо напруж...  ...             0.0   \n318  **:exclamation_mark я не можу повірити, що наз...  ...             0.0   \n319  :exclamation_mark **трамп на запитання, чи вва...  ...             0.0   \n320  :exclamation_mark **я не думаю, що путін знову...  ...             NaN   \n321  :exclamation_mark **трамп продовжив на рік дію...  ...             0.0   \n\n     mockery credibility USA_blame Russia_blame  \\\n0        1.0         NaN       1.0          0.0   \n1        1.0         1.0       0.0          0.0   \n2        0.0         1.0       0.0          0.0   \n3        0.0         0.0       0.0          0.0   \n4        1.0         1.0       0.0          0.0   \n..       ...         ...       ...          ...   \n317      1.0         2.0       1.0          0.0   \n318      1.0         2.0       1.0          0.0   \n319      0.0         2.0       1.0          0.0   \n320      NaN         2.0       NaN          NaN   \n321      0.0         2.0       0.0          1.0   \n\n                                  propaganda_technique  \\\n0    sarcasm, rhetorical ridicule, selective quotin...   \n1       sarcasm, rhetorical ridicule, emotional appeal   \n2    rhetorical assertion, simplification, attribut...   \n3    metaphor of subordination, emotional appeal, m...   \n4    rhetorical intimidation, emotional appeal, moc...   \n..                                                 ...   \n317     sarcasm, rhetorical question, emotional appeal   \n318     sarcasm, rhetorical ridicule, emotional appeal   \n319        rhetorical understatement, implied critique   \n320                                                NaN   \n321           emotional appeal, rhetorical endorsement   \n\n                                     narrative_summary  source           bloc  \\\n0    Ukraine must grovel to Trump and the EU for su...      cl    pro-russian   \n1    Giuliani joined in denouncing Zelensky, and mo...      cl    pro-russian   \n2    Vance said Ukraine is incapable of continuing ...      cl    pro-russian   \n3    Even though presented as a “quote,” no evidenc...      cl    pro-russian   \n4    The White House confirmed suspension of aid an...      cl    pro-russian   \n..                                                 ...     ...            ...   \n317  Sarcastically questions why relations are tens...      uo  pro-ukrainian   \n318  Mocks Trump’s denial by sarcastically claiming...      uo  pro-ukrainian   \n319  Uses three moai emojis to signal skepticism an...      uo  pro-ukrainian   \n320                                                NaN      uo  pro-ukrainian   \n321  Welcomes the US decision to extend sanctions o...      uo  pro-ukrainian   \n\n     period  \n0      post  \n1      post  \n2      post  \n3      post  \n4      post  \n..      ...  \n317     pre  \n318     pre  \n319     pre  \n320     pre  \n321     pre  \n\n[322 rows x 32 columns]",
      "text/html": "<div>\n<style scoped>\n    .dataframe tbody tr th:only-of-type {\n        vertical-align: middle;\n    }\n\n    .dataframe tbody tr th {\n        vertical-align: top;\n    }\n\n    .dataframe thead th {\n        text-align: right;\n    }\n</style>\n<table border=\"1\" class=\"dataframe\">\n  <thead>\n    <tr style=\"text-align: right;\">\n      <th></th>\n      <th>post_id</th>\n      <th>date</th>\n      <th>text</th>\n      <th>views</th>\n      <th>forwards</th>\n      <th>channel_id</th>\n      <th>channel_name</th>\n      <th>language</th>\n      <th>date_only</th>\n      <th>text_transformed</th>\n      <th>...</th>\n      <th>dehumanization</th>\n      <th>mockery</th>\n      <th>credibility</th>\n      <th>USA_blame</th>\n      <th>Russia_blame</th>\n      <th>propaganda_technique</th>\n      <th>narrative_summary</th>\n      <th>source</th>\n      <th>bloc</th>\n      <th>period</th>\n    </tr>\n  </thead>\n  <tbody>\n    <tr>\n      <th>0</th>\n      <td>156507</td>\n      <td>2025-03-04 08:47:39</td>\n      <td>американские сми заявляют, что вчера венгрия з...</td>\n      <td>205470</td>\n      <td>292</td>\n      <td>-1001101806611</td>\n      <td>boris_rozhin</td>\n      <td>ru</td>\n      <td>2025-03-04</td>\n      <td>американские сми заявляют, что вчера венгрия з...</td>\n      <td>...</td>\n      <td>1.0</td>\n      <td>1.0</td>\n      <td>NaN</td>\n      <td>1.0</td>\n      <td>0.0</td>\n      <td>sarcasm, rhetorical ridicule, selective quotin...</td>\n      <td>Ukraine must grovel to Trump and the EU for su...</td>\n      <td>cl</td>\n      <td>pro-russian</td>\n      <td>post</td>\n    </tr>\n    <tr>\n      <th>1</th>\n      <td>156500</td>\n      <td>2025-03-04 07:28:05</td>\n      <td>бывший мэр нью-йорка и адвокат трампа рудольф ...</td>\n      <td>216760</td>\n      <td>642</td>\n      <td>-1001101806611</td>\n      <td>boris_rozhin</td>\n      <td>ru</td>\n      <td>2025-03-04</td>\n      <td>бывший мэр нью-йорка и адвокат трампа рудольф ...</td>\n      <td>...</td>\n      <td>1.0</td>\n      <td>1.0</td>\n      <td>1.0</td>\n      <td>0.0</td>\n      <td>0.0</td>\n      <td>sarcasm, rhetorical ridicule, emotional appeal</td>\n      <td>Giuliani joined in denouncing Zelensky, and mo...</td>\n      <td>cl</td>\n      <td>pro-russian</td>\n      <td>post</td>\n    </tr>\n    <tr>\n      <th>2</th>\n      <td>156491</td>\n      <td>2025-03-04 03:15:49</td>\n      <td>**вице-президент сша вэнс:**\\n\\n1. украина не ...</td>\n      <td>238309</td>\n      <td>544</td>\n      <td>-1001101806611</td>\n      <td>boris_rozhin</td>\n      <td>ru</td>\n      <td>2025-03-04</td>\n      <td>**вице-президент сша вэнс:**\\n\\n1. украина не ...</td>\n      <td>...</td>\n      <td>0.0</td>\n      <td>0.0</td>\n      <td>1.0</td>\n      <td>0.0</td>\n      <td>0.0</td>\n      <td>rhetorical assertion, simplification, attribut...</td>\n      <td>Vance said Ukraine is incapable of continuing ...</td>\n      <td>cl</td>\n      <td>pro-russian</td>\n      <td>post</td>\n    </tr>\n    <tr>\n      <th>3</th>\n      <td>156489</td>\n      <td>2025-03-04 02:47:15</td>\n      <td>**зеленский укусил руку, которая его кормит, к...</td>\n      <td>223542</td>\n      <td>322</td>\n      <td>-1001101806611</td>\n      <td>boris_rozhin</td>\n      <td>ru</td>\n      <td>2025-03-04</td>\n      <td>**зеленский укусил руку, которая его кормит, к...</td>\n      <td>...</td>\n      <td>0.0</td>\n      <td>0.0</td>\n      <td>0.0</td>\n      <td>0.0</td>\n      <td>0.0</td>\n      <td>metaphor of subordination, emotional appeal, m...</td>\n      <td>Even though presented as a “quote,” no evidenc...</td>\n      <td>cl</td>\n      <td>pro-russian</td>\n      <td>post</td>\n    </tr>\n    <tr>\n      <th>4</th>\n      <td>156483</td>\n      <td>2025-03-04 00:38:57</td>\n      <td>**белый дом подтвердил приостановку военной по...</td>\n      <td>212596</td>\n      <td>612</td>\n      <td>-1001101806611</td>\n      <td>boris_rozhin</td>\n      <td>ru</td>\n      <td>2025-03-04</td>\n      <td>**белый дом подтвердил приостановку военной по...</td>\n      <td>...</td>\n      <td>0.0</td>\n      <td>1.0</td>\n      <td>1.0</td>\n      <td>0.0</td>\n      <td>0.0</td>\n      <td>rhetorical intimidation, emotional appeal, moc...</td>\n      <td>The White House confirmed suspension of aid an...</td>\n      <td>cl</td>\n      <td>pro-russian</td>\n      <td>post</td>\n    </tr>\n    <tr>\n      <th>...</th>\n      <td>...</td>\n      <td>...</td>\n      <td>...</td>\n      <td>...</td>\n      <td>...</td>\n      <td>...</td>\n      <td>...</td>\n      <td>...</td>\n      <td>...</td>\n      <td>...</td>\n      <td>...</td>\n      <td>...</td>\n      <td>...</td>\n      <td>...</td>\n      <td>...</td>\n      <td>...</td>\n      <td>...</td>\n      <td>...</td>\n      <td>...</td>\n      <td>...</td>\n      <td>...</td>\n    </tr>\n    <tr>\n      <th>317</th>\n      <td>95885</td>\n      <td>2025-02-27 18:33:14</td>\n      <td>**мої стосунки з зеленським стали \"дещо напруж...</td>\n      <td>225883</td>\n      <td>236</td>\n      <td>-1001233777422</td>\n      <td>UaOnlii</td>\n      <td>uk</td>\n      <td>2025-02-27</td>\n      <td>**мої стосунки з зеленським стали \"дещо напруж...</td>\n      <td>...</td>\n      <td>0.0</td>\n      <td>1.0</td>\n      <td>2.0</td>\n      <td>1.0</td>\n      <td>0.0</td>\n      <td>sarcasm, rhetorical question, emotional appeal</td>\n      <td>Sarcastically questions why relations are tens...</td>\n      <td>uo</td>\n      <td>pro-ukrainian</td>\n      <td>pre</td>\n    </tr>\n    <tr>\n      <th>318</th>\n      <td>95884</td>\n      <td>2025-02-27 18:28:36</td>\n      <td>**❗️я не можу повірити, що назвав президента з...</td>\n      <td>229000</td>\n      <td>1562</td>\n      <td>-1001233777422</td>\n      <td>UaOnlii</td>\n      <td>uk</td>\n      <td>2025-02-27</td>\n      <td>**:exclamation_mark я не можу повірити, що наз...</td>\n      <td>...</td>\n      <td>0.0</td>\n      <td>1.0</td>\n      <td>2.0</td>\n      <td>1.0</td>\n      <td>0.0</td>\n      <td>sarcasm, rhetorical ridicule, emotional appeal</td>\n      <td>Mocks Trump’s denial by sarcastically claiming...</td>\n      <td>uo</td>\n      <td>pro-ukrainian</td>\n      <td>pre</td>\n    </tr>\n    <tr>\n      <th>319</th>\n      <td>95883</td>\n      <td>2025-02-27 18:22:07</td>\n      <td>❗️**трамп на запитання, чи вважає він, як і ра...</td>\n      <td>226815</td>\n      <td>1520</td>\n      <td>-1001233777422</td>\n      <td>UaOnlii</td>\n      <td>uk</td>\n      <td>2025-02-27</td>\n      <td>:exclamation_mark **трамп на запитання, чи вва...</td>\n      <td>...</td>\n      <td>0.0</td>\n      <td>0.0</td>\n      <td>2.0</td>\n      <td>1.0</td>\n      <td>0.0</td>\n      <td>rhetorical understatement, implied critique</td>\n      <td>Uses three moai emojis to signal skepticism an...</td>\n      <td>uo</td>\n      <td>pro-ukrainian</td>\n      <td>pre</td>\n    </tr>\n    <tr>\n      <th>320</th>\n      <td>95881</td>\n      <td>2025-02-27 18:10:26</td>\n      <td>❗️**я не думаю, що путін знову вторгнеться, як...</td>\n      <td>218506</td>\n      <td>237</td>\n      <td>-1001233777422</td>\n      <td>UaOnlii</td>\n      <td>uk</td>\n      <td>2025-02-27</td>\n      <td>:exclamation_mark **я не думаю, що путін знову...</td>\n      <td>...</td>\n      <td>NaN</td>\n      <td>NaN</td>\n      <td>2.0</td>\n      <td>NaN</td>\n      <td>NaN</td>\n      <td>NaN</td>\n      <td>NaN</td>\n      <td>uo</td>\n      <td>pro-ukrainian</td>\n      <td>pre</td>\n    </tr>\n    <tr>\n      <th>321</th>\n      <td>95871</td>\n      <td>2025-02-27 16:26:03</td>\n      <td>❗️**трамп продовжив на рік дію санкцій проти р...</td>\n      <td>212636</td>\n      <td>652</td>\n      <td>-1001233777422</td>\n      <td>UaOnlii</td>\n      <td>uk</td>\n      <td>2025-02-27</td>\n      <td>:exclamation_mark **трамп продовжив на рік дію...</td>\n      <td>...</td>\n      <td>0.0</td>\n      <td>0.0</td>\n      <td>2.0</td>\n      <td>0.0</td>\n      <td>1.0</td>\n      <td>emotional appeal, rhetorical endorsement</td>\n      <td>Welcomes the US decision to extend sanctions o...</td>\n      <td>uo</td>\n      <td>pro-ukrainian</td>\n      <td>pre</td>\n    </tr>\n  </tbody>\n</table>\n<p>322 rows × 32 columns</p>\n</div>"
     },
     "execution_count": 36,
     "metadata": {},
     "output_type": "execute_result"
    }
   ],
   "source": [
    "# Loading posts dataframe already with filtered relevant posts\n",
    "df_posts = pd.read_csv(\"data/analysis/processed_csv/relevant_posts.csv\")\n",
    "df_posts"
   ],
   "metadata": {
    "collapsed": false,
    "ExecuteTime": {
     "end_time": "2025-07-30T17:41:08.236639Z",
     "start_time": "2025-07-30T17:41:08.216713Z"
    }
   },
   "id": "f91a7ba8924e8d8"
  },
  {
   "cell_type": "code",
   "execution_count": 37,
   "outputs": [],
   "source": [
    "df_all_comments = df_all_comments.copy()"
   ],
   "metadata": {
    "collapsed": false,
    "ExecuteTime": {
     "end_time": "2025-07-30T17:41:08.402701Z",
     "start_time": "2025-07-30T17:41:08.237425Z"
    }
   },
   "id": "c7c64aa7d4f71c1b"
  },
  {
   "cell_type": "code",
   "execution_count": 38,
   "outputs": [],
   "source": [
    "# Parsing timestamps\n",
    "df_posts[\"date\"] = pd.to_datetime(df_posts[\"date\"], errors=\"coerce\")\n",
    "df_all_comments[\"comment_date\"] = pd.to_datetime(df_all_comments[\"comment_date\"], errors=\"coerce\")"
   ],
   "metadata": {
    "collapsed": false,
    "ExecuteTime": {
     "end_time": "2025-07-30T17:41:08.463827Z",
     "start_time": "2025-07-30T17:41:08.342872Z"
    }
   },
   "id": "b5f7cc5daf65c718"
  },
  {
   "cell_type": "code",
   "execution_count": 39,
   "outputs": [],
   "source": [
    "# Preparing post-level data (drop duplicates just in case)\n",
    "keep_columns = [\n",
    "    \"post_id\", \"date\", \"views\", \"forwards\", \"channel_id\",\n",
    "    \"channel_name\", \"source\", \"bloc\", \"period\"\n",
    "]\n",
    "df_posts_clean = df_posts[keep_columns].drop_duplicates(subset=[\"post_id\"])"
   ],
   "metadata": {
    "collapsed": false,
    "ExecuteTime": {
     "end_time": "2025-07-30T17:41:08.469104Z",
     "start_time": "2025-07-30T17:41:08.466484Z"
    }
   },
   "id": "dd8ad6372bf67a06"
  },
  {
   "cell_type": "code",
   "execution_count": 40,
   "outputs": [
    {
     "name": "stdout",
     "output_type": "stream",
     "text": [
      "float64\n",
      "int64\n"
     ]
    }
   ],
   "source": [
    "print(df_all_comments[\"post_id\"].dtype)\n",
    "print(df_posts_clean[\"post_id\"].dtype)"
   ],
   "metadata": {
    "collapsed": false,
    "ExecuteTime": {
     "end_time": "2025-07-30T17:41:08.471571Z",
     "start_time": "2025-07-30T17:41:08.469185Z"
    }
   },
   "id": "b277d45b89cb3b9"
  },
  {
   "cell_type": "code",
   "execution_count": 41,
   "outputs": [],
   "source": [
    "valid_post_ids = set(df_posts_clean[\"post_id\"])\n",
    "df_all_comments = df_all_comments[df_all_comments[\"post_id\"].isin(valid_post_ids)]"
   ],
   "metadata": {
    "collapsed": false,
    "ExecuteTime": {
     "end_time": "2025-07-30T17:41:08.516674Z",
     "start_time": "2025-07-30T17:41:08.499225Z"
    }
   },
   "id": "c9dbeade4a4413a3"
  },
  {
   "cell_type": "code",
   "execution_count": 42,
   "outputs": [],
   "source": [
    "# Merging post metadata into comments\n",
    "df_all = df_all_comments.merge(df_posts_clean, on=\"post_id\", how=\"left\")"
   ],
   "metadata": {
    "collapsed": false,
    "ExecuteTime": {
     "end_time": "2025-07-30T17:41:08.535326Z",
     "start_time": "2025-07-30T17:41:08.518107Z"
    }
   },
   "id": "de1c507c887474a3"
  },
  {
   "cell_type": "code",
   "execution_count": 43,
   "outputs": [
    {
     "data": {
      "text/plain": "       post_id                date              comment_date\n16933  53606.0 2025-02-28 17:26:37 2025-02-28 17:32:14+00:00\n28038  93559.0 2025-02-28 20:36:52 2025-02-28 22:23:39+00:00\n26241  93598.0 2025-03-01 19:34:28 2025-03-01 20:52:17+00:00\n12606  95985.0 2025-02-28 18:00:15 2025-02-28 19:01:34+00:00\n16443  53610.0 2025-02-28 18:27:10 2025-02-28 18:54:54+00:00",
      "text/html": "<div>\n<style scoped>\n    .dataframe tbody tr th:only-of-type {\n        vertical-align: middle;\n    }\n\n    .dataframe tbody tr th {\n        vertical-align: top;\n    }\n\n    .dataframe thead th {\n        text-align: right;\n    }\n</style>\n<table border=\"1\" class=\"dataframe\">\n  <thead>\n    <tr style=\"text-align: right;\">\n      <th></th>\n      <th>post_id</th>\n      <th>date</th>\n      <th>comment_date</th>\n    </tr>\n  </thead>\n  <tbody>\n    <tr>\n      <th>16933</th>\n      <td>53606.0</td>\n      <td>2025-02-28 17:26:37</td>\n      <td>2025-02-28 17:32:14+00:00</td>\n    </tr>\n    <tr>\n      <th>28038</th>\n      <td>93559.0</td>\n      <td>2025-02-28 20:36:52</td>\n      <td>2025-02-28 22:23:39+00:00</td>\n    </tr>\n    <tr>\n      <th>26241</th>\n      <td>93598.0</td>\n      <td>2025-03-01 19:34:28</td>\n      <td>2025-03-01 20:52:17+00:00</td>\n    </tr>\n    <tr>\n      <th>12606</th>\n      <td>95985.0</td>\n      <td>2025-02-28 18:00:15</td>\n      <td>2025-02-28 19:01:34+00:00</td>\n    </tr>\n    <tr>\n      <th>16443</th>\n      <td>53610.0</td>\n      <td>2025-02-28 18:27:10</td>\n      <td>2025-02-28 18:54:54+00:00</td>\n    </tr>\n  </tbody>\n</table>\n</div>"
     },
     "execution_count": 43,
     "metadata": {},
     "output_type": "execute_result"
    }
   ],
   "source": [
    "df_all[[\"post_id\", \"date\", \"comment_date\"]].dropna().sample(5)"
   ],
   "metadata": {
    "collapsed": false,
    "ExecuteTime": {
     "end_time": "2025-07-30T17:41:08.556667Z",
     "start_time": "2025-07-30T17:41:08.536460Z"
    }
   },
   "id": "557cb141fa21d363"
  },
  {
   "cell_type": "code",
   "execution_count": 44,
   "outputs": [],
   "source": [
    "# Normalizing timezones (make both tz-naive)\n",
    "try:\n",
    "    df_all[\"comment_date\"] = df_all[\"comment_date\"].dt.tz_localize(None)\n",
    "except Exception:\n",
    "    pass\n",
    "\n",
    "try:\n",
    "    df_all[\"date\"] = df_all[\"date\"].dt.tz_localize(None)\n",
    "except Exception:\n",
    "    pass\n",
    "\n",
    "# Compute time delta from post to comment (in hours)\n",
    "df_all[\"post_age_at_comment\"] = (\n",
    "    df_all[\"comment_date\"] - df_all[\"date\"]\n",
    ").dt.total_seconds() / 3600"
   ],
   "metadata": {
    "collapsed": false,
    "ExecuteTime": {
     "end_time": "2025-07-30T17:41:08.559186Z",
     "start_time": "2025-07-30T17:41:08.554654Z"
    }
   },
   "id": "454b708084cf1c29"
  },
  {
   "cell_type": "code",
   "execution_count": 45,
   "outputs": [
    {
     "data": {
      "text/plain": "       post_id                                       comment_text  \\\n0      21390.0  there will be no freedom, first trump is prepa...   \n1      21390.0  i think us and ukraine could have a very good ...   \n2      21390.0  ти антисеміт!!!ти гітлера підтримуєш???\\nце як...   \n3      21390.0  i think same goes for israel. lots of american...   \n4      21390.0  тобто не посилати гроші в ізраїль, бо бідним а...   \n...        ...                                                ...   \n32885  93453.0  земли - россии 🇷🇺\\nдолги - европе 🇪🇺\\nденьги -...   \n32886  93453.0  быть друзьями россии и быть с россией на равны...   \n32887  93453.0  50%? америкосы заберут 150,в этом сомневаться ...   \n32888  93453.0                                  доня агент кремля   \n32889  93453.0  ого, пареце, что сша и украина до сих пор не м...   \n\n             comment_date  comment_user_id channel_orientation  \\\n0     2025-03-02 10:28:41     7.868621e+09       pro-ukrainian   \n1     2025-03-02 10:27:22     8.170125e+09       pro-ukrainian   \n2     2025-03-02 10:10:15     7.868621e+09       pro-ukrainian   \n3     2025-03-02 10:09:37     8.170125e+09       pro-ukrainian   \n4     2025-03-02 10:08:18     7.868621e+09       pro-ukrainian   \n...                   ...              ...                 ...   \n32885 2025-02-26 15:41:55     5.057871e+08         pro-russian   \n32886 2025-02-26 15:41:24     5.203758e+09         pro-russian   \n32887 2025-02-26 15:39:35     5.169864e+09         pro-russian   \n32888 2025-02-26 15:38:56     2.033804e+09         pro-russian   \n32889 2025-02-26 15:38:55     7.454295e+09         pro-russian   \n\n                   source_file comment_language  \\\n0      data/ua/Comments_ds.csv               en   \n1      data/ua/Comments_ds.csv               en   \n2      data/ua/Comments_ds.csv               uk   \n3      data/ua/Comments_ds.csv               en   \n4      data/ua/Comments_ds.csv               uk   \n...                        ...              ...   \n32885  data/ru/Comments_re.csv               ru   \n32886  data/ru/Comments_re.csv               ru   \n32887  data/ru/Comments_re.csv               ru   \n32888  data/ru/Comments_re.csv               ru   \n32889  data/ru/Comments_re.csv               ru   \n\n                                        text_transformed                date  \\\n0      there will be no freedom, first trump is prepa... 2025-02-28 20:20:56   \n1      i think us and ukraine could have a very good ... 2025-02-28 20:20:56   \n2      ти антисеміт!!!ти гітлера підтримуєш???\\nце як... 2025-02-28 20:20:56   \n3      i think same goes for israel. lots of american... 2025-02-28 20:20:56   \n4      тобто не посилати гроші в ізраїль, бо бідним а... 2025-02-28 20:20:56   \n...                                                  ...                 ...   \n32885  земли - россии :Russia \\nдолги - европе :Europ... 2025-02-26 15:37:46   \n32886  быть друзьями россии и быть с россией на равны... 2025-02-26 15:37:46   \n32887  50%? америкосы заберут 150,в этом сомневаться ... 2025-02-26 15:37:46   \n32888                                  доня агент кремля 2025-02-26 15:37:46   \n32889  ого, пареце, что сша и украина до сих пор не м... 2025-02-26 15:37:46   \n\n        views  forwards     channel_id  channel_name source           bloc  \\\n0      441866      1146 -1001469021333   DeepStateUA     ds  pro-ukrainian   \n1      441866      1146 -1001469021333   DeepStateUA     ds  pro-ukrainian   \n2      441866      1146 -1001469021333   DeepStateUA     ds  pro-ukrainian   \n3      441866      1146 -1001469021333   DeepStateUA     ds  pro-ukrainian   \n4      441866      1146 -1001469021333   DeepStateUA     ds  pro-ukrainian   \n...       ...       ...            ...           ...    ...            ...   \n32885  397626      1383 -1001260622817  readovkanews     re    pro-russian   \n32886  397626      1383 -1001260622817  readovkanews     re    pro-russian   \n32887  397626      1383 -1001260622817  readovkanews     re    pro-russian   \n32888  397626      1383 -1001260622817  readovkanews     re    pro-russian   \n32889  397626      1383 -1001260622817  readovkanews     re    pro-russian   \n\n      period  post_age_at_comment  \n0       post            38.129167  \n1       post            38.107222  \n2       post            37.821944  \n3       post            37.811389  \n4       post            37.789444  \n...      ...                  ...  \n32885    pre             0.069167  \n32886    pre             0.060556  \n32887    pre             0.030278  \n32888    pre             0.019444  \n32889    pre             0.019167  \n\n[32890 rows x 17 columns]",
      "text/html": "<div>\n<style scoped>\n    .dataframe tbody tr th:only-of-type {\n        vertical-align: middle;\n    }\n\n    .dataframe tbody tr th {\n        vertical-align: top;\n    }\n\n    .dataframe thead th {\n        text-align: right;\n    }\n</style>\n<table border=\"1\" class=\"dataframe\">\n  <thead>\n    <tr style=\"text-align: right;\">\n      <th></th>\n      <th>post_id</th>\n      <th>comment_text</th>\n      <th>comment_date</th>\n      <th>comment_user_id</th>\n      <th>channel_orientation</th>\n      <th>source_file</th>\n      <th>comment_language</th>\n      <th>text_transformed</th>\n      <th>date</th>\n      <th>views</th>\n      <th>forwards</th>\n      <th>channel_id</th>\n      <th>channel_name</th>\n      <th>source</th>\n      <th>bloc</th>\n      <th>period</th>\n      <th>post_age_at_comment</th>\n    </tr>\n  </thead>\n  <tbody>\n    <tr>\n      <th>0</th>\n      <td>21390.0</td>\n      <td>there will be no freedom, first trump is prepa...</td>\n      <td>2025-03-02 10:28:41</td>\n      <td>7.868621e+09</td>\n      <td>pro-ukrainian</td>\n      <td>data/ua/Comments_ds.csv</td>\n      <td>en</td>\n      <td>there will be no freedom, first trump is prepa...</td>\n      <td>2025-02-28 20:20:56</td>\n      <td>441866</td>\n      <td>1146</td>\n      <td>-1001469021333</td>\n      <td>DeepStateUA</td>\n      <td>ds</td>\n      <td>pro-ukrainian</td>\n      <td>post</td>\n      <td>38.129167</td>\n    </tr>\n    <tr>\n      <th>1</th>\n      <td>21390.0</td>\n      <td>i think us and ukraine could have a very good ...</td>\n      <td>2025-03-02 10:27:22</td>\n      <td>8.170125e+09</td>\n      <td>pro-ukrainian</td>\n      <td>data/ua/Comments_ds.csv</td>\n      <td>en</td>\n      <td>i think us and ukraine could have a very good ...</td>\n      <td>2025-02-28 20:20:56</td>\n      <td>441866</td>\n      <td>1146</td>\n      <td>-1001469021333</td>\n      <td>DeepStateUA</td>\n      <td>ds</td>\n      <td>pro-ukrainian</td>\n      <td>post</td>\n      <td>38.107222</td>\n    </tr>\n    <tr>\n      <th>2</th>\n      <td>21390.0</td>\n      <td>ти антисеміт!!!ти гітлера підтримуєш???\\nце як...</td>\n      <td>2025-03-02 10:10:15</td>\n      <td>7.868621e+09</td>\n      <td>pro-ukrainian</td>\n      <td>data/ua/Comments_ds.csv</td>\n      <td>uk</td>\n      <td>ти антисеміт!!!ти гітлера підтримуєш???\\nце як...</td>\n      <td>2025-02-28 20:20:56</td>\n      <td>441866</td>\n      <td>1146</td>\n      <td>-1001469021333</td>\n      <td>DeepStateUA</td>\n      <td>ds</td>\n      <td>pro-ukrainian</td>\n      <td>post</td>\n      <td>37.821944</td>\n    </tr>\n    <tr>\n      <th>3</th>\n      <td>21390.0</td>\n      <td>i think same goes for israel. lots of american...</td>\n      <td>2025-03-02 10:09:37</td>\n      <td>8.170125e+09</td>\n      <td>pro-ukrainian</td>\n      <td>data/ua/Comments_ds.csv</td>\n      <td>en</td>\n      <td>i think same goes for israel. lots of american...</td>\n      <td>2025-02-28 20:20:56</td>\n      <td>441866</td>\n      <td>1146</td>\n      <td>-1001469021333</td>\n      <td>DeepStateUA</td>\n      <td>ds</td>\n      <td>pro-ukrainian</td>\n      <td>post</td>\n      <td>37.811389</td>\n    </tr>\n    <tr>\n      <th>4</th>\n      <td>21390.0</td>\n      <td>тобто не посилати гроші в ізраїль, бо бідним а...</td>\n      <td>2025-03-02 10:08:18</td>\n      <td>7.868621e+09</td>\n      <td>pro-ukrainian</td>\n      <td>data/ua/Comments_ds.csv</td>\n      <td>uk</td>\n      <td>тобто не посилати гроші в ізраїль, бо бідним а...</td>\n      <td>2025-02-28 20:20:56</td>\n      <td>441866</td>\n      <td>1146</td>\n      <td>-1001469021333</td>\n      <td>DeepStateUA</td>\n      <td>ds</td>\n      <td>pro-ukrainian</td>\n      <td>post</td>\n      <td>37.789444</td>\n    </tr>\n    <tr>\n      <th>...</th>\n      <td>...</td>\n      <td>...</td>\n      <td>...</td>\n      <td>...</td>\n      <td>...</td>\n      <td>...</td>\n      <td>...</td>\n      <td>...</td>\n      <td>...</td>\n      <td>...</td>\n      <td>...</td>\n      <td>...</td>\n      <td>...</td>\n      <td>...</td>\n      <td>...</td>\n      <td>...</td>\n      <td>...</td>\n    </tr>\n    <tr>\n      <th>32885</th>\n      <td>93453.0</td>\n      <td>земли - россии 🇷🇺\\nдолги - европе 🇪🇺\\nденьги -...</td>\n      <td>2025-02-26 15:41:55</td>\n      <td>5.057871e+08</td>\n      <td>pro-russian</td>\n      <td>data/ru/Comments_re.csv</td>\n      <td>ru</td>\n      <td>земли - россии :Russia \\nдолги - европе :Europ...</td>\n      <td>2025-02-26 15:37:46</td>\n      <td>397626</td>\n      <td>1383</td>\n      <td>-1001260622817</td>\n      <td>readovkanews</td>\n      <td>re</td>\n      <td>pro-russian</td>\n      <td>pre</td>\n      <td>0.069167</td>\n    </tr>\n    <tr>\n      <th>32886</th>\n      <td>93453.0</td>\n      <td>быть друзьями россии и быть с россией на равны...</td>\n      <td>2025-02-26 15:41:24</td>\n      <td>5.203758e+09</td>\n      <td>pro-russian</td>\n      <td>data/ru/Comments_re.csv</td>\n      <td>ru</td>\n      <td>быть друзьями россии и быть с россией на равны...</td>\n      <td>2025-02-26 15:37:46</td>\n      <td>397626</td>\n      <td>1383</td>\n      <td>-1001260622817</td>\n      <td>readovkanews</td>\n      <td>re</td>\n      <td>pro-russian</td>\n      <td>pre</td>\n      <td>0.060556</td>\n    </tr>\n    <tr>\n      <th>32887</th>\n      <td>93453.0</td>\n      <td>50%? америкосы заберут 150,в этом сомневаться ...</td>\n      <td>2025-02-26 15:39:35</td>\n      <td>5.169864e+09</td>\n      <td>pro-russian</td>\n      <td>data/ru/Comments_re.csv</td>\n      <td>ru</td>\n      <td>50%? америкосы заберут 150,в этом сомневаться ...</td>\n      <td>2025-02-26 15:37:46</td>\n      <td>397626</td>\n      <td>1383</td>\n      <td>-1001260622817</td>\n      <td>readovkanews</td>\n      <td>re</td>\n      <td>pro-russian</td>\n      <td>pre</td>\n      <td>0.030278</td>\n    </tr>\n    <tr>\n      <th>32888</th>\n      <td>93453.0</td>\n      <td>доня агент кремля</td>\n      <td>2025-02-26 15:38:56</td>\n      <td>2.033804e+09</td>\n      <td>pro-russian</td>\n      <td>data/ru/Comments_re.csv</td>\n      <td>ru</td>\n      <td>доня агент кремля</td>\n      <td>2025-02-26 15:37:46</td>\n      <td>397626</td>\n      <td>1383</td>\n      <td>-1001260622817</td>\n      <td>readovkanews</td>\n      <td>re</td>\n      <td>pro-russian</td>\n      <td>pre</td>\n      <td>0.019444</td>\n    </tr>\n    <tr>\n      <th>32889</th>\n      <td>93453.0</td>\n      <td>ого, пареце, что сша и украина до сих пор не м...</td>\n      <td>2025-02-26 15:38:55</td>\n      <td>7.454295e+09</td>\n      <td>pro-russian</td>\n      <td>data/ru/Comments_re.csv</td>\n      <td>ru</td>\n      <td>ого, пареце, что сша и украина до сих пор не м...</td>\n      <td>2025-02-26 15:37:46</td>\n      <td>397626</td>\n      <td>1383</td>\n      <td>-1001260622817</td>\n      <td>readovkanews</td>\n      <td>re</td>\n      <td>pro-russian</td>\n      <td>pre</td>\n      <td>0.019167</td>\n    </tr>\n  </tbody>\n</table>\n<p>32890 rows × 17 columns</p>\n</div>"
     },
     "execution_count": 45,
     "metadata": {},
     "output_type": "execute_result"
    }
   ],
   "source": [
    "df_all"
   ],
   "metadata": {
    "collapsed": false,
    "ExecuteTime": {
     "end_time": "2025-07-30T17:41:08.569655Z",
     "start_time": "2025-07-30T17:41:08.559627Z"
    }
   },
   "id": "ba3c9fb76e307565"
  },
  {
   "cell_type": "markdown",
   "source": [
    "post_age_at_comment is the number of hours between the time a post was published on a Telegram channel and the time a specific comment was made in response to that post.\n",
    "It’s calculated as:\n",
    "post_age_at_comment = comment_date - post_date\n",
    "\n",
    "I calculated it because:\n",
    "1. Not all comments are equally reactive. A comment written 3 minutes after a post is very different in intent and engagement than one left 3 days later.\n",
    "\n",
    " 2. By computing the age of the post at the time of each comment, I now have a temporal signal — a way to measure when users engage, not just what they say."
   ],
   "metadata": {
    "collapsed": false
   },
   "id": "177f2faa2e10990c"
  },
  {
   "cell_type": "raw",
   "source": [
    "df_all.to_csv(\"data_clean/Comments_clean.csv\", index=False)"
   ],
   "metadata": {
    "collapsed": false
   },
   "id": "bab389f8a9e319cf"
  }
 ],
 "metadata": {
  "colab": {
   "provenance": []
  },
  "kernelspec": {
   "display_name": "Python 3 (ipykernel)",
   "language": "python",
   "name": "python3"
  },
  "language_info": {
   "codemirror_mode": {
    "name": "ipython",
    "version": 3
   },
   "file_extension": ".py",
   "mimetype": "text/x-python",
   "name": "python",
   "nbconvert_exporter": "python",
   "pygments_lexer": "ipython3",
   "version": "3.11.5"
  },
  "vscode": {
   "interpreter": {
    "hash": "8a31fc8654382fa70e01b8b1b084ed875bc80468ef06668984d01fe98600013e"
   }
  }
 },
 "nbformat": 4,
 "nbformat_minor": 5
}
