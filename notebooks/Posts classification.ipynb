{
 "cells": [
  {
   "cell_type": "markdown",
   "id": "04278307",
   "metadata": {
    "id": "04278307"
   },
   "source": [
    "# Posts Classification"
   ]
  },
  {
   "cell_type": "code",
   "execution_count": 21,
   "outputs": [
    {
     "name": "stderr",
     "output_type": "stream",
     "text": [
      "[nltk_data] Downloading package punkt to\n",
      "[nltk_data]     /Users/mariiapyvovar/nltk_data...\n",
      "[nltk_data]   Package punkt is already up-to-date!\n"
     ]
    },
    {
     "data": {
      "text/plain": "True"
     },
     "execution_count": 21,
     "metadata": {},
     "output_type": "execute_result"
    }
   ],
   "source": [
    "import pandas as pd\n",
    "import re\n",
    "import nltk\n",
    "nltk.download(\"punkt\")"
   ],
   "metadata": {
    "collapsed": false,
    "ExecuteTime": {
     "end_time": "2025-07-02T16:41:07.953339Z",
     "start_time": "2025-07-02T16:41:07.936467Z"
    }
   },
   "id": "69f68c8c9e34bc5"
  },
  {
   "cell_type": "markdown",
   "source": [
    "First loading all the files with posts."
   ],
   "metadata": {
    "collapsed": false
   },
   "id": "a5ece1cc08a6cba4"
  },
  {
   "cell_type": "code",
   "execution_count": 2,
   "outputs": [],
   "source": [
    "df_ukr1 = pd.read_csv(\"data/ua/Posts_ko.csv\")"
   ],
   "metadata": {
    "collapsed": false,
    "ExecuteTime": {
     "end_time": "2025-07-01T19:17:59.463860Z",
     "start_time": "2025-07-01T19:17:59.423983Z"
    }
   },
   "id": "8e234a110ac6187d"
  },
  {
   "cell_type": "code",
   "execution_count": 3,
   "outputs": [
    {
     "data": {
      "text/plain": "   post_id                       date  \\\n0   166347  2025-03-13 20:27:58+00:00   \n1   166345  2025-03-13 19:42:49+00:00   \n2   166344  2025-03-13 18:47:06+00:00   \n3   166343  2025-03-13 18:25:06+00:00   \n4   166340  2025-03-13 17:34:22+00:00   \n\n                                                text    views  forwards  \\\n0  На перехресті Великої Житомирської та Володими...  70052.0      42.0   \n1  Зараз ми всі почули з Росії дуже передбачувані...  67290.0      14.0   \n2  Тільки сьогодні 12-річний зачепер у Соломʼянсь...  64979.0     278.0   \n3  Просто водій білого «пиріжка» виїжджає на голо...  61272.0      22.0   \n4  Багато хто питав у коментарях що саме знімала ...  61219.0     237.0   \n\n      channel_id channel_name  \n0 -1001061098805   kyivoperat  \n1 -1001061098805   kyivoperat  \n2 -1001061098805   kyivoperat  \n3 -1001061098805   kyivoperat  \n4 -1001061098805   kyivoperat  ",
      "text/html": "<div>\n<style scoped>\n    .dataframe tbody tr th:only-of-type {\n        vertical-align: middle;\n    }\n\n    .dataframe tbody tr th {\n        vertical-align: top;\n    }\n\n    .dataframe thead th {\n        text-align: right;\n    }\n</style>\n<table border=\"1\" class=\"dataframe\">\n  <thead>\n    <tr style=\"text-align: right;\">\n      <th></th>\n      <th>post_id</th>\n      <th>date</th>\n      <th>text</th>\n      <th>views</th>\n      <th>forwards</th>\n      <th>channel_id</th>\n      <th>channel_name</th>\n    </tr>\n  </thead>\n  <tbody>\n    <tr>\n      <th>0</th>\n      <td>166347</td>\n      <td>2025-03-13 20:27:58+00:00</td>\n      <td>На перехресті Великої Житомирської та Володими...</td>\n      <td>70052.0</td>\n      <td>42.0</td>\n      <td>-1001061098805</td>\n      <td>kyivoperat</td>\n    </tr>\n    <tr>\n      <th>1</th>\n      <td>166345</td>\n      <td>2025-03-13 19:42:49+00:00</td>\n      <td>Зараз ми всі почули з Росії дуже передбачувані...</td>\n      <td>67290.0</td>\n      <td>14.0</td>\n      <td>-1001061098805</td>\n      <td>kyivoperat</td>\n    </tr>\n    <tr>\n      <th>2</th>\n      <td>166344</td>\n      <td>2025-03-13 18:47:06+00:00</td>\n      <td>Тільки сьогодні 12-річний зачепер у Соломʼянсь...</td>\n      <td>64979.0</td>\n      <td>278.0</td>\n      <td>-1001061098805</td>\n      <td>kyivoperat</td>\n    </tr>\n    <tr>\n      <th>3</th>\n      <td>166343</td>\n      <td>2025-03-13 18:25:06+00:00</td>\n      <td>Просто водій білого «пиріжка» виїжджає на голо...</td>\n      <td>61272.0</td>\n      <td>22.0</td>\n      <td>-1001061098805</td>\n      <td>kyivoperat</td>\n    </tr>\n    <tr>\n      <th>4</th>\n      <td>166340</td>\n      <td>2025-03-13 17:34:22+00:00</td>\n      <td>Багато хто питав у коментарях що саме знімала ...</td>\n      <td>61219.0</td>\n      <td>237.0</td>\n      <td>-1001061098805</td>\n      <td>kyivoperat</td>\n    </tr>\n  </tbody>\n</table>\n</div>"
     },
     "execution_count": 3,
     "metadata": {},
     "output_type": "execute_result"
    }
   ],
   "source": [
    "df_ukr1.head()"
   ],
   "metadata": {
    "collapsed": false,
    "ExecuteTime": {
     "end_time": "2025-07-01T19:17:59.464778Z",
     "start_time": "2025-07-01T19:17:59.442810Z"
    }
   },
   "id": "a903f8532971b1a9"
  },
  {
   "cell_type": "code",
   "execution_count": 4,
   "outputs": [],
   "source": [
    "df_ukr2 = pd.read_csv(\"data/ua/Posts_ds.csv\")"
   ],
   "metadata": {
    "collapsed": false,
    "ExecuteTime": {
     "end_time": "2025-07-01T19:17:59.465240Z",
     "start_time": "2025-07-01T19:17:59.448417Z"
    }
   },
   "id": "ce09b02b6c6acc1b"
  },
  {
   "cell_type": "code",
   "execution_count": 5,
   "outputs": [
    {
     "data": {
      "text/plain": "   post_id                       date  \\\n0    21462  2025-03-13 21:41:55+00:00   \n1    21461  2025-03-13 18:46:49+00:00   \n2    21460  2025-03-13 17:03:33+00:00   \n3    21459  2025-03-13 13:48:11+00:00   \n4    21458  2025-03-13 12:20:54+00:00   \n\n                                                text   views  forwards  \\\n0  **🌊**** **[**36 ОБрМП**](https://t.me/ua_marin...  311822       370   \n1  **🤝 Повністю згодні з думкою наших друзів з РН...  302309       280   \n2  ⚖️ **ЄСПЛ **[**визнав**](https://hudoc.echr.co...  335154       896   \n3  **🔄**** Мапу оновлено\\n**\\n⚔️ Ворог просунувся...  296881       154   \n4  **🟡****Кадри ураження кацапні в Басівці від бі...  371653       557   \n\n      channel_id channel_name  \n0 -1001469021333  DeepStateUA  \n1 -1001469021333  DeepStateUA  \n2 -1001469021333  DeepStateUA  \n3 -1001469021333  DeepStateUA  \n4 -1001469021333  DeepStateUA  ",
      "text/html": "<div>\n<style scoped>\n    .dataframe tbody tr th:only-of-type {\n        vertical-align: middle;\n    }\n\n    .dataframe tbody tr th {\n        vertical-align: top;\n    }\n\n    .dataframe thead th {\n        text-align: right;\n    }\n</style>\n<table border=\"1\" class=\"dataframe\">\n  <thead>\n    <tr style=\"text-align: right;\">\n      <th></th>\n      <th>post_id</th>\n      <th>date</th>\n      <th>text</th>\n      <th>views</th>\n      <th>forwards</th>\n      <th>channel_id</th>\n      <th>channel_name</th>\n    </tr>\n  </thead>\n  <tbody>\n    <tr>\n      <th>0</th>\n      <td>21462</td>\n      <td>2025-03-13 21:41:55+00:00</td>\n      <td>**🌊**** **[**36 ОБрМП**](https://t.me/ua_marin...</td>\n      <td>311822</td>\n      <td>370</td>\n      <td>-1001469021333</td>\n      <td>DeepStateUA</td>\n    </tr>\n    <tr>\n      <th>1</th>\n      <td>21461</td>\n      <td>2025-03-13 18:46:49+00:00</td>\n      <td>**🤝 Повністю згодні з думкою наших друзів з РН...</td>\n      <td>302309</td>\n      <td>280</td>\n      <td>-1001469021333</td>\n      <td>DeepStateUA</td>\n    </tr>\n    <tr>\n      <th>2</th>\n      <td>21460</td>\n      <td>2025-03-13 17:03:33+00:00</td>\n      <td>⚖️ **ЄСПЛ **[**визнав**](https://hudoc.echr.co...</td>\n      <td>335154</td>\n      <td>896</td>\n      <td>-1001469021333</td>\n      <td>DeepStateUA</td>\n    </tr>\n    <tr>\n      <th>3</th>\n      <td>21459</td>\n      <td>2025-03-13 13:48:11+00:00</td>\n      <td>**🔄**** Мапу оновлено\\n**\\n⚔️ Ворог просунувся...</td>\n      <td>296881</td>\n      <td>154</td>\n      <td>-1001469021333</td>\n      <td>DeepStateUA</td>\n    </tr>\n    <tr>\n      <th>4</th>\n      <td>21458</td>\n      <td>2025-03-13 12:20:54+00:00</td>\n      <td>**🟡****Кадри ураження кацапні в Басівці від бі...</td>\n      <td>371653</td>\n      <td>557</td>\n      <td>-1001469021333</td>\n      <td>DeepStateUA</td>\n    </tr>\n  </tbody>\n</table>\n</div>"
     },
     "execution_count": 5,
     "metadata": {},
     "output_type": "execute_result"
    }
   ],
   "source": [
    "df_ukr2.head()"
   ],
   "metadata": {
    "collapsed": false,
    "ExecuteTime": {
     "end_time": "2025-07-01T19:17:59.465473Z",
     "start_time": "2025-07-01T19:17:59.458286Z"
    }
   },
   "id": "1df22cdb9adb067c"
  },
  {
   "cell_type": "code",
   "execution_count": 6,
   "outputs": [],
   "source": [
    "df_ukr3 = pd.read_csv(\"data/ua/Posts_uo.csv\")"
   ],
   "metadata": {
    "collapsed": false,
    "ExecuteTime": {
     "end_time": "2025-07-01T19:17:59.483908Z",
     "start_time": "2025-07-01T19:17:59.464104Z"
    }
   },
   "id": "ce372490da41d344"
  },
  {
   "cell_type": "code",
   "execution_count": 7,
   "outputs": [
    {
     "data": {
      "text/plain": "   post_id                       date  \\\n0    97026  2025-03-13 21:51:13+00:00   \n1    97025  2025-03-13 21:37:21+00:00   \n2    97024  2025-03-13 21:24:05+00:00   \n3    97023  2025-03-13 21:13:59+00:00   \n4    97022  2025-03-13 21:10:44+00:00   \n\n                                                text   views  forwards  \\\n0  ❗️**Трамп не вводив нових санкцій проти рф: їх...  303971       652   \n1  **❗️Завдяки діям Трампа майже всі великі росій...  292042       934   \n2  **❗️Спецпредставника США Келлога відсторонили ...  276603       688   \n3  **❗️США відновлюють постачання Україні далекоб...  274636       656   \n4  **❗️Тиша протрималася недовго: відбулися пуски...  254215       241   \n\n      channel_id channel_name  \n0 -1001233777422      UaOnlii  \n1 -1001233777422      UaOnlii  \n2 -1001233777422      UaOnlii  \n3 -1001233777422      UaOnlii  \n4 -1001233777422      UaOnlii  ",
      "text/html": "<div>\n<style scoped>\n    .dataframe tbody tr th:only-of-type {\n        vertical-align: middle;\n    }\n\n    .dataframe tbody tr th {\n        vertical-align: top;\n    }\n\n    .dataframe thead th {\n        text-align: right;\n    }\n</style>\n<table border=\"1\" class=\"dataframe\">\n  <thead>\n    <tr style=\"text-align: right;\">\n      <th></th>\n      <th>post_id</th>\n      <th>date</th>\n      <th>text</th>\n      <th>views</th>\n      <th>forwards</th>\n      <th>channel_id</th>\n      <th>channel_name</th>\n    </tr>\n  </thead>\n  <tbody>\n    <tr>\n      <th>0</th>\n      <td>97026</td>\n      <td>2025-03-13 21:51:13+00:00</td>\n      <td>❗️**Трамп не вводив нових санкцій проти рф: їх...</td>\n      <td>303971</td>\n      <td>652</td>\n      <td>-1001233777422</td>\n      <td>UaOnlii</td>\n    </tr>\n    <tr>\n      <th>1</th>\n      <td>97025</td>\n      <td>2025-03-13 21:37:21+00:00</td>\n      <td>**❗️Завдяки діям Трампа майже всі великі росій...</td>\n      <td>292042</td>\n      <td>934</td>\n      <td>-1001233777422</td>\n      <td>UaOnlii</td>\n    </tr>\n    <tr>\n      <th>2</th>\n      <td>97024</td>\n      <td>2025-03-13 21:24:05+00:00</td>\n      <td>**❗️Спецпредставника США Келлога відсторонили ...</td>\n      <td>276603</td>\n      <td>688</td>\n      <td>-1001233777422</td>\n      <td>UaOnlii</td>\n    </tr>\n    <tr>\n      <th>3</th>\n      <td>97023</td>\n      <td>2025-03-13 21:13:59+00:00</td>\n      <td>**❗️США відновлюють постачання Україні далекоб...</td>\n      <td>274636</td>\n      <td>656</td>\n      <td>-1001233777422</td>\n      <td>UaOnlii</td>\n    </tr>\n    <tr>\n      <th>4</th>\n      <td>97022</td>\n      <td>2025-03-13 21:10:44+00:00</td>\n      <td>**❗️Тиша протрималася недовго: відбулися пуски...</td>\n      <td>254215</td>\n      <td>241</td>\n      <td>-1001233777422</td>\n      <td>UaOnlii</td>\n    </tr>\n  </tbody>\n</table>\n</div>"
     },
     "execution_count": 7,
     "metadata": {},
     "output_type": "execute_result"
    }
   ],
   "source": [
    "df_ukr3.head()"
   ],
   "metadata": {
    "collapsed": false,
    "ExecuteTime": {
     "end_time": "2025-07-01T19:17:59.490103Z",
     "start_time": "2025-07-01T19:17:59.485447Z"
    }
   },
   "id": "91be801e1b4a1207"
  },
  {
   "cell_type": "code",
   "execution_count": 22,
   "outputs": [],
   "source": [
    "df_ukr4 = pd.read_csv(\"data/ua/Posts_no.csv\")"
   ],
   "metadata": {
    "collapsed": false,
    "ExecuteTime": {
     "end_time": "2025-07-02T16:41:15.818791Z",
     "start_time": "2025-07-02T16:41:15.801051Z"
    }
   },
   "id": "bdbd36eff9eb4ce7"
  },
  {
   "cell_type": "code",
   "execution_count": 23,
   "outputs": [
    {
     "data": {
      "text/plain": "   post_id                       date  \\\n0    53962  2025-03-13 21:52:57+00:00   \n1    53961  2025-03-13 21:33:51+00:00   \n2    53960  2025-03-13 19:42:14+00:00   \n3    53959  2025-03-13 17:12:42+00:00   \n4    53958  2025-03-13 15:59:01+00:00   \n\n                                                text    views  forwards  \\\n0  Головне станом на зараз: \\n\\n• Канада [виділил...  52034.0      53.0   \n1  NBC News: спецпредставника США Келлога [відсто...  55178.0     514.0   \n2  Зеленський заявив, що путін готує відмову від ...  55562.0     179.0   \n3  Трамп заявив, що путін зробив \"дуже багатообіц...  56554.0     146.0   \n4  путін вимагає гарантій, що під час 30-денного ...  58506.0     747.0   \n\n      channel_id channel_name  \n0 -1001134948258     novinach  \n1 -1001134948258     novinach  \n2 -1001134948258     novinach  \n3 -1001134948258     novinach  \n4 -1001134948258     novinach  ",
      "text/html": "<div>\n<style scoped>\n    .dataframe tbody tr th:only-of-type {\n        vertical-align: middle;\n    }\n\n    .dataframe tbody tr th {\n        vertical-align: top;\n    }\n\n    .dataframe thead th {\n        text-align: right;\n    }\n</style>\n<table border=\"1\" class=\"dataframe\">\n  <thead>\n    <tr style=\"text-align: right;\">\n      <th></th>\n      <th>post_id</th>\n      <th>date</th>\n      <th>text</th>\n      <th>views</th>\n      <th>forwards</th>\n      <th>channel_id</th>\n      <th>channel_name</th>\n    </tr>\n  </thead>\n  <tbody>\n    <tr>\n      <th>0</th>\n      <td>53962</td>\n      <td>2025-03-13 21:52:57+00:00</td>\n      <td>Головне станом на зараз: \\n\\n• Канада [виділил...</td>\n      <td>52034.0</td>\n      <td>53.0</td>\n      <td>-1001134948258</td>\n      <td>novinach</td>\n    </tr>\n    <tr>\n      <th>1</th>\n      <td>53961</td>\n      <td>2025-03-13 21:33:51+00:00</td>\n      <td>NBC News: спецпредставника США Келлога [відсто...</td>\n      <td>55178.0</td>\n      <td>514.0</td>\n      <td>-1001134948258</td>\n      <td>novinach</td>\n    </tr>\n    <tr>\n      <th>2</th>\n      <td>53960</td>\n      <td>2025-03-13 19:42:14+00:00</td>\n      <td>Зеленський заявив, що путін готує відмову від ...</td>\n      <td>55562.0</td>\n      <td>179.0</td>\n      <td>-1001134948258</td>\n      <td>novinach</td>\n    </tr>\n    <tr>\n      <th>3</th>\n      <td>53959</td>\n      <td>2025-03-13 17:12:42+00:00</td>\n      <td>Трамп заявив, що путін зробив \"дуже багатообіц...</td>\n      <td>56554.0</td>\n      <td>146.0</td>\n      <td>-1001134948258</td>\n      <td>novinach</td>\n    </tr>\n    <tr>\n      <th>4</th>\n      <td>53958</td>\n      <td>2025-03-13 15:59:01+00:00</td>\n      <td>путін вимагає гарантій, що під час 30-денного ...</td>\n      <td>58506.0</td>\n      <td>747.0</td>\n      <td>-1001134948258</td>\n      <td>novinach</td>\n    </tr>\n  </tbody>\n</table>\n</div>"
     },
     "execution_count": 23,
     "metadata": {},
     "output_type": "execute_result"
    }
   ],
   "source": [
    "df_ukr4.head()"
   ],
   "metadata": {
    "collapsed": false,
    "ExecuteTime": {
     "end_time": "2025-07-02T16:41:16.010643Z",
     "start_time": "2025-07-02T16:41:16.002887Z"
    }
   },
   "id": "dc8f97500c3b5616"
  },
  {
   "cell_type": "code",
   "execution_count": 8,
   "outputs": [],
   "source": [
    "df_rus1 = pd.read_csv(\"data/ru/Posts_dm.csv\")"
   ],
   "metadata": {
    "collapsed": false,
    "ExecuteTime": {
     "end_time": "2025-07-01T19:17:59.574570Z",
     "start_time": "2025-07-01T19:17:59.487946Z"
    }
   },
   "id": "a7a2d452f90998e1"
  },
  {
   "cell_type": "code",
   "execution_count": 9,
   "outputs": [
    {
     "data": {
      "text/plain": "   post_id                       date  \\\n0    66717  2025-03-13 20:03:47+00:00   \n1    66716  2025-03-13 19:50:18+00:00   \n2    66715  2025-03-13 19:40:59+00:00   \n3    66714  2025-03-13 19:08:55+00:00   \n4    66713  2025-03-13 19:01:43+00:00   \n\n                                                text     views  forwards  \\\n0  «…Коль в верхах большие лица\\nНе нашли для мир...  352222.0     275.0   \n1  **✨**** Сбор в** **Курскую область! ****✨****\\...  553973.0      56.0   \n2  **Курская область. Суджа**, **кадры **[**Групп...  418278.0    1029.0   \n3  [**Информация**](https://t.me/dva_majors/66712...  405044.0    4466.0   \n4                                                NaN  305629.0    5771.0   \n\n      channel_id channel_name  \n0 -1001513431778   dva_majors  \n1 -1001513431778   dva_majors  \n2 -1001513431778   dva_majors  \n3 -1001513431778   dva_majors  \n4 -1001513431778   dva_majors  ",
      "text/html": "<div>\n<style scoped>\n    .dataframe tbody tr th:only-of-type {\n        vertical-align: middle;\n    }\n\n    .dataframe tbody tr th {\n        vertical-align: top;\n    }\n\n    .dataframe thead th {\n        text-align: right;\n    }\n</style>\n<table border=\"1\" class=\"dataframe\">\n  <thead>\n    <tr style=\"text-align: right;\">\n      <th></th>\n      <th>post_id</th>\n      <th>date</th>\n      <th>text</th>\n      <th>views</th>\n      <th>forwards</th>\n      <th>channel_id</th>\n      <th>channel_name</th>\n    </tr>\n  </thead>\n  <tbody>\n    <tr>\n      <th>0</th>\n      <td>66717</td>\n      <td>2025-03-13 20:03:47+00:00</td>\n      <td>«…Коль в верхах большие лица\\nНе нашли для мир...</td>\n      <td>352222.0</td>\n      <td>275.0</td>\n      <td>-1001513431778</td>\n      <td>dva_majors</td>\n    </tr>\n    <tr>\n      <th>1</th>\n      <td>66716</td>\n      <td>2025-03-13 19:50:18+00:00</td>\n      <td>**✨**** Сбор в** **Курскую область! ****✨****\\...</td>\n      <td>553973.0</td>\n      <td>56.0</td>\n      <td>-1001513431778</td>\n      <td>dva_majors</td>\n    </tr>\n    <tr>\n      <th>2</th>\n      <td>66715</td>\n      <td>2025-03-13 19:40:59+00:00</td>\n      <td>**Курская область. Суджа**, **кадры **[**Групп...</td>\n      <td>418278.0</td>\n      <td>1029.0</td>\n      <td>-1001513431778</td>\n      <td>dva_majors</td>\n    </tr>\n    <tr>\n      <th>3</th>\n      <td>66714</td>\n      <td>2025-03-13 19:08:55+00:00</td>\n      <td>[**Информация**](https://t.me/dva_majors/66712...</td>\n      <td>405044.0</td>\n      <td>4466.0</td>\n      <td>-1001513431778</td>\n      <td>dva_majors</td>\n    </tr>\n    <tr>\n      <th>4</th>\n      <td>66713</td>\n      <td>2025-03-13 19:01:43+00:00</td>\n      <td>NaN</td>\n      <td>305629.0</td>\n      <td>5771.0</td>\n      <td>-1001513431778</td>\n      <td>dva_majors</td>\n    </tr>\n  </tbody>\n</table>\n</div>"
     },
     "execution_count": 9,
     "metadata": {},
     "output_type": "execute_result"
    }
   ],
   "source": [
    "df_rus1.head()"
   ],
   "metadata": {
    "collapsed": false,
    "ExecuteTime": {
     "end_time": "2025-07-01T19:17:59.577003Z",
     "start_time": "2025-07-01T19:17:59.521997Z"
    }
   },
   "id": "4be02ca3b6e15313"
  },
  {
   "cell_type": "code",
   "execution_count": 10,
   "outputs": [],
   "source": [
    "df_rus2 = pd.read_csv(\"data/ru/Posts_cl.csv\")"
   ],
   "metadata": {
    "collapsed": false,
    "ExecuteTime": {
     "end_time": "2025-07-01T19:17:59.577646Z",
     "start_time": "2025-07-01T19:17:59.525429Z"
    }
   },
   "id": "1b5806c2c691954e"
  },
  {
   "cell_type": "code",
   "execution_count": 11,
   "outputs": [
    {
     "data": {
      "text/plain": "   post_id                       date  \\\n0   157779  2025-03-13 23:20:52+00:00   \n1   157778  2025-03-13 23:12:01+00:00   \n2   157777  2025-03-13 22:23:01+00:00   \n3   157776  2025-03-13 22:11:29+00:00   \n4   157775  2025-03-13 22:11:29+00:00   \n\n                                                text     views  forwards  \\\n0  О тех, кто занимался военными преступлениями н...  253245.0     210.0   \n1  [Операторы](https://t.me/mod_russia/50058) FPV...  246294.0      56.0   \n2  **Европейский Союз очень и очень противный \\nЯ...  250403.0     492.0   \n3                                                NaN  248492.0     505.0   \n4  **Очередная самоделка с Покровского направлени...  254333.0     505.0   \n\n      channel_id  channel_name  \n0 -1001101806611  boris_rozhin  \n1 -1001101806611  boris_rozhin  \n2 -1001101806611  boris_rozhin  \n3 -1001101806611  boris_rozhin  \n4 -1001101806611  boris_rozhin  ",
      "text/html": "<div>\n<style scoped>\n    .dataframe tbody tr th:only-of-type {\n        vertical-align: middle;\n    }\n\n    .dataframe tbody tr th {\n        vertical-align: top;\n    }\n\n    .dataframe thead th {\n        text-align: right;\n    }\n</style>\n<table border=\"1\" class=\"dataframe\">\n  <thead>\n    <tr style=\"text-align: right;\">\n      <th></th>\n      <th>post_id</th>\n      <th>date</th>\n      <th>text</th>\n      <th>views</th>\n      <th>forwards</th>\n      <th>channel_id</th>\n      <th>channel_name</th>\n    </tr>\n  </thead>\n  <tbody>\n    <tr>\n      <th>0</th>\n      <td>157779</td>\n      <td>2025-03-13 23:20:52+00:00</td>\n      <td>О тех, кто занимался военными преступлениями н...</td>\n      <td>253245.0</td>\n      <td>210.0</td>\n      <td>-1001101806611</td>\n      <td>boris_rozhin</td>\n    </tr>\n    <tr>\n      <th>1</th>\n      <td>157778</td>\n      <td>2025-03-13 23:12:01+00:00</td>\n      <td>[Операторы](https://t.me/mod_russia/50058) FPV...</td>\n      <td>246294.0</td>\n      <td>56.0</td>\n      <td>-1001101806611</td>\n      <td>boris_rozhin</td>\n    </tr>\n    <tr>\n      <th>2</th>\n      <td>157777</td>\n      <td>2025-03-13 22:23:01+00:00</td>\n      <td>**Европейский Союз очень и очень противный \\nЯ...</td>\n      <td>250403.0</td>\n      <td>492.0</td>\n      <td>-1001101806611</td>\n      <td>boris_rozhin</td>\n    </tr>\n    <tr>\n      <th>3</th>\n      <td>157776</td>\n      <td>2025-03-13 22:11:29+00:00</td>\n      <td>NaN</td>\n      <td>248492.0</td>\n      <td>505.0</td>\n      <td>-1001101806611</td>\n      <td>boris_rozhin</td>\n    </tr>\n    <tr>\n      <th>4</th>\n      <td>157775</td>\n      <td>2025-03-13 22:11:29+00:00</td>\n      <td>**Очередная самоделка с Покровского направлени...</td>\n      <td>254333.0</td>\n      <td>505.0</td>\n      <td>-1001101806611</td>\n      <td>boris_rozhin</td>\n    </tr>\n  </tbody>\n</table>\n</div>"
     },
     "execution_count": 11,
     "metadata": {},
     "output_type": "execute_result"
    }
   ],
   "source": [
    "df_rus2.head()"
   ],
   "metadata": {
    "collapsed": false,
    "ExecuteTime": {
     "end_time": "2025-07-01T19:17:59.577899Z",
     "start_time": "2025-07-01T19:17:59.559158Z"
    }
   },
   "id": "994200c44498f6dd"
  },
  {
   "cell_type": "code",
   "execution_count": 12,
   "outputs": [],
   "source": [
    "df_rus3 = pd.read_csv(\"data/ru/Posts_re.csv\")"
   ],
   "metadata": {
    "collapsed": false,
    "ExecuteTime": {
     "end_time": "2025-07-01T19:17:59.620891Z",
     "start_time": "2025-07-01T19:17:59.562041Z"
    }
   },
   "id": "9d0cdb968c7ff293"
  },
  {
   "cell_type": "code",
   "execution_count": 13,
   "outputs": [
    {
     "data": {
      "text/plain": "   post_id                       date  \\\n0    94053  2025-03-13 19:29:58+00:00   \n1    94052  2025-03-13 18:59:58+00:00   \n2    94051  2025-03-13 18:34:58+00:00   \n3    94050  2025-03-13 18:34:58+00:00   \n4    94049  2025-03-13 17:59:58+00:00   \n\n                                                text    views  forwards  \\\n0  **Владимир Путин дипломатично расставил акцент...   959162      1495   \n1  **Подготовлены документы на снятие с розыска 1...   959836       925   \n2  **ДУМ РФ и Турция снова признаются в любви дру...  1020364      1215   \n3                                                NaN   991208      2131   \n4  **Русская армия формирует новый плацдарм за ка...   903210       675   \n\n      channel_id  channel_name  \n0 -1001260622817  readovkanews  \n1 -1001260622817  readovkanews  \n2 -1001260622817  readovkanews  \n3 -1001260622817  readovkanews  \n4 -1001260622817  readovkanews  ",
      "text/html": "<div>\n<style scoped>\n    .dataframe tbody tr th:only-of-type {\n        vertical-align: middle;\n    }\n\n    .dataframe tbody tr th {\n        vertical-align: top;\n    }\n\n    .dataframe thead th {\n        text-align: right;\n    }\n</style>\n<table border=\"1\" class=\"dataframe\">\n  <thead>\n    <tr style=\"text-align: right;\">\n      <th></th>\n      <th>post_id</th>\n      <th>date</th>\n      <th>text</th>\n      <th>views</th>\n      <th>forwards</th>\n      <th>channel_id</th>\n      <th>channel_name</th>\n    </tr>\n  </thead>\n  <tbody>\n    <tr>\n      <th>0</th>\n      <td>94053</td>\n      <td>2025-03-13 19:29:58+00:00</td>\n      <td>**Владимир Путин дипломатично расставил акцент...</td>\n      <td>959162</td>\n      <td>1495</td>\n      <td>-1001260622817</td>\n      <td>readovkanews</td>\n    </tr>\n    <tr>\n      <th>1</th>\n      <td>94052</td>\n      <td>2025-03-13 18:59:58+00:00</td>\n      <td>**Подготовлены документы на снятие с розыска 1...</td>\n      <td>959836</td>\n      <td>925</td>\n      <td>-1001260622817</td>\n      <td>readovkanews</td>\n    </tr>\n    <tr>\n      <th>2</th>\n      <td>94051</td>\n      <td>2025-03-13 18:34:58+00:00</td>\n      <td>**ДУМ РФ и Турция снова признаются в любви дру...</td>\n      <td>1020364</td>\n      <td>1215</td>\n      <td>-1001260622817</td>\n      <td>readovkanews</td>\n    </tr>\n    <tr>\n      <th>3</th>\n      <td>94050</td>\n      <td>2025-03-13 18:34:58+00:00</td>\n      <td>NaN</td>\n      <td>991208</td>\n      <td>2131</td>\n      <td>-1001260622817</td>\n      <td>readovkanews</td>\n    </tr>\n    <tr>\n      <th>4</th>\n      <td>94049</td>\n      <td>2025-03-13 17:59:58+00:00</td>\n      <td>**Русская армия формирует новый плацдарм за ка...</td>\n      <td>903210</td>\n      <td>675</td>\n      <td>-1001260622817</td>\n      <td>readovkanews</td>\n    </tr>\n  </tbody>\n</table>\n</div>"
     },
     "execution_count": 13,
     "metadata": {},
     "output_type": "execute_result"
    }
   ],
   "source": [
    "df_rus3.head()"
   ],
   "metadata": {
    "collapsed": false,
    "ExecuteTime": {
     "end_time": "2025-07-01T19:17:59.624050Z",
     "start_time": "2025-07-01T19:17:59.583484Z"
    }
   },
   "id": "e9e960f8db5719e7"
  },
  {
   "cell_type": "markdown",
   "source": [
    "# Cleaning text"
   ],
   "metadata": {
    "collapsed": false
   },
   "id": "df32338c73b8074f"
  },
  {
   "cell_type": "code",
   "execution_count": 14,
   "outputs": [],
   "source": [
    "def clean_text(text):\n",
    "    text = str(text).lower()\n",
    "    text = re.sub(r\"http\\S+|www\\S+|t.me/\\S+\", \"\", text)  # Removing links\n",
    "    text = re.sub(r\"[^a-zA-Zа-яА-ЯёЁ0-9🇺🇦🇷🇺]\", \" \", text)  # Keeping emojis and alphanum\n",
    "    text = re.sub(r\"\\s+\", \" \", text)\n",
    "    return text.strip()"
   ],
   "metadata": {
    "collapsed": false,
    "ExecuteTime": {
     "end_time": "2025-07-01T19:17:59.624111Z",
     "start_time": "2025-07-01T19:17:59.588928Z"
    }
   },
   "id": "301cc2c99dfa6a71"
  },
  {
   "cell_type": "markdown",
   "source": [
    "# Filter to Pre-Event Data"
   ],
   "metadata": {
    "collapsed": false
   },
   "id": "687a96b6e767af81"
  },
  {
   "cell_type": "code",
   "execution_count": 24,
   "outputs": [],
   "source": [
    "df_ukr1[\"date\"] = pd.to_datetime(df_ukr1[\"date\"], errors=\"coerce\")\n",
    "df_ukr2[\"date\"] = pd.to_datetime(df_ukr2[\"date\"], errors=\"coerce\")\n",
    "df_ukr3[\"date\"] = pd.to_datetime(df_ukr3[\"date\"], errors=\"coerce\")\n",
    "df_ukr4[\"date\"] = pd.to_datetime(df_ukr4[\"date\"], errors=\"coerce\")\n",
    "df_rus1[\"date\"] = pd.to_datetime(df_rus1[\"date\"], errors=\"coerce\")\n",
    "df_rus2[\"date\"] = pd.to_datetime(df_rus2[\"date\"], errors=\"coerce\")\n",
    "df_rus3[\"date\"] = pd.to_datetime(df_rus3[\"date\"], errors=\"coerce\")"
   ],
   "metadata": {
    "collapsed": false,
    "ExecuteTime": {
     "end_time": "2025-07-02T16:42:15.516467Z",
     "start_time": "2025-07-02T16:42:15.497775Z"
    }
   },
   "id": "717be2de2a3fe8c2"
  },
  {
   "cell_type": "code",
   "execution_count": 25,
   "outputs": [],
   "source": [
    "event_date = pd.Timestamp(\"2025-02-28\", tz=\"UTC\")\n",
    "\n",
    "df_ukr1_pre = df_ukr1[df_ukr1[\"date\"] < event_date]\n",
    "df_ukr2_pre = df_ukr2[df_ukr2[\"date\"] < event_date]\n",
    "df_ukr3_pre = df_ukr3[df_ukr3[\"date\"] < event_date]\n",
    "df_ukr4_pre = df_ukr4[df_ukr4[\"date\"] < event_date]\n",
    "\n",
    "df_rus1_pre = df_rus1[df_rus1[\"date\"] < event_date]\n",
    "df_rus2_pre = df_rus2[df_rus2[\"date\"] < event_date]\n",
    "df_rus3_pre = df_rus3[df_rus3[\"date\"] < event_date]"
   ],
   "metadata": {
    "collapsed": false,
    "ExecuteTime": {
     "end_time": "2025-07-02T16:42:16.462633Z",
     "start_time": "2025-07-02T16:42:16.441087Z"
    }
   },
   "id": "bccf16c5baad3e6c"
  },
  {
   "cell_type": "markdown",
   "source": [
    "# Defining kewords signed for both sides"
   ],
   "metadata": {
    "collapsed": false
   },
   "id": "b9e26a30cde32ae5"
  },
  {
   "cell_type": "markdown",
   "source": [
    "The keyword sets for Russian- and Ukrainian-aligned discourse were developed through a targeted review of political rhetoric, media reporting, and common narrative frames used by each side in the context of the Russia–Ukraine conflict.\n",
    "\n",
    "The Russian list contains phrases that are prominent in official rhetoric, state media, or pro-Russian online discussions. For example, \"киевский режим\" (“Kiev regime”) delegitimizes Ukraine’s government, \"освобождение\" (“liberation”) frames military action as justified, and \"фашисты\" (“fascists”) is used as a moral condemnation.\n",
    "\n",
    "The Ukrainian list contains terms common in Ukrainian media, activism, and public statements. Words like \"агресія\" (“aggression”) and \"окупанти\" (“occupants”) frame Russia as the aggressor, while \"герої\" (“heroes”) celebrates defenders, and \"воєнні злочини\" (“war crimes”) accuses the opponent of illegitimate acts."
   ],
   "metadata": {
    "collapsed": false
   },
   "id": "24d801118b4c6e9"
  },
  {
   "cell_type": "code",
   "execution_count": 26,
   "outputs": [],
   "source": [
    "keywords_russian = [\n",
    "\"киевский режим\",                             # Kiev regime\n",
    "    \"освобождение\",                           # liberation\n",
    "    \"фашисты\",                                # fascists\n",
    "    \"лаборатории\"                             # labs\n",
    "]\n",
    "\n",
    "keywords_ukrainian = [\n",
    "    \"агресія\",                                # aggression\n",
    "    \"герої\",                                  # heroes\n",
    "    \"окупанти\",                               # occupants\n",
    "    \"воєнні злочини\",                         # war crimes\n",
    "    \"мір\",                                    # russian world\n",
    "]"
   ],
   "metadata": {
    "collapsed": false,
    "ExecuteTime": {
     "end_time": "2025-07-02T16:42:18.301228Z",
     "start_time": "2025-07-02T16:42:18.297767Z"
    }
   },
   "id": "29333860408456f"
  },
  {
   "cell_type": "code",
   "execution_count": 27,
   "outputs": [],
   "source": [
    "def keyword_counts(df, keywords):\n",
    "    text = \" \".join(df[\"text\"].dropna().str.lower())\n",
    "    return {kw: text.count(kw) for kw in keywords}"
   ],
   "metadata": {
    "collapsed": false,
    "ExecuteTime": {
     "end_time": "2025-07-02T16:42:19.383247Z",
     "start_time": "2025-07-02T16:42:19.379610Z"
    }
   },
   "id": "ded9de00f10de030"
  },
  {
   "cell_type": "code",
   "execution_count": 28,
   "outputs": [
    {
     "name": "stdout",
     "output_type": "stream",
     "text": [
      "UKR1 Keywords: {'агресія': 1, 'герої': 5, 'окупанти': 8, 'воєнні злочини': 2, 'мір': 7}\n",
      "UKR2 Keywords: {'агресія': 0, 'герої': 3, 'окупанти': 0, 'воєнні злочини': 1, 'мір': 6}\n",
      "UKR3 Keywords: {'агресія': 2, 'герої': 7, 'окупанти': 4, 'воєнні злочини': 2, 'мір': 35}\n",
      "UKR4 Keywords: {'агресія': 1, 'герої': 1, 'окупанти': 12, 'воєнні злочини': 0, 'мір': 2}\n",
      "RUS1 Keywords: {'киевский режим': 6, 'освобождение': 9, 'фашисты': 1, 'лаборатории': 0}\n",
      "RUS2 Keywords: {'киевский режим': 2, 'освобождение': 19, 'фашисты': 4, 'лаборатории': 1}\n",
      "RUS3 Keywords: {'киевский режим': 0, 'освобождение': 6, 'фашисты': 0, 'лаборатории': 1}\n"
     ]
    }
   ],
   "source": [
    "print(\"UKR1 Keywords:\", keyword_counts(df_ukr1_pre, keywords_ukrainian))\n",
    "print(\"UKR2 Keywords:\", keyword_counts(df_ukr2_pre, keywords_ukrainian))\n",
    "print(\"UKR3 Keywords:\", keyword_counts(df_ukr3_pre, keywords_ukrainian))\n",
    "print(\"UKR4 Keywords:\", keyword_counts(df_ukr4_pre, keywords_ukrainian))\n",
    "print(\"RUS1 Keywords:\", keyword_counts(df_rus1_pre, keywords_russian))\n",
    "print(\"RUS2 Keywords:\", keyword_counts(df_rus2_pre, keywords_russian))\n",
    "print(\"RUS3 Keywords:\", keyword_counts(df_rus3_pre, keywords_russian))"
   ],
   "metadata": {
    "collapsed": false,
    "ExecuteTime": {
     "end_time": "2025-07-02T16:42:19.499795Z",
     "start_time": "2025-07-02T16:42:19.416440Z"
    }
   },
   "id": "21a9ef500a8edd63"
  }
 ],
 "metadata": {
  "colab": {
   "provenance": []
  },
  "kernelspec": {
   "display_name": "Python 3 (ipykernel)",
   "language": "python",
   "name": "python3"
  },
  "language_info": {
   "codemirror_mode": {
    "name": "ipython",
    "version": 3
   },
   "file_extension": ".py",
   "mimetype": "text/x-python",
   "name": "python",
   "nbconvert_exporter": "python",
   "pygments_lexer": "ipython3",
   "version": "3.11.5"
  },
  "vscode": {
   "interpreter": {
    "hash": "8a31fc8654382fa70e01b8b1b084ed875bc80468ef06668984d01fe98600013e"
   }
  }
 },
 "nbformat": 4,
 "nbformat_minor": 5
}
